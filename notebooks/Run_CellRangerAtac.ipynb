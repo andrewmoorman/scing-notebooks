{
 "cells": [
  {
   "cell_type": "code",
   "execution_count": 28,
   "metadata": {},
   "outputs": [],
   "source": [
    "import re, subprocess, boto3, json, shlex, mysql, os, urllib\n",
    "import pandas as pd\n",
    "import numpy as np\n",
    "from s3path import S3Path\n",
    "from pathlib import Path\n",
    "from tqdm.notebook import tqdm\n",
    "from packaging import version\n",
    "pd.set_option(\"display.max_colwidth\", 40)"
   ]
  },
  {
   "cell_type": "markdown",
   "metadata": {
    "tags": [],
    "toc-hr-collapsed": true
   },
   "source": [
    "# Define Helper Functions"
   ]
  },
  {
   "cell_type": "code",
   "execution_count": 25,
   "metadata": {},
   "outputs": [],
   "source": [
    "# FASTQ reads/indices required for each workflow\n",
    "fastq_map = {\n",
    "    'Hashtag': ['R1', 'R2'],\n",
    "    'CiteSeq': ['R1', 'R2'],\n",
    "    'AsapSeq': ['R1', 'R2', 'R3'],\n",
    "    'CellRangerATAC': ['I1', 'R1', 'R2', 'R3'],\n",
    "}"
   ]
  },
  {
   "cell_type": "code",
   "execution_count": 26,
   "metadata": {},
   "outputs": [],
   "source": [
    "# Get fastq file paths on S3 for each file id\n",
    "# Returns dictionary from id to s3 path\n",
    "# Throws exception if FASTQs don't exist for any id\n",
    "def get_fastqs(\n",
    "    path: str, # path to directory containing FASTQ files\n",
    "    fastq_file_ids: list, # FASTQ file ids needed for this run type (e.g. I1, R1, R2, etc.)\n",
    "):\n",
    "    fastq_map = dict()\n",
    "    _, bucket, key, _, _ = urllib.parse.urlsplit(path)\n",
    "    for fid in fastq_file_ids:\n",
    "        files = get_s3_objects(\n",
    "            bucket, key.lstrip(\"/\"),\n",
    "            re.compile(f\"_{fid}_\\d{{3}}.fastq.gz$\")\n",
    "        )\n",
    "        try:\n",
    "            assert files, f\"AssertionError: Missing `{fid}` archives!\"\n",
    "            fastq_map[fid] = [os.path.join(\"s3://\", bucket, str(f)) for f in files]\n",
    "        except AssertionError as err:\n",
    "            logging.warning(\"%s\\n\\t %s\", err, path)\n",
    "            return\n",
    "    return fastq_map"
   ]
  },
  {
   "cell_type": "code",
   "execution_count": 77,
   "metadata": {},
   "outputs": [],
   "source": [
    "# Extract FASTQ sample name from list of files\n",
    "# Note: FASTQ name is file name up to lane id (e.g. L001, L002, etc.)\n",
    "def get_fastqs_name(fastqs):\n",
    "    fastq_name_re = r\".*/(.*)_S\\d+_L\\d{3}_[A-Za-z]\\d_\\d{3}.fastq.gz$\"\n",
    "    fastq_names = [re.match(fastq_name_re, x)[1] for x in fastqs]\n",
    "    assert len(set(fastq_names)) == 1 # make sure all names are same\n",
    "    return fastq_names[0]"
   ]
  },
  {
   "cell_type": "code",
   "execution_count": 4,
   "metadata": {},
   "outputs": [],
   "source": [
    "# Numpy encoder for JSON from pandas series\n",
    "class NpEncoder(json.JSONEncoder):\n",
    "    def default(self, obj):\n",
    "        if isinstance(obj, np.integer):\n",
    "            return int(obj)\n",
    "        elif isinstance(obj, np.floating):\n",
    "            return float(obj)\n",
    "        elif isinstance(obj, np.ndarray):\n",
    "            return obj.tolist()\n",
    "        else:\n",
    "            return super(NpEncoder, self).default(obj)"
   ]
  },
  {
   "cell_type": "code",
   "execution_count": 5,
   "metadata": {
    "tags": []
   },
   "outputs": [],
   "source": [
    "# from SCRIdb\n",
    "def get_s3_objects(bucket, key, pattern, full_uri=False):\n",
    "    \n",
    "    s3r = boto3.resource(\"s3\")\n",
    "    bucket_s3 = s3r.Bucket(bucket)\n",
    "    objects = []\n",
    "    for obj in bucket_s3.objects.filter(Prefix=key):\n",
    "        hit = pattern.search(obj.key)\n",
    "        if hit:\n",
    "            objects.append(obj.key)\n",
    "    if full_uri:\n",
    "        objects = [f\"s3://{bucket}/{o}\" for o in objects]\n",
    "    return objects"
   ]
  },
  {
   "cell_type": "code",
   "execution_count": 6,
   "metadata": {
    "tags": []
   },
   "outputs": [],
   "source": [
    "def execute_query(query, user, password):\n",
    "    with connect(\n",
    "        host=\"peer-lab-db.cggxmlwgzzpw.us-east-1.rds.amazonaws.com\",\n",
    "        database=\"peer_lab_db\",\n",
    "        user=user,\n",
    "        password=password,\n",
    "    ) as connection:\n",
    "        with connection.cursor(buffered=True) as cursor:\n",
    "            cursor.execute(query)\n",
    "            result = cursor.fetchall()\n",
    "    return result"
   ]
  },
  {
   "cell_type": "code",
   "execution_count": 7,
   "metadata": {
    "tags": []
   },
   "outputs": [],
   "source": [
    "# Get species from database for given sample\n",
    "from mysql.connector import connect, Error\n",
    "\n",
    "def get_species(sample_id, user, password):\n",
    "    try:\n",
    "        table_sample_data = \"peer_lab_db.sample_data\"\n",
    "        table_species = \"peer_lab_db.species\"\n",
    "        table_genome_idx = \"peer_lab_db.genome_index\"\n",
    "        query = f\"\"\"\n",
    "        SELECT {table_species}.Species\n",
    "        FROM {table_species}\n",
    "        LEFT JOIN {table_genome_idx}\n",
    "        ON {table_species}.id = {table_genome_idx}.species_id\n",
    "        LEFT JOIN {table_sample_data}\n",
    "        ON {table_genome_idx}.id = {table_sample_data}.genomeIndex_id\n",
    "        WHERE {table_sample_data}.id = {sample_id}\n",
    "        \"\"\"\n",
    "        result = execute_query(query, user, password)[0][0]\n",
    "        return result\n",
    "    except Error as e:\n",
    "        print(f\"Error: {e}\")"
   ]
  },
  {
   "cell_type": "code",
   "execution_count": 8,
   "metadata": {
    "tags": []
   },
   "outputs": [],
   "source": [
    "# Get species from database for given sample\n",
    "from mysql.connector import connect, Error\n",
    "\n",
    "def get_sc_tech(sample_id, user, password):\n",
    "    try:\n",
    "        table_sample_data = \"peer_lab_db.sample_data\"\n",
    "        table_sc_tech = \"peer_lab_db.sc_tech\"\n",
    "        table_genome_idx = \"peer_lab_db.genome_index\"\n",
    "        query = f\"\"\"\n",
    "        SELECT {table_sc_tech}.sc_Tech\n",
    "        FROM {table_sc_tech}\n",
    "        LEFT JOIN {table_genome_idx}\n",
    "        ON {table_sc_tech}.id = {table_genome_idx}.scTech_id\n",
    "        LEFT JOIN {table_sample_data}\n",
    "        ON {table_genome_idx}.id = {table_sample_data}.genomeIndex_id\n",
    "        WHERE {table_sample_data}.id = {sample_id}\n",
    "        \"\"\"\n",
    "        result = execute_query(query, user, password)[0][0]\n",
    "        return result\n",
    "    except Error as e:\n",
    "        print(f\"Error: {e}\")"
   ]
  },
  {
   "cell_type": "code",
   "execution_count": 9,
   "metadata": {
    "tags": []
   },
   "outputs": [],
   "source": [
    "# Get species from database for given sample\n",
    "from mysql.connector import connect, Error\n",
    "\n",
    "def get_sample_id(sample_name, user, password):\n",
    "    try:\n",
    "        table_sample_data = \"peer_lab_db.sample_data\"\n",
    "        query = f\"\"\"\n",
    "        SELECT {table_sample_data}.id\n",
    "        FROM {table_sample_data}\n",
    "        WHERE {table_sample_data}.Sample=\"{sample_name}\"\n",
    "        \"\"\"\n",
    "        result = execute_query(query, user, password)[0][0]\n",
    "        return result\n",
    "    except Error as e:\n",
    "        print(f\"Error: {e}\")"
   ]
  },
  {
   "cell_type": "code",
   "execution_count": 10,
   "metadata": {
    "tags": []
   },
   "outputs": [],
   "source": [
    "# Get species from database for given sample\n",
    "from mysql.connector import connect, Error\n",
    "\n",
    "def get_project_id(sample_id, user, password):\n",
    "    try:\n",
    "        table_sample_data = \"peer_lab_db.sample_data\"\n",
    "        table_project_data = \"peer_lab_db.project_data\"\n",
    "        query = f\"\"\"\n",
    "        SELECT {table_project_data}.projectName\n",
    "        FROM {table_project_data}\n",
    "        LEFT JOIN {table_sample_data}\n",
    "        ON {table_project_data}.id = {table_sample_data}.projectData_id\n",
    "        WHERE {table_sample_data}.id = {sample_id}\n",
    "        \"\"\"\n",
    "        result = execute_query(query, user, password)[0][0]\n",
    "        return result\n",
    "    except Error as e:\n",
    "        print(f\"Error: {e}\")"
   ]
  },
  {
   "cell_type": "code",
   "execution_count": 11,
   "metadata": {},
   "outputs": [],
   "source": [
    "def get_SEQC_version(loc):\n",
    "    try:\n",
    "        cmd = f\"aws s3 cp {loc}/seqc-results/seqc_log.txt -\"\n",
    "        out = subprocess.run(shlex.split(cmd), universal_newlines=True, capture_output=True).__dict__[\"stdout\"]\n",
    "        version = re.match(r\".*SEQC=v(\\d+\\.\\d+\\.\\d+).*\", out)[1]\n",
    "        return version\n",
    "    except:\n",
    "        return \"N/A\""
   ]
  },
  {
   "cell_type": "code",
   "execution_count": 12,
   "metadata": {},
   "outputs": [],
   "source": [
    "def get_file_prefix(loc):\n",
    "    try:\n",
    "        cmd = f\"aws s3 ls {loc}/seqc-results/\"\n",
    "        out = subprocess.run(shlex.split(cmd), universal_newlines=True, capture_output=True).__dict__[\"stdout\"]\n",
    "        \n",
    "        # Note: I'm expecting the aligned bam file to be in loc\n",
    "        bam_pattern = re.compile(r\"(.*)_Aligned\\.out\\.bam$\")\n",
    "        filename = list(filter(bam_pattern.match, out.split()))[0]\n",
    "        file_prefix = re.match(bam_pattern, filename)[1]\n",
    "        return file_prefix\n",
    "    except:\n",
    "        raise ValueError(f\"BAM file not found in {loc}\")\n",
    "        return \"\""
   ]
  },
  {
   "cell_type": "code",
   "execution_count": 42,
   "metadata": {},
   "outputs": [],
   "source": [
    "# FASTQ reads/indices required for each workflow\n",
    "# Shoudl replace with JSON file\n",
    "cr_reference_map = {\n",
    "    'CellRangerArc':\n",
    "    {\n",
    "        'Human': \"https://cf.10xgenomics.com/supp/cell-arc/refdata-cellranger-arc-GRCh38-2020-A.tar.gz\",\n",
    "        'Mouse': \"https://cf.10xgenomics.com/supp/cell-arc/refdata-cellranger-arc-mm10-2020-A-2.0.0.tar.gz\",\n",
    "    },\n",
    "    'CellRangerATAC':\n",
    "    {\n",
    "        'Human': \"https://cf.10xgenomics.com/supp/cell-atac/refdata-cellranger-arc-GRCh38-2020-A-2.0.0.tar.gz\",\n",
    "        'Mouse': \"https://cf.10xgenomics.com/supp/cell-atac/refdata-cellranger-arc-mm10-2020-A-2.0.0.tar.gz\",\n",
    "    }\n",
    "}\n",
    "\n",
    "def get_cr_reference(sample_id, prefix, user, password):\n",
    "    # Get species from database to decide reference\n",
    "    species = get_species(sample_id, user, password)\n",
    "    \n",
    "    # Map to reference locations\n",
    "    try:\n",
    "        return cr_reference_map[prefix][species]\n",
    "    except:\n",
    "        raise ValueError(f\"Unknown Species: {species}\")"
   ]
  },
  {
   "cell_type": "code",
   "execution_count": 14,
   "metadata": {},
   "outputs": [],
   "source": [
    "def get_bc_whitelist(sample_id):\n",
    "    # Get version from database to decide whitelist\n",
    "    sc_tech = get_sc_tech(sample_id, creds[\"user\"], creds[\"password\"])\n",
    "    \n",
    "    # Map to reference locations\n",
    "    if \"V3\" in sc_tech:\n",
    "        return \"s3://seqc-public/barcodes/ten_x_v3/flat/3M-february-2018.txt\"\n",
    "    elif \"V2\" in sc_tech:\n",
    "        return \"s3://seqc-public/barcodes/ten_x_v2/flat/737K-august-2016.txt\"\n",
    "    else:\n",
    "        raise ValueError(f\"Unknown Technology: {sc_tech}\")"
   ]
  },
  {
   "cell_type": "code",
   "execution_count": 15,
   "metadata": {
    "tags": []
   },
   "outputs": [],
   "source": [
    "def run(\n",
    "    workflow_path: str,\n",
    "    execp: str,\n",
    "    secrets: str,\n",
    "    inputs: str,\n",
    "    labels: str,\n",
    "    options: str,\n",
    "):\n",
    "    # change working directory to the pipeline package\n",
    "    oldwd = os.getcwd()\n",
    "    os.chdir(workflow_path)\n",
    "    \n",
    "    # execute the pipeline command\n",
    "    cmd = f\"{workflow_path}/{execp} -k {secrets} -i {inputs} -l {labels} -o {options}\"\n",
    "    var = subprocess.run(shlex.split(cmd), universal_newlines=True, capture_output=True)\n",
    "    out = var.__dict__\n",
    "    \n",
    "    # change working directory back\n",
    "    os.chdir(oldwd)\n",
    "    \n",
    "    return out"
   ]
  },
  {
   "cell_type": "markdown",
   "metadata": {},
   "source": [
    "# Process Samples"
   ]
  },
  {
   "cell_type": "markdown",
   "metadata": {
    "tags": []
   },
   "source": [
    "## Setup"
   ]
  },
  {
   "cell_type": "code",
   "execution_count": 16,
   "metadata": {},
   "outputs": [],
   "source": [
    "# Location of docker files\n",
    "common_docker_registry = \"quay.io/hisplan\"\n",
    "\n",
    "prefix = \"CellRangerATAC\" # Workflow to run; also .wdl filename prefix\n",
    "pipeline_type = prefix # field in *.labels.json\n",
    "output_dirname = \"cr-atac-results\"\n",
    "\n",
    "# If need to add comment, put here\n",
    "comment = \"\""
   ]
  },
  {
   "cell_type": "code",
   "execution_count": 59,
   "metadata": {},
   "outputs": [],
   "source": [
    "# Locations of workflow-related directories and files\n",
    "path_to_cromwell_secrets = f\"{Path.home()}/.cromwell/cromwell-secrets.json\" # CHANGE THIS\n",
    "workflow_dir = f\"{Path.home()}/scing/bin/cellranger-atac-2.0.0\" # CHANGE THIS\n",
    "path_to_exec = f\"{workflow_dir}/submit.sh\" # CHANGE THIS FOR SHARP\n",
    "config_dir = f\"{workflow_dir}/configs\"\n",
    "path_to_options = f\"{workflow_dir}/{prefix}.options.aws.json\"\n",
    "\n",
    "# Other file locations\n",
    "db_credentials_path = f\"{Path.home()}/.config.json\" # CHANGE THIS"
   ]
  },
  {
   "cell_type": "code",
   "execution_count": 19,
   "metadata": {},
   "outputs": [],
   "source": [
    "# Set credentials based on SCRIdb CLI config file\n",
    "with open(db_credentials_path) as f:\n",
    "    creds = json.load(f)"
   ]
  },
  {
   "cell_type": "code",
   "execution_count": 176,
   "metadata": {},
   "outputs": [],
   "source": [
    "# Samples on which to run CellRangerATAC\n",
    "# Note: Assumes data is transferred to AWS S3 (this should be an s3 location)\n",
    "# Note: Assumes directory name is name of sample\n",
    "common_dir = \"s3://dp-lab-data/collaborators/tabarv/IdhWtVersusMutantImmunome\"\n",
    "samples = [\n",
    "    #\"KY-1178_20210308_ATAC\",\n",
    "    #\"KY-1178_20210218_ATAC\",\n",
    "    #\"KY-1178_20201117_ATAC\",\n",
    "    #\"KY-1178_20201119_ATAC\",\n",
    "    \"KY-1178_20210330_ATAC\",\n",
    "    #\"KY-1178_20210603_ATAC\",\n",
    "    #\"KY-1178_20210405_ATAC\",\n",
    "    #\"KY-1223_20210428_ATAC\",\n",
    "    #\"KY-1223_20210416_ATAC\",\n",
    "    #\"KY-1223_20210628_ATAC\",\n",
    "    #\"KY-1223_20210413_ATAC\",\n",
    "    #'20201012_Redo_ATAC',\n",
    "    #'20201013_Redo_ATAC',\n",
    "    #'20201116_Redo_ATAC',\n",
    "    #'20201117-PM_Redo_ATAC',\n",
    "]\n",
    "sample_paths = [\n",
    "    f\"{common_dir}/{sample}\" for sample in samples\n",
    "]"
   ]
  },
  {
   "cell_type": "markdown",
   "metadata": {},
   "source": [
    "## Execution"
   ]
  },
  {
   "cell_type": "code",
   "execution_count": 177,
   "metadata": {},
   "outputs": [
    {
     "name": "stdout",
     "output_type": "stream",
     "text": [
      "['KY-1178_20210330_ATAC']\n"
     ]
    }
   ],
   "source": [
    "# Get information for all samples\n",
    "sample_paths = [s.strip('/') for s in sample_paths] # remove trailing slash if exists\n",
    "sample_names = [os.path.basename(s) for s in sample_paths]\n",
    "#sample_names = [s.replace(\"Redo_\", \"\") for s in sample_names]\n",
    "print(sample_names)\n",
    "samples = pd.DataFrame(\n",
    "    sample_paths,\n",
    "    index=sample_names,\n",
    "    columns=[\"S3_Path\"],\n",
    "    dtype=str,\n",
    ")\n",
    "samples[\"Sample_ID\"] = pd.Series(samples.index).apply(\n",
    "    lambda x: get_sample_id(x, creds['user'], creds['password'])\n",
    ").values\n",
    "\n",
    "# Get FASTQ paths from S3\n",
    "# Note: Uses same FASTQ file ids for all samples\n",
    "fastq_file_ids = fastq_map[prefix]\n",
    "samples[\"FASTQs\"] = samples[\"S3_Path\"].apply(lambda x: get_fastqs(x, fastq_file_ids))\n",
    "\n",
    "# Get reference genome location\n",
    "samples[\"Reference\"] = samples[\"Sample_ID\"].apply(lambda x: get_cr_reference(x, prefix, creds[\"user\"], creds[\"password\"]))"
   ]
  },
  {
   "cell_type": "code",
   "execution_count": 178,
   "metadata": {},
   "outputs": [],
   "source": [
    "# Load minimum inputs and labels fields from templates\n",
    "with open(f\"{config_dir}/template.inputs.json\") as f:\n",
    "    std_inputs_fields = list(json.load(f).keys())\n",
    "    \n",
    "with open(f\"{config_dir}/template.labels.json\") as f:\n",
    "    std_labels_fields = list(json.load(f).keys())\n",
    "    \n",
    "# Annotate all samples with workflow inputs and labels\n",
    "inputs = pd.DataFrame(index=samples.index, columns=std_inputs_fields,)\n",
    "labels = pd.DataFrame(index=samples.index, columns=std_labels_fields,)\n",
    "\n",
    "# Annotate inputs\n",
    "inputs[f\"{prefix}.sampleName\"] = inputs.index # may need to change\n",
    "inputs[f\"{prefix}.fastqFiles\"] = samples[\"FASTQs\"].apply(lambda x: np.ravel(list(x.values())))\n",
    "inputs[f\"{prefix}.fastqNames\"] = inputs[f\"{prefix}.fastqFiles\"].apply(lambda x: get_fastqs_name(x))\n",
    "inputs[f\"{prefix}.referenceGenome\"] = samples[\"Reference\"].apply(lambda x: {\n",
    "    \"name\": re.match(r'.*refdata-cellranger-arc-(.*).tar.gz', x)[1],\n",
    "    \"location\": x,\n",
    "})                                 \n",
    "inputs[f\"{prefix}.dockerRegistry\"] = common_docker_registry\n",
    "\n",
    "# Annotate labels\n",
    "labels[\"pipelineType\"] = pipeline_type\n",
    "labels[\"project\"] = samples[\"Sample_ID\"].apply(lambda x: get_project_id(x, creds[\"user\"], creds[\"password\"]))\n",
    "labels[\"sample\"] = labels.index\n",
    "labels[\"owner\"] = creds[\"user\"]\n",
    "labels[\"destination\"] = samples['S3_Path'] + \"/\" + output_dirname\n",
    "labels[\"transfer\"] = \"-\"\n",
    "labels[\"comment\"] = creds[\"user\"]\n",
    "\n",
    "assert (std_inputs_fields == list(inputs.columns)) & (inputs.notna().values.all())\n",
    "assert (std_labels_fields == list(labels.columns)) & (labels.notna().values.all())"
   ]
  },
  {
   "cell_type": "code",
   "execution_count": 179,
   "metadata": {},
   "outputs": [
    {
     "data": {
      "text/html": [
       "<div>\n",
       "<style scoped>\n",
       "    .dataframe tbody tr th:only-of-type {\n",
       "        vertical-align: middle;\n",
       "    }\n",
       "\n",
       "    .dataframe tbody tr th {\n",
       "        vertical-align: top;\n",
       "    }\n",
       "\n",
       "    .dataframe thead th {\n",
       "        text-align: right;\n",
       "    }\n",
       "</style>\n",
       "<table border=\"1\" class=\"dataframe\">\n",
       "  <thead>\n",
       "    <tr style=\"text-align: right;\">\n",
       "      <th></th>\n",
       "      <th>CellRangerATAC.sampleName</th>\n",
       "      <th>CellRangerATAC.fastqNames</th>\n",
       "      <th>CellRangerATAC.fastqFiles</th>\n",
       "      <th>CellRangerATAC.referenceGenome</th>\n",
       "      <th>CellRangerATAC.dockerRegistry</th>\n",
       "    </tr>\n",
       "  </thead>\n",
       "  <tbody>\n",
       "    <tr>\n",
       "      <th>KY-1178_20210330_ATAC</th>\n",
       "      <td>KY-1178_20210330_ATAC</td>\n",
       "      <td>3029_KY-1178_20210330_ATAC_IGO_12437...</td>\n",
       "      <td>[s3://dp-lab-data/collaborators/taba...</td>\n",
       "      <td>{'name': 'GRCh38-2020-A-2.0.0', 'loc...</td>\n",
       "      <td>quay.io/hisplan</td>\n",
       "    </tr>\n",
       "  </tbody>\n",
       "</table>\n",
       "</div>"
      ],
      "text/plain": [
       "                      CellRangerATAC.sampleName  \\\n",
       "KY-1178_20210330_ATAC     KY-1178_20210330_ATAC   \n",
       "\n",
       "                                     CellRangerATAC.fastqNames  \\\n",
       "KY-1178_20210330_ATAC  3029_KY-1178_20210330_ATAC_IGO_12437...   \n",
       "\n",
       "                                     CellRangerATAC.fastqFiles  \\\n",
       "KY-1178_20210330_ATAC  [s3://dp-lab-data/collaborators/taba...   \n",
       "\n",
       "                                CellRangerATAC.referenceGenome  \\\n",
       "KY-1178_20210330_ATAC  {'name': 'GRCh38-2020-A-2.0.0', 'loc...   \n",
       "\n",
       "                      CellRangerATAC.dockerRegistry  \n",
       "KY-1178_20210330_ATAC               quay.io/hisplan  "
      ]
     },
     "execution_count": 179,
     "metadata": {},
     "output_type": "execute_result"
    }
   ],
   "source": [
    "inputs"
   ]
  },
  {
   "cell_type": "code",
   "execution_count": 180,
   "metadata": {},
   "outputs": [
    {
     "data": {
      "text/html": [
       "<div>\n",
       "<style scoped>\n",
       "    .dataframe tbody tr th:only-of-type {\n",
       "        vertical-align: middle;\n",
       "    }\n",
       "\n",
       "    .dataframe tbody tr th {\n",
       "        vertical-align: top;\n",
       "    }\n",
       "\n",
       "    .dataframe thead th {\n",
       "        text-align: right;\n",
       "    }\n",
       "</style>\n",
       "<table border=\"1\" class=\"dataframe\">\n",
       "  <thead>\n",
       "    <tr style=\"text-align: right;\">\n",
       "      <th></th>\n",
       "      <th>pipelineType</th>\n",
       "      <th>project</th>\n",
       "      <th>sample</th>\n",
       "      <th>owner</th>\n",
       "      <th>destination</th>\n",
       "      <th>transfer</th>\n",
       "      <th>comment</th>\n",
       "    </tr>\n",
       "  </thead>\n",
       "  <tbody>\n",
       "    <tr>\n",
       "      <th>KY-1178_20210330_ATAC</th>\n",
       "      <td>CellRangerATAC</td>\n",
       "      <td>IDH wt versus mutant Immunome</td>\n",
       "      <td>KY-1178_20210330_ATAC</td>\n",
       "      <td>moormana</td>\n",
       "      <td>s3://dp-lab-data/collaborators/tabar...</td>\n",
       "      <td>-</td>\n",
       "      <td>moormana</td>\n",
       "    </tr>\n",
       "  </tbody>\n",
       "</table>\n",
       "</div>"
      ],
      "text/plain": [
       "                         pipelineType                        project  \\\n",
       "KY-1178_20210330_ATAC  CellRangerATAC  IDH wt versus mutant Immunome   \n",
       "\n",
       "                                      sample     owner  \\\n",
       "KY-1178_20210330_ATAC  KY-1178_20210330_ATAC  moormana   \n",
       "\n",
       "                                                   destination transfer  \\\n",
       "KY-1178_20210330_ATAC  s3://dp-lab-data/collaborators/tabar...        -   \n",
       "\n",
       "                        comment  \n",
       "KY-1178_20210330_ATAC  moormana  "
      ]
     },
     "execution_count": 180,
     "metadata": {},
     "output_type": "execute_result"
    }
   ],
   "source": [
    "labels"
   ]
  },
  {
   "cell_type": "code",
   "execution_count": 181,
   "metadata": {
    "tags": []
   },
   "outputs": [
    {
     "data": {
      "application/vnd.jupyter.widget-view+json": {
       "model_id": "bf400f8f2caf424fa398e48d8e832bbb",
       "version_major": 2,
       "version_minor": 0
      },
      "text/plain": [
       "  0%|          | 0/1 [00:00<?, ?it/s]"
      ]
     },
     "metadata": {},
     "output_type": "display_data"
    }
   ],
   "source": [
    "stdouts = [] # to store all outputs\n",
    "process = True\n",
    "\n",
    "with tqdm(samples.index) as t:\n",
    "\n",
    "    for sample_name in t:\n",
    "\n",
    "        # Write inputs and labels to file\n",
    "        path_to_inputs = f\"{config_dir}/{sample_name}.inputs.json\"\n",
    "        with open(path_to_inputs, \"w\") as f_inputs:\n",
    "            json.dump(inputs.loc[sample_name].to_dict(), f_inputs, indent=4, cls=NpEncoder)\n",
    "\n",
    "        path_to_labels = f\"{config_dir}/{sample_name}.labels.json\"\n",
    "        with open(path_to_labels, \"w\") as f_labels:\n",
    "            json.dump(labels.loc[sample_name].to_dict(), f_labels, indent=4, cls=NpEncoder)\n",
    "\n",
    "        if process:\n",
    "            stdouts.append(run(\n",
    "                workflow_path = workflow_dir,\n",
    "                execp = \"submit.sh\",\n",
    "                secrets = path_to_cromwell_secrets,\n",
    "                inputs = path_to_inputs,\n",
    "                labels = path_to_labels,\n",
    "                options = path_to_options,\n",
    "            ))"
   ]
  },
  {
   "cell_type": "code",
   "execution_count": 182,
   "metadata": {},
   "outputs": [
    {
     "data": {
      "text/plain": [
       "[{'args': ['/Users/moormana/scing/bin/cellranger-atac-2.0.0/submit.sh',\n",
       "   '-k',\n",
       "   '/Users/moormana/.cromwell/cromwell-secrets.json',\n",
       "   '-i',\n",
       "   '/Users/moormana/scing/bin/cellranger-atac-2.0.0/configs/KY-1178_20210330_ATAC.inputs.json',\n",
       "   '-l',\n",
       "   '/Users/moormana/scing/bin/cellranger-atac-2.0.0/configs/KY-1178_20210330_ATAC.labels.json',\n",
       "   '-o',\n",
       "   '/Users/moormana/scing/bin/cellranger-atac-2.0.0/CellRangerATAC.options.aws.json'],\n",
       "  'returncode': 0,\n",
       "  'stdout': '{\"id\":\"43e1a5be-af27-4ea3-a7b9-68bf449d42d0\",\"status\":\"Submitted\"}\\n',\n",
       "  'stderr': ''}]"
      ]
     },
     "execution_count": 182,
     "metadata": {},
     "output_type": "execute_result"
    }
   ],
   "source": [
    "stdouts"
   ]
  }
 ],
 "metadata": {
  "kernelspec": {
   "display_name": "Python 3 (ipykernel)",
   "language": "python",
   "name": "python3"
  },
  "language_info": {
   "codemirror_mode": {
    "name": "ipython",
    "version": 3
   },
   "file_extension": ".py",
   "mimetype": "text/x-python",
   "name": "python",
   "nbconvert_exporter": "python",
   "pygments_lexer": "ipython3",
   "version": "3.8.12"
  }
 },
 "nbformat": 4,
 "nbformat_minor": 4
}
