{
 "cells": [
  {
   "cell_type": "code",
   "execution_count": 1,
   "metadata": {},
   "outputs": [],
   "source": [
    "import re, subprocess, boto3, json, shlex, mysql, os\n",
    "import pandas as pd\n",
    "from s3path import S3Path\n",
    "from pathlib import Path\n",
    "from tqdm.notebook import tqdm"
   ]
  },
  {
   "cell_type": "markdown",
   "metadata": {
    "tags": [],
    "toc-hr-collapsed": true,
    "toc-nb-collapsed": true
   },
   "source": [
    "# Define Helper Functions"
   ]
  },
  {
   "cell_type": "code",
   "execution_count": 2,
   "metadata": {
    "tags": []
   },
   "outputs": [],
   "source": [
    "# from SCRIdb\n",
    "def get_s3_objects(bucket, key, pattern, full_uri=False):\n",
    "    \n",
    "    s3r = boto3.resource(\"s3\")\n",
    "    bucket_s3 = s3r.Bucket(bucket)\n",
    "    objects = []\n",
    "    for obj in bucket_s3.objects.filter(Prefix=key):\n",
    "        hit = pattern.search(obj.key)\n",
    "        if hit:\n",
    "            objects.append(obj.key)\n",
    "    if full_uri:\n",
    "        objects = [f\"s3://{bucket}/{o}\" for o in objects]\n",
    "    return objects"
   ]
  },
  {
   "cell_type": "code",
   "execution_count": 3,
   "metadata": {
    "tags": []
   },
   "outputs": [],
   "source": [
    "def get_reference(species):\n",
    "    if \"Human\" in species:\n",
    "        return \"https://cf.10xgenomics.com/supp/cell-arc/refdata-cellranger-arc-GRCh38-2020-A.tar.gz\"\n",
    "    \n",
    "    elif \"Mouse\" in species:\n",
    "        return \"https://cf.10xgenomics.com/supp/cell-arc/refdata-cellranger-arc-mm10-2020-A-2.0.0.tar.gz\"\n",
    "    else:\n",
    "        raise ValueError(f\"Unknown Species: {species}\")"
   ]
  },
  {
   "cell_type": "code",
   "execution_count": 4,
   "metadata": {
    "tags": []
   },
   "outputs": [],
   "source": [
    "def execute_query(query, user, password):\n",
    "    with connect(\n",
    "        host=\"peer-lab-db.cggxmlwgzzpw.us-east-1.rds.amazonaws.com\",\n",
    "        database=\"peer_lab_db\",\n",
    "        user=user,\n",
    "        password=password,\n",
    "    ) as connection:\n",
    "        with connection.cursor(buffered=True) as cursor:\n",
    "            cursor.execute(query)\n",
    "            result = cursor.fetchall()\n",
    "    return result"
   ]
  },
  {
   "cell_type": "code",
   "execution_count": 5,
   "metadata": {
    "tags": []
   },
   "outputs": [],
   "source": [
    "# Get species from database for given sample\n",
    "from mysql.connector import connect, Error\n",
    "\n",
    "def get_species(sample_id, user, password):\n",
    "    try:\n",
    "        table_sample_data = \"peer_lab_db.sample_data\"\n",
    "        table_species = \"peer_lab_db.species\"\n",
    "        table_genome_idx = \"peer_lab_db.genome_index\"\n",
    "        query = f\"\"\"\n",
    "        SELECT {table_species}.Species\n",
    "        FROM {table_species}\n",
    "        LEFT JOIN {table_genome_idx}\n",
    "        ON {table_species}.id = {table_genome_idx}.species_id\n",
    "        LEFT JOIN {table_sample_data}\n",
    "        ON {table_genome_idx}.id = {table_sample_data}.genomeIndex_id\n",
    "        WHERE {table_sample_data}.id = {sample_id}\n",
    "        \"\"\"\n",
    "        result = execute_query(query, user, password)[0][0]\n",
    "        return result\n",
    "    except Error as e:\n",
    "        print(f\"Error: {e}\")"
   ]
  },
  {
   "cell_type": "code",
   "execution_count": 6,
   "metadata": {
    "tags": []
   },
   "outputs": [],
   "source": [
    "# Get species from database for given sample\n",
    "from mysql.connector import connect, Error\n",
    "\n",
    "def get_project_id(sample_id, user, password):\n",
    "    try:\n",
    "        table_sample_data = \"peer_lab_db.sample_data\"\n",
    "        table_project_data = \"peer_lab_db.project_data\"\n",
    "        query = f\"\"\"\n",
    "        SELECT {table_project_data}.projectName\n",
    "        FROM {table_project_data}\n",
    "        LEFT JOIN {table_sample_data}\n",
    "        ON {table_project_data}.id = {table_sample_data}.projectData_id\n",
    "        WHERE {table_sample_data}.id = {sample_id}\n",
    "        \"\"\"\n",
    "        result = execute_query(query, user, password)[0][0]\n",
    "        return result\n",
    "    except Error as e:\n",
    "        print(f\"Error: {e}\")"
   ]
  },
  {
   "cell_type": "code",
   "execution_count": 7,
   "metadata": {
    "tags": []
   },
   "outputs": [],
   "source": [
    "def run(\n",
    "    workflow_path: str,\n",
    "    execp: str,\n",
    "    secrets: str,\n",
    "    inputs: str,\n",
    "    labels: str,\n",
    "    options: str,\n",
    "):\n",
    "    # change working directory to the pipeline package\n",
    "    oldwd = os.getcwd()\n",
    "    os.chdir(workflow_path)\n",
    "    \n",
    "    # execute the pipeline command\n",
    "    cmd = f\"{workflow_path}/{execp} -k {secrets} -i {inputs} -l {labels} -o {options}\"\n",
    "    var = subprocess.run(shlex.split(cmd), universal_newlines=True, capture_output=True)\n",
    "    out = var.__dict__\n",
    "    \n",
    "    # change working directory back\n",
    "    os.chdir(oldwd)\n",
    "    \n",
    "    return out"
   ]
  },
  {
   "cell_type": "markdown",
   "metadata": {},
   "source": [
    "# Process Samples"
   ]
  },
  {
   "cell_type": "markdown",
   "metadata": {
    "tags": []
   },
   "source": [
    "## Setup"
   ]
  },
  {
   "cell_type": "code",
   "execution_count": 8,
   "metadata": {},
   "outputs": [],
   "source": [
    "# Location of docker files\n",
    "common_docker_registry = \"quay.io/hisplan\"\n",
    "\n",
    "# Workflow to run; also .wdl filename prefix\n",
    "prefix = \"CellRangerArc\"\n",
    "pipeline_type = \"CellRangerARC\"\n",
    "output_dirname = \"cr-arc-results\"\n",
    "\n",
    "# Reads needed for each library relevant to this workflow\n",
    "GEX_reads = [\"I1\", \"I2\", \"R1\", \"R2\"]\n",
    "ATAC_reads = [\"I1\", \"R1\", \"R2\", \"R3\"]\n",
    "\n",
    "# If need to add comment, put here\n",
    "comment = \"\""
   ]
  },
  {
   "cell_type": "code",
   "execution_count": 9,
   "metadata": {},
   "outputs": [],
   "source": [
    "# Locations of workflow-related directories and files\n",
    "path_to_cromwell_secrets = f\"{Path.home()}/.cromwell/cromwell-secrets.json\" # CHANGE THIS\n",
    "workflow_dir = f\"{Path.home()}/scing/bin/cellranger-arc-2.0.0\" # CHANGE THIS\n",
    "path_to_exec = f\"{workflow_dir}/submit.sh\" # CHANGE THIS FOR SHARP\n",
    "config_dir = f\"{workflow_dir}/configs\"\n",
    "path_to_options = f\"{workflow_dir}/{prefix}.options.aws.json\"\n",
    "\n",
    "# Other file locations\n",
    "db_credentials_path = f\"{Path.home()}/.config.json\" # CHANGE THIS"
   ]
  },
  {
   "cell_type": "code",
   "execution_count": 10,
   "metadata": {},
   "outputs": [],
   "source": [
    "# Set credentials based on SCRIdb CLI config file\n",
    "with open(db_credentials_path) as f:\n",
    "    creds = json.load(f)"
   ]
  },
  {
   "cell_type": "code",
   "execution_count": 16,
   "metadata": {},
   "outputs": [],
   "source": [
    "# Replace this with the function which generated it\n",
    "samples = '''\n",
    "+-----------+--------------------------------+---------+------------+-------------------------------------------------------------------------------------------+\n",
    "| SAMPLE_ID | SAMPLE_NAME                    | REQ_ID  | gIndex     | S3                                                                                        |\n",
    "+-----------+--------------------------------+---------+------------+-------------------------------------------------------------------------------------------+\n",
    "|      2748 | D11_MP150Cre_5_multiome_ATAC   | SZ-896  | NULL       | s3://dp-lab-data/collaborators/sawyers/OrgP53RbMultiomics/D11_MP150Cre_5_multiome_ATAC/   |\n",
    "|      2556 | D11_MP150Cre_5_multiome        | SZ-896  | mm10-3.0.0 | s3://dp-lab-data/collaborators/sawyers/OrgP53RbMultiomics/D11_MP150Cre_5_multiome/        |\n",
    "|      2749 | D14_MP150CRE_6_multiome_ATAC   | SZ-897  | NULL       | s3://dp-lab-data/collaborators/sawyers/OrgP53RbMultiomics/D14_MP150CRE_6_multiome_ATAC/   |\n",
    "|      2564 | D14_MP150CRE_6_multiome        | SZ-897  | mm10-3.0.0 | s3://dp-lab-data/collaborators/sawyers/OrgP53RbMultiomics/D14_MP150CRE_6_multiome/        |\n",
    "|      2750 | D18_MP150CRE_7_multiome_ATAC   | SZ-975  | NULL       | s3://dp-lab-data/collaborators/sawyers/OrgP53RbMultiomics/D18_MP150CRE_7_multiome_ATAC/   |\n",
    "|      2570 | D18_MP150CRE_7_multiome        | SZ-975  | mm10-3.0.0 | s3://dp-lab-data/collaborators/sawyers/OrgP53RbMultiomics/D18_MP150CRE_7_multiome/        |\n",
    "|      2751 | D21_MP150CRE_8_multiome_ATAC   | SZ-976  | NULL       | s3://dp-lab-data/collaborators/sawyers/OrgP53RbMultiomics/D21_MP150CRE_8_multiome_ATAC/   |\n",
    "|      2576 | D21_MP150CRE_8_multiome        | SZ-976  | mm10-3.0.0 | s3://dp-lab-data/collaborators/sawyers/OrgP53RbMultiomics/D21_MP150CRE_8_multiome/        |\n",
    "+-----------+--------------------------------+---------+------------+-------------------------------------------------------------------------------------------+\n",
    "'''"
   ]
  },
  {
   "cell_type": "markdown",
   "metadata": {},
   "source": [
    "## Execution"
   ]
  },
  {
   "cell_type": "code",
   "execution_count": 12,
   "metadata": {},
   "outputs": [
    {
     "data": {
      "text/html": [
       "<div>\n",
       "<style scoped>\n",
       "    .dataframe tbody tr th:only-of-type {\n",
       "        vertical-align: middle;\n",
       "    }\n",
       "\n",
       "    .dataframe tbody tr th {\n",
       "        vertical-align: top;\n",
       "    }\n",
       "\n",
       "    .dataframe thead th {\n",
       "        text-align: right;\n",
       "    }\n",
       "</style>\n",
       "<table border=\"1\" class=\"dataframe\">\n",
       "  <thead>\n",
       "    <tr style=\"text-align: right;\">\n",
       "      <th></th>\n",
       "      <th>SAMPLE_ID</th>\n",
       "      <th>SAMPLE_NAME</th>\n",
       "      <th>REQ_ID</th>\n",
       "      <th>gIndex</th>\n",
       "      <th>S3</th>\n",
       "    </tr>\n",
       "  </thead>\n",
       "  <tbody>\n",
       "    <tr>\n",
       "      <th>0</th>\n",
       "      <td>2748</td>\n",
       "      <td>D11_MP150Cre_5_multiome_ATAC</td>\n",
       "      <td>SZ-896</td>\n",
       "      <td>NULL</td>\n",
       "      <td>s3://dp-lab-data/collaborators/sawyers/OrgP53R...</td>\n",
       "    </tr>\n",
       "    <tr>\n",
       "      <th>1</th>\n",
       "      <td>2556</td>\n",
       "      <td>D11_MP150Cre_5_multiome</td>\n",
       "      <td>SZ-896</td>\n",
       "      <td>mm10-3.0.0</td>\n",
       "      <td>s3://dp-lab-data/collaborators/sawyers/OrgP53R...</td>\n",
       "    </tr>\n",
       "    <tr>\n",
       "      <th>2</th>\n",
       "      <td>2749</td>\n",
       "      <td>D14_MP150CRE_6_multiome_ATAC</td>\n",
       "      <td>SZ-897</td>\n",
       "      <td>NULL</td>\n",
       "      <td>s3://dp-lab-data/collaborators/sawyers/OrgP53R...</td>\n",
       "    </tr>\n",
       "    <tr>\n",
       "      <th>3</th>\n",
       "      <td>2564</td>\n",
       "      <td>D14_MP150CRE_6_multiome</td>\n",
       "      <td>SZ-897</td>\n",
       "      <td>mm10-3.0.0</td>\n",
       "      <td>s3://dp-lab-data/collaborators/sawyers/OrgP53R...</td>\n",
       "    </tr>\n",
       "    <tr>\n",
       "      <th>4</th>\n",
       "      <td>2750</td>\n",
       "      <td>D18_MP150CRE_7_multiome_ATAC</td>\n",
       "      <td>SZ-975</td>\n",
       "      <td>NULL</td>\n",
       "      <td>s3://dp-lab-data/collaborators/sawyers/OrgP53R...</td>\n",
       "    </tr>\n",
       "    <tr>\n",
       "      <th>5</th>\n",
       "      <td>2570</td>\n",
       "      <td>D18_MP150CRE_7_multiome</td>\n",
       "      <td>SZ-975</td>\n",
       "      <td>mm10-3.0.0</td>\n",
       "      <td>s3://dp-lab-data/collaborators/sawyers/OrgP53R...</td>\n",
       "    </tr>\n",
       "    <tr>\n",
       "      <th>6</th>\n",
       "      <td>2751</td>\n",
       "      <td>D21_MP150CRE_8_multiome_ATAC</td>\n",
       "      <td>SZ-976</td>\n",
       "      <td>NULL</td>\n",
       "      <td>s3://dp-lab-data/collaborators/sawyers/OrgP53R...</td>\n",
       "    </tr>\n",
       "    <tr>\n",
       "      <th>7</th>\n",
       "      <td>2576</td>\n",
       "      <td>D21_MP150CRE_8_multiome</td>\n",
       "      <td>SZ-976</td>\n",
       "      <td>mm10-3.0.0</td>\n",
       "      <td>s3://dp-lab-data/collaborators/sawyers/OrgP53R...</td>\n",
       "    </tr>\n",
       "  </tbody>\n",
       "</table>\n",
       "</div>"
      ],
      "text/plain": [
       "  SAMPLE_ID                   SAMPLE_NAME  REQ_ID      gIndex  \\\n",
       "0      2748  D11_MP150Cre_5_multiome_ATAC  SZ-896        NULL   \n",
       "1      2556       D11_MP150Cre_5_multiome  SZ-896  mm10-3.0.0   \n",
       "2      2749  D14_MP150CRE_6_multiome_ATAC  SZ-897        NULL   \n",
       "3      2564       D14_MP150CRE_6_multiome  SZ-897  mm10-3.0.0   \n",
       "4      2750  D18_MP150CRE_7_multiome_ATAC  SZ-975        NULL   \n",
       "5      2570       D18_MP150CRE_7_multiome  SZ-975  mm10-3.0.0   \n",
       "6      2751  D21_MP150CRE_8_multiome_ATAC  SZ-976        NULL   \n",
       "7      2576       D21_MP150CRE_8_multiome  SZ-976  mm10-3.0.0   \n",
       "\n",
       "                                                  S3  \n",
       "0  s3://dp-lab-data/collaborators/sawyers/OrgP53R...  \n",
       "1  s3://dp-lab-data/collaborators/sawyers/OrgP53R...  \n",
       "2  s3://dp-lab-data/collaborators/sawyers/OrgP53R...  \n",
       "3  s3://dp-lab-data/collaborators/sawyers/OrgP53R...  \n",
       "4  s3://dp-lab-data/collaborators/sawyers/OrgP53R...  \n",
       "5  s3://dp-lab-data/collaborators/sawyers/OrgP53R...  \n",
       "6  s3://dp-lab-data/collaborators/sawyers/OrgP53R...  \n",
       "7  s3://dp-lab-data/collaborators/sawyers/OrgP53R...  "
      ]
     },
     "execution_count": 12,
     "metadata": {},
     "output_type": "execute_result"
    }
   ],
   "source": [
    "# Convert formatted string to DataFrame\n",
    "table_fmt = re.compile(\"(?!^$)(^(?!(\\+-*)+\\+$))\")\n",
    "rows = list(filter(table_fmt.match, samples.split('\\n')))\n",
    "data = [[item.strip() for item in row.strip(\"|\").split(\"|\")] for row in rows]\n",
    "df = pd.DataFrame(\n",
    "    data = data[1:],\n",
    "    columns = data[0]\n",
    ")\n",
    "df"
   ]
  },
  {
   "cell_type": "code",
   "execution_count": 14,
   "metadata": {
    "tags": []
   },
   "outputs": [
    {
     "data": {
      "application/vnd.jupyter.widget-view+json": {
       "model_id": "f5fef60bdb564592837a78f7246ce2a3",
       "version_major": 2,
       "version_minor": 0
      },
      "text/plain": [
       "  0%|          | 0/4 [00:00<?, ?it/s]"
      ]
     },
     "metadata": {},
     "output_type": "display_data"
    }
   ],
   "source": [
    "# Each Req ID is a collection of libraries for one project\n",
    "\n",
    "stdouts = [] # to store all outputs\n",
    "process = False\n",
    "\n",
    "with tqdm(df.groupby('REQ_ID')) as t:\n",
    "\n",
    "    for name, g in t:\n",
    "\n",
    "        # ********************\n",
    "        # Modify per workflow\n",
    "\n",
    "        is_atac = g[\"S3\"].str.contains(\"ATAC\") # 2 rows per group, each is either ATAC or GEX sample\n",
    "        gex_path = S3Path.from_uri(g.loc[~is_atac, \"S3\"].iloc[0])\n",
    "        atac_path = S3Path.from_uri(g.loc[is_atac, \"S3\"].iloc[0])\n",
    "        fastq_data = zip(\n",
    "            ['gex', 'atac'], # prefixes for FASTQ inputs, e.g. {prefix}FastqFiles\n",
    "            [GEX_reads, ATAC_reads], # reads relevant to each library, defined above\n",
    "            [gex_path, atac_path], # paths to FASTQ parent folder for each library\n",
    "        )\n",
    "\n",
    "        # ********************\n",
    "\n",
    "        # Add inputs to dictionary\n",
    "        inputs = dict()\n",
    "\n",
    "        # Set Run ID to GEX sample name\n",
    "        sample_name = g.loc[~is_atac, \"SAMPLE_NAME\"].iloc[0] # Also used in labels below\n",
    "        inputs[f\"{prefix}.runID\"] = sample_name\n",
    "        inputs[f\"{prefix}.dockerRegistry\"] = common_docker_registry\n",
    "\n",
    "        # Get species from database to decide reference\n",
    "        sample_id = g[\"SAMPLE_ID\"].iloc[0]\n",
    "        species = get_species(sample_id, creds[\"user\"], creds[\"password\"])\n",
    "        ref = get_reference(species) # TODO: 'get_reference' should be replaced with a more comprehensive mapping\n",
    "        inputs[f\"{prefix}.reference\"] = ref\n",
    "\n",
    "        # For each library, assemble inputs\n",
    "        for library, reads, s3_path in fastq_data:\n",
    "            # Add FASTQ-related inputs \n",
    "            inputs[f\"{prefix}.{library}FastqFiles\"] = []\n",
    "\n",
    "            bucket = s3_path.parts[1]\n",
    "            key = '/'.join(s3_path.parts[2:])+\"/\"\n",
    "            for r in reads:\n",
    "                fastq_re = re.compile(f\"{r}_\\d{{3}}.fastq.gz$\")\n",
    "                fastqs = get_s3_objects(bucket, key, fastq_re, full_uri=True)\n",
    "                inputs[f\"{prefix}.{library}FastqFiles\"] += fastqs\n",
    "\n",
    "            # Note: FASTQ name is file name up to lane id (e.g. L001, L002, etc.)\n",
    "            fastq_name_re = r\".*/(.*)_S\\d+_L\\d{3}_[A-Za-z]\\d_\\d{3}.fastq.gz$\"\n",
    "            fastq_name = re.match(fastq_name_re, inputs[f\"{prefix}.{library}FastqFiles\"][0])[1]\n",
    "            inputs[f\"{prefix}.{library}FastqName\"] = fastq_name\n",
    "\n",
    "        # Add labels to dictionary\n",
    "        labels = dict()\n",
    "        labels[\"pipelineType\"] = pipeline_type\n",
    "        labels[\"project\"] = get_project_id(sample_id, creds[\"user\"], creds[\"password\"])\n",
    "        labels[\"sample\"] = sample_name\n",
    "        labels[\"owner\"] = creds[\"user\"]\n",
    "        labels[\"destination\"] = str((gex_path/output_dirname).as_uri())\n",
    "        labels[\"transfer\"] = \"-\"\n",
    "        labels[\"comment\"] = creds[\"user\"]\n",
    "\n",
    "        # Write inputs and labels to file\n",
    "        path_to_inputs = f\"{config_dir}/{sample_name}.inputs.json\"\n",
    "        with open(path_to_inputs, \"w\") as f_inputs:\n",
    "            json.dump(inputs, f_inputs, indent=4)\n",
    "\n",
    "        path_to_labels = f\"{config_dir}/{sample_name}.labels.json\"\n",
    "        with open(path_to_labels, \"w\") as f_labels:\n",
    "            json.dump(labels, f_labels, indent=4)\n",
    "\n",
    "        if process:\n",
    "            stdouts.append(run(\n",
    "                workflow_path = workflow_dir,\n",
    "                execp = \"submit.sh\",\n",
    "                secrets = path_to_cromwell_secrets,\n",
    "                inputs = path_to_inputs,\n",
    "                labels = path_to_labels,\n",
    "                options = path_to_options,\n",
    "            ))"
   ]
  },
  {
   "cell_type": "code",
   "execution_count": 15,
   "metadata": {},
   "outputs": [
    {
     "data": {
      "text/plain": [
       "[]"
      ]
     },
     "execution_count": 15,
     "metadata": {},
     "output_type": "execute_result"
    }
   ],
   "source": [
    "stdouts"
   ]
  }
 ],
 "metadata": {
  "kernelspec": {
   "display_name": "Python 3 (ipykernel)",
   "language": "python",
   "name": "python3"
  },
  "language_info": {
   "codemirror_mode": {
    "name": "ipython",
    "version": 3
   },
   "file_extension": ".py",
   "mimetype": "text/x-python",
   "name": "python",
   "nbconvert_exporter": "python",
   "pygments_lexer": "ipython3",
   "version": "3.8.12"
  }
 },
 "nbformat": 4,
 "nbformat_minor": 4
}
