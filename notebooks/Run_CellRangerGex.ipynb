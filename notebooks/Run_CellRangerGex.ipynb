{
 "cells": [
  {
   "cell_type": "code",
   "execution_count": 1,
   "metadata": {},
   "outputs": [],
   "source": [
    "import re, subprocess, boto3, json, shlex, mysql, os, urllib, logging\n",
    "import pandas as pd\n",
    "import numpy as np\n",
    "from s3path import S3Path\n",
    "from pathlib import Path\n",
    "from tqdm.notebook import tqdm\n",
    "from packaging import version\n",
    "pd.set_option(\"display.max_colwidth\", 40)"
   ]
  },
  {
   "cell_type": "markdown",
   "metadata": {
    "jp-MarkdownHeadingCollapsed": true,
    "tags": [],
    "toc-hr-collapsed": true
   },
   "source": [
    "# Define Helper Functions"
   ]
  },
  {
   "cell_type": "code",
   "execution_count": 2,
   "metadata": {},
   "outputs": [],
   "source": [
    "# FASTQ reads/indices required for each workflow\n",
    "fastq_map = {\n",
    "    'Hashtag': ['R1','R2'],\n",
    "    'CiteSeq': ['R1','R2'],\n",
    "    'AsapSeq': ['R1','R2','R3'],\n",
    "    'CellRangerATAC': ['I1','R1','R2','R3'],\n",
    "    'CellRangerGex': ['I1','R1','R2'],\n",
    "}"
   ]
  },
  {
   "cell_type": "code",
   "execution_count": 3,
   "metadata": {},
   "outputs": [],
   "source": [
    "# Get fastq file paths on S3 for each file id\n",
    "# Returns dictionary from id to s3 path\n",
    "# Throws exception if FASTQs don't exist for any id\n",
    "def get_fastqs(\n",
    "    path: str, # path to directory containing FASTQ files\n",
    "    fastq_file_ids: list, # FASTQ file ids needed for this run type (e.g. I1, R1, R2, etc.)\n",
    "    folder: str = \"\",\n",
    "):\n",
    "    fastq_map = dict()\n",
    "    _, bucket, key, _, _ = urllib.parse.urlsplit(f\"{path}/{folder}\")\n",
    "    for fid in fastq_file_ids:\n",
    "        files = get_s3_objects(\n",
    "            bucket, key.lstrip(\"/\"),\n",
    "            re.compile(f\"_{fid}_\\d{{3}}.fastq.gz$\")\n",
    "        )\n",
    "        try:\n",
    "            assert files, f\"AssertionError: Missing `{fid}` archives!\"\n",
    "            fastq_map[fid] = [os.path.join(\"s3://\", bucket, str(f)) for f in files]\n",
    "        except AssertionError as err:\n",
    "            logging.warning(\"%s\\n\\t %s\", err, path)\n",
    "            return\n",
    "    return fastq_map"
   ]
  },
  {
   "cell_type": "code",
   "execution_count": 4,
   "metadata": {
    "tags": []
   },
   "outputs": [],
   "source": [
    "# from SCRIdb\n",
    "def get_s3_objects(bucket, key, pattern, full_uri=False):\n",
    "    \n",
    "    s3r = boto3.resource(\"s3\")\n",
    "    bucket_s3 = s3r.Bucket(bucket)\n",
    "    objects = []\n",
    "    for obj in bucket_s3.objects.filter(Prefix=key):\n",
    "        hit = pattern.search(obj.key)\n",
    "        if hit:\n",
    "            objects.append(obj.key)\n",
    "    if full_uri:\n",
    "        objects = [f\"s3://{bucket}/{o}\" for o in objects]\n",
    "    return objects"
   ]
  },
  {
   "cell_type": "code",
   "execution_count": 5,
   "metadata": {},
   "outputs": [],
   "source": [
    "# Extract FASTQ sample name from list of files\n",
    "# Note: FASTQ name is file name up to lane id (e.g. L001, L002, etc.)\n",
    "def get_fastqs_name(fastqs):\n",
    "    fastq_name_re = r\".*/(.*)_S\\d+_L\\d{3}_[A-Za-z]\\d_\\d{3}.fastq.gz$\"\n",
    "    fastq_names = [re.match(fastq_name_re, x)[1] for x in fastqs]\n",
    "    assert len(set(fastq_names)) == 1 # make sure all names are same\n",
    "    return fastq_names[0]"
   ]
  },
  {
   "cell_type": "code",
   "execution_count": 6,
   "metadata": {},
   "outputs": [],
   "source": [
    "# Numpy encoder for JSON from pandas series\n",
    "class NpEncoder(json.JSONEncoder):\n",
    "    def default(self, obj):\n",
    "        if isinstance(obj, np.integer):\n",
    "            return int(obj)\n",
    "        elif isinstance(obj, np.floating):\n",
    "            return float(obj)\n",
    "        elif isinstance(obj, np.ndarray):\n",
    "            return obj.tolist()\n",
    "        else:\n",
    "            return super(NpEncoder, self).default(obj)"
   ]
  },
  {
   "cell_type": "code",
   "execution_count": 7,
   "metadata": {
    "tags": []
   },
   "outputs": [],
   "source": [
    "def execute_query(query, user, password):\n",
    "    with connect(\n",
    "        host=\"peer-lab-db.cggxmlwgzzpw.us-east-1.rds.amazonaws.com\",\n",
    "        database=\"peer_lab_db\",\n",
    "        user=user,\n",
    "        password=password,\n",
    "    ) as connection:\n",
    "        with connection.cursor(buffered=True) as cursor:\n",
    "            cursor.execute(query)\n",
    "            result = cursor.fetchall()\n",
    "    return result"
   ]
  },
  {
   "cell_type": "code",
   "execution_count": 8,
   "metadata": {
    "tags": []
   },
   "outputs": [],
   "source": [
    "# Get species from database for given sample\n",
    "from mysql.connector import connect, Error\n",
    "\n",
    "def get_species(sample_id, user, password):\n",
    "    try:\n",
    "        table_sample_data = \"peer_lab_db.sample_data\"\n",
    "        table_species = \"peer_lab_db.species\"\n",
    "        table_genome_idx = \"peer_lab_db.genome_index\"\n",
    "        query = f\"\"\"\n",
    "        SELECT {table_species}.Species\n",
    "        FROM {table_species}\n",
    "        LEFT JOIN {table_genome_idx}\n",
    "        ON {table_species}.id = {table_genome_idx}.species_id\n",
    "        LEFT JOIN {table_sample_data}\n",
    "        ON {table_genome_idx}.id = {table_sample_data}.genomeIndex_id\n",
    "        WHERE {table_sample_data}.id = {sample_id}\n",
    "        \"\"\"\n",
    "        result = execute_query(query, user, password)[0][0]\n",
    "        return result\n",
    "    except Error as e:\n",
    "        print(f\"Error: {e}\")"
   ]
  },
  {
   "cell_type": "code",
   "execution_count": 9,
   "metadata": {
    "tags": []
   },
   "outputs": [],
   "source": [
    "# Get species from database for given sample\n",
    "from mysql.connector import connect, Error\n",
    "\n",
    "def get_sc_tech(sample_id, user, password):\n",
    "    try:\n",
    "        table_sample_data = \"peer_lab_db.sample_data\"\n",
    "        table_sc_tech = \"peer_lab_db.sc_tech\"\n",
    "        table_genome_idx = \"peer_lab_db.genome_index\"\n",
    "        query = f\"\"\"\n",
    "        SELECT {table_sc_tech}.sc_Tech\n",
    "        FROM {table_sc_tech}\n",
    "        LEFT JOIN {table_genome_idx}\n",
    "        ON {table_sc_tech}.id = {table_genome_idx}.scTech_id\n",
    "        LEFT JOIN {table_sample_data}\n",
    "        ON {table_genome_idx}.id = {table_sample_data}.genomeIndex_id\n",
    "        WHERE {table_sample_data}.id = {sample_id}\n",
    "        \"\"\"\n",
    "        result = execute_query(query, user, password)[0][0]\n",
    "        return result\n",
    "    except Error as e:\n",
    "        print(f\"Error: {e}\")"
   ]
  },
  {
   "cell_type": "code",
   "execution_count": 10,
   "metadata": {
    "tags": []
   },
   "outputs": [],
   "source": [
    "# Get species from database for given sample\n",
    "from mysql.connector import connect, Error\n",
    "\n",
    "def get_sample_id(sample_name, user, password):\n",
    "    try:\n",
    "        table_sample_data = \"peer_lab_db.sample_data\"\n",
    "        query = f\"\"\"\n",
    "        SELECT {table_sample_data}.id\n",
    "        FROM {table_sample_data}\n",
    "        WHERE {table_sample_data}.Sample=\"{sample_name}\"\n",
    "        \"\"\"\n",
    "        result = execute_query(query, user, password)[0][0]\n",
    "        return result\n",
    "    except Error as e:\n",
    "        print(f\"Error: {e}\")"
   ]
  },
  {
   "cell_type": "code",
   "execution_count": 11,
   "metadata": {
    "tags": []
   },
   "outputs": [],
   "source": [
    "# Get species from database for given sample\n",
    "from mysql.connector import connect, Error\n",
    "\n",
    "def get_project_id(sample_id, user, password):\n",
    "    try:\n",
    "        table_sample_data = \"peer_lab_db.sample_data\"\n",
    "        table_project_data = \"peer_lab_db.project_data\"\n",
    "        query = f\"\"\"\n",
    "        SELECT {table_project_data}.projectName\n",
    "        FROM {table_project_data}\n",
    "        LEFT JOIN {table_sample_data}\n",
    "        ON {table_project_data}.id = {table_sample_data}.projectData_id\n",
    "        WHERE {table_sample_data}.id = {sample_id}\n",
    "        \"\"\"\n",
    "        result = execute_query(query, user, password)[0][0]\n",
    "        return result\n",
    "    except Error as e:\n",
    "        print(f\"Error: {e}\")"
   ]
  },
  {
   "cell_type": "code",
   "execution_count": 12,
   "metadata": {},
   "outputs": [],
   "source": [
    "def get_SEQC_version(loc):\n",
    "    try:\n",
    "        cmd = f\"aws s3 cp {loc}/seqc-results/seqc_log.txt -\"\n",
    "        out = subprocess.run(shlex.split(cmd), universal_newlines=True, capture_output=True).__dict__[\"stdout\"]\n",
    "        version = re.match(r\".*SEQC=v(\\d+\\.\\d+\\.\\d+).*\", out)[1]\n",
    "        return version\n",
    "    except:\n",
    "        return \"N/A\""
   ]
  },
  {
   "cell_type": "code",
   "execution_count": 13,
   "metadata": {},
   "outputs": [],
   "source": [
    "def get_file_prefix(loc):\n",
    "    try:\n",
    "        cmd = f\"aws s3 ls {loc}/seqc-results/\"\n",
    "        out = subprocess.run(shlex.split(cmd), universal_newlines=True, capture_output=True).__dict__[\"stdout\"]\n",
    "        \n",
    "        # Note: I'm expecting the aligned bam file to be in loc\n",
    "        bam_pattern = re.compile(r\"(.*)_Aligned\\.out\\.bam$\")\n",
    "        filename = list(filter(bam_pattern.match, out.split()))[0]\n",
    "        file_prefix = re.match(bam_pattern, filename)[1]\n",
    "        return file_prefix\n",
    "    except:\n",
    "        raise ValueError(f\"BAM file not found in {loc}\")\n",
    "        return \"\""
   ]
  },
  {
   "cell_type": "code",
   "execution_count": 14,
   "metadata": {},
   "outputs": [],
   "source": [
    "# FASTQ reads/indices required for each workflow\n",
    "# Shoudl replace with JSON file\n",
    "cr_reference_map = {\n",
    "    'CellRangerArc':\n",
    "    {\n",
    "        'Human': \"https://cf.10xgenomics.com/supp/cell-arc/refdata-cellranger-arc-GRCh38-2020-A.tar.gz\",\n",
    "        'Mouse': \"https://cf.10xgenomics.com/supp/cell-arc/refdata-cellranger-arc-mm10-2020-A-2.0.0.tar.gz\",\n",
    "    },\n",
    "    'CellRangerATAC':\n",
    "    {\n",
    "        'Human': \"https://cf.10xgenomics.com/supp/cell-atac/refdata-cellranger-arc-GRCh38-2020-A-2.0.0.tar.gz\",\n",
    "        'Mouse': \"https://cf.10xgenomics.com/supp/cell-atac/refdata-cellranger-arc-mm10-2020-A-2.0.0.tar.gz\",\n",
    "    },\n",
    "    'CellRangerGex':\n",
    "    {\n",
    "        'Human': \"https://cf.10xgenomics.com/supp/cell-exp/refdata-gex-GRCh38-2020-A.tar.gz\",\n",
    "        'Mouse': \"https://cf.10xgenomics.com/supp/cell-exp/refdata-gex-mm10-2020-A.tar.gz\",\n",
    "    },\n",
    "}\n",
    "\n",
    "def get_cr_reference(sample_id, prefix, user, password):\n",
    "    # Get species from database to decide reference\n",
    "    species = get_species(sample_id, user, password)\n",
    "    \n",
    "    # Map to reference locations\n",
    "    try:\n",
    "        return cr_reference_map[prefix][species]\n",
    "    except:\n",
    "        raise ValueError(f\"Unknown Species: {species}\")"
   ]
  },
  {
   "cell_type": "code",
   "execution_count": 15,
   "metadata": {},
   "outputs": [],
   "source": [
    "def get_bc_whitelist(sample_id):\n",
    "    # Get version from database to decide whitelist\n",
    "    sc_tech = get_sc_tech(sample_id, creds[\"user\"], creds[\"password\"])\n",
    "    \n",
    "    # Map to reference locations\n",
    "    if \"V3\" in sc_tech:\n",
    "        return \"s3://seqc-public/barcodes/ten_x_v3/flat/3M-february-2018.txt\"\n",
    "    elif \"V2\" in sc_tech:\n",
    "        return \"s3://seqc-public/barcodes/ten_x_v2/flat/737K-august-2016.txt\"\n",
    "    else:\n",
    "        raise ValueError(f\"Unknown Technology: {sc_tech}\")"
   ]
  },
  {
   "cell_type": "code",
   "execution_count": 16,
   "metadata": {
    "tags": []
   },
   "outputs": [],
   "source": [
    "def run(\n",
    "    workflow_path: str,\n",
    "    execp: str,\n",
    "    secrets: str,\n",
    "    inputs: str,\n",
    "    labels: str,\n",
    "    options: str,\n",
    "):\n",
    "    # change working directory to the pipeline package\n",
    "    oldwd = os.getcwd()\n",
    "    os.chdir(workflow_path)\n",
    "    \n",
    "    # execute the pipeline command\n",
    "    cmd = f\"{workflow_path}/{execp} -k {secrets} -i {inputs} -l {labels} -o {options}\"\n",
    "    var = subprocess.run(shlex.split(cmd), universal_newlines=True, capture_output=True)\n",
    "    out = var.__dict__\n",
    "    \n",
    "    # change working directory back\n",
    "    os.chdir(oldwd)\n",
    "    \n",
    "    return out"
   ]
  },
  {
   "cell_type": "code",
   "execution_count": null,
   "metadata": {},
   "outputs": [],
   "source": []
  },
  {
   "cell_type": "markdown",
   "metadata": {
    "tags": []
   },
   "source": [
    "## Additional functions"
   ]
  },
  {
   "cell_type": "markdown",
   "metadata": {
    "tags": []
   },
   "source": [
    "### DB query"
   ]
  },
  {
   "cell_type": "code",
   "execution_count": 17,
   "metadata": {},
   "outputs": [],
   "source": [
    "# Common query col: id, request_id, Sample\n",
    "def get_sample_name(query, query_col, creds):\n",
    "    \n",
    "    user = creds['user']\n",
    "    password = creds['password']\n",
    "    \n",
    "    try:\n",
    "        table_sample_data = \"peer_lab_db.sample_data\"\n",
    "        query = f\"\"\"\n",
    "        SELECT {table_sample_data}.Sample\n",
    "        FROM {table_sample_data}\n",
    "        WHERE {table_sample_data}.{query_col}=\"{query}\"\n",
    "        \"\"\"\n",
    "        sample_names = []\n",
    "        results = execute_query(query, user, password)\n",
    "        for result in results:\n",
    "            sample_names.append(result[0])\n",
    "        return sample_names\n",
    "    except Error as e:\n",
    "        print(f\"Error: {e}\")\n",
    "    \n",
    "    \n",
    "def get_aws_path(query, query_col, creds):\n",
    "    \n",
    "    user = creds['user']\n",
    "    password = creds['password']\n",
    "    \n",
    "    try:\n",
    "        table_sample_data = \"peer_lab_db.sample_data\"\n",
    "        query = f\"\"\"\n",
    "        SELECT {table_sample_data}.AWS_storage\n",
    "        FROM {table_sample_data}\n",
    "        WHERE {table_sample_data}.{query_col}=\"{query}\"\n",
    "        \"\"\"\n",
    "        sample_paths = []\n",
    "        results = execute_query(query, user, password)\n",
    "        for result in results:\n",
    "            sample_paths.append(result[0])\n",
    "        return sample_paths\n",
    "    except Error as e:\n",
    "        print(f\"Error: {e}\")\n",
    "        \n",
    "            \n",
    "def get_sample_id(query, query_col, creds):\n",
    "    \n",
    "    user = creds['user']\n",
    "    password = creds['password']\n",
    "    \n",
    "    try:\n",
    "        table_sample_data = \"peer_lab_db.sample_data\"\n",
    "        query = f\"\"\"\n",
    "        SELECT {table_sample_data}.id\n",
    "        FROM {table_sample_data}\n",
    "        WHERE {table_sample_data}.{query_col}=\"{query}\"\n",
    "        \"\"\"\n",
    "        sample_ids = []\n",
    "        results = execute_query(query, user, password)\n",
    "        for result in results:\n",
    "            sample_ids.append(result[0])\n",
    "        return sample_ids\n",
    "    except Error as e:\n",
    "        print(f\"Error: {e}\")\n",
    "        \n",
    "def format_sample_aws(querys, query_col, creds):\n",
    "    sample_names = []\n",
    "    sample_paths = []\n",
    "    sample_ids = []\n",
    "    \n",
    "    for query in querys:\n",
    "        sample_names += get_sample_name(query, query_col, creds)\n",
    "        sample_paths += get_aws_path(query, query_col, creds)\n",
    "        sample_ids += get_sample_id(query, query_col, creds)\n",
    "        \n",
    "    sample_paths = [s.strip('/') for s in sample_paths] # remove trailing slash if exists\n",
    "    \n",
    "    samples = pd.DataFrame(\n",
    "        dict(S3_Path=sample_paths, Sample_ID=sample_ids),\n",
    "        index=sample_names,\n",
    "        dtype=str,\n",
    "    )\n",
    "    return samples"
   ]
  },
  {
   "cell_type": "code",
   "execution_count": 18,
   "metadata": {},
   "outputs": [],
   "source": [
    "def get_genomeIndex_id(query, query_col, creds):\n",
    "    user = creds['user']\n",
    "    password = creds['password']\n",
    "    \n",
    "    try:\n",
    "        table_sample_data = \"peer_lab_db.sample_data\"\n",
    "        query = f\"\"\"\n",
    "        SELECT {table_sample_data}.genomeIndex_id\n",
    "        FROM {table_sample_data}\n",
    "        WHERE {table_sample_data}.{query_col}=\"{query}\"\n",
    "        \"\"\"\n",
    "        \n",
    "        results = execute_query(query, user, password)\n",
    "        for result in results:\n",
    "            genomeIndex_id = result[0]\n",
    "            \n",
    "        return genomeIndex_id\n",
    "            \n",
    "    except Error as e:\n",
    "        print(f\"Error: {e}\")\n",
    "        \n",
    "def get_scTech_id(query, query_col, creds):\n",
    "    user = creds['user']\n",
    "    password = creds['password']\n",
    "    \n",
    "    try:\n",
    "        table_sample_data = \"peer_lab_db.genome_index\"\n",
    "        query = f\"\"\"\n",
    "        SELECT {table_sample_data}.scTech_id\n",
    "        FROM {table_sample_data}\n",
    "        WHERE {table_sample_data}.{query_col}=\"{query}\"\n",
    "        \"\"\"\n",
    "        \n",
    "        results = execute_query(query, user, password)\n",
    "        for result in results:\n",
    "            scTech_id = result[0]\n",
    "            \n",
    "        return scTech_id\n",
    "            \n",
    "    except Error as e:\n",
    "        print(f\"Error: {e}\")\n",
    "        \n",
    "def get_index(query, query_col, creds):\n",
    "    user = creds['user']\n",
    "    password = creds['password']\n",
    "    \n",
    "    try:\n",
    "        table_sample_data = \"peer_lab_db.genome_index\"\n",
    "        query = f\"\"\"\n",
    "        SELECT {table_sample_data}.gIndex\n",
    "        FROM {table_sample_data}\n",
    "        WHERE {table_sample_data}.{query_col}=\"{query}\"\n",
    "        \"\"\"\n",
    "        \n",
    "        results = execute_query(query, user, password)\n",
    "        for result in results:\n",
    "            index = result[0]\n",
    "            \n",
    "        return index\n",
    "            \n",
    "    except Error as e:\n",
    "        print(f\"Error: {e}\")\n",
    "        \n",
    "def get_assay(query, query_col, creds):\n",
    "    user = creds['user']\n",
    "    password = creds['password']\n",
    "    \n",
    "    try:\n",
    "        table_sample_data = \"peer_lab_db.sc_tech\"\n",
    "        query = f\"\"\"\n",
    "        SELECT {table_sample_data}.Run_name\n",
    "        FROM {table_sample_data}\n",
    "        WHERE {table_sample_data}.{query_col}=\"{query}\"\n",
    "        \"\"\"\n",
    "        \n",
    "        results = execute_query(query, user, password)\n",
    "        for result in results:\n",
    "            assay = result[0]\n",
    "            \n",
    "        return assay\n",
    "            \n",
    "    except Error as e:\n",
    "        print(f\"Error: {e}\")\n",
    "        \n",
    "def get_barcode(query, query_col, creds):\n",
    "    user = creds['user']\n",
    "    password = creds['password']\n",
    "    \n",
    "    try:\n",
    "        table_sample_data = \"peer_lab_db.sc_tech\"\n",
    "        query = f\"\"\"\n",
    "        SELECT {table_sample_data}.barcodes\n",
    "        FROM {table_sample_data}\n",
    "        WHERE {table_sample_data}.{query_col}=\"{query}\"\n",
    "        \"\"\"\n",
    "        \n",
    "        results = execute_query(query, user, password)\n",
    "        for result in results:\n",
    "            barcode = result[0]\n",
    "            \n",
    "        return barcode\n",
    "            \n",
    "    except Error as e:\n",
    "        print(f\"Error: {e}\")\n",
    "        \n",
    "        \n",
    "def format_assay_barcode(samples, creds):\n",
    "    \n",
    "    # samples['genomeIndex_id'] = np.nan\n",
    "    samples['Reference'] = np.nan\n",
    "    # samples['scTech_id'] = np.nan\n",
    "    samples['assay'] = np.nan\n",
    "    # samples['barcode'] = np.nan\n",
    "    \n",
    "    for sample, row in samples.iterrows():\n",
    "        sample_id = row['Sample_ID']\n",
    "        \n",
    "        genomeIndex_id  = get_genomeIndex_id(sample_id, 'id', creds)\n",
    "        index = get_index(genomeIndex_id, 'id', creds)\n",
    "        scTech_id = get_scTech_id(genomeIndex_id, 'id', creds)\n",
    "        assay = get_assay(scTech_id, 'id', creds)\n",
    "        barcode = get_barcode(scTech_id, 'id', creds)\n",
    "        \n",
    "        # samples.loc[sample, 'genomeIndex_id'] = genomeIndex_id\n",
    "        samples.loc[sample, 'Reference'] = index.strip()\n",
    "        # samples.loc[sample, 'scTech_id'] = scTech_id\n",
    "        samples.loc[sample, 'assay'] = assay.strip()\n",
    "        # samples.loc[sample, 'barcode'] = barcode.strip()\n",
    "\n",
    "    return samples"
   ]
  },
  {
   "cell_type": "code",
   "execution_count": 19,
   "metadata": {},
   "outputs": [],
   "source": [
    "def get_project_id(sample_id, creds):\n",
    "    \n",
    "    user = creds['user']\n",
    "    password = creds['password']\n",
    "    \n",
    "    try:\n",
    "        table_sample_data = \"peer_lab_db.sample_data\"\n",
    "        table_project_data = \"peer_lab_db.project_data\"\n",
    "        query = f\"\"\"\n",
    "        SELECT {table_project_data}.projectName\n",
    "        FROM {table_project_data}\n",
    "        LEFT JOIN {table_sample_data}\n",
    "        ON {table_project_data}.id = {table_sample_data}.projectData_id\n",
    "        WHERE {table_sample_data}.id = {sample_id}\n",
    "        \"\"\"\n",
    "        result = execute_query(query, user, password)[0][0]\n",
    "        return result\n",
    "    except Error as e:\n",
    "        print(f\"Error: {e}\")"
   ]
  },
  {
   "cell_type": "markdown",
   "metadata": {},
   "source": [
    "# Process Samples"
   ]
  },
  {
   "cell_type": "markdown",
   "metadata": {
    "tags": []
   },
   "source": [
    "## Setup"
   ]
  },
  {
   "cell_type": "code",
   "execution_count": 20,
   "metadata": {},
   "outputs": [],
   "source": [
    "# Location of docker files\n",
    "common_docker_registry = \"quay.io/hisplan\"\n",
    "\n",
    "prefix = \"CellRangerGex\" # Workflow to run; also .wdl filename prefix\n",
    "pipeline_type = prefix # field in *.labels.json\n",
    "output_dirname = \"cr-gex-results\"\n",
    "\n",
    "# If need to add comment, put here\n",
    "comment = \"sohailn\""
   ]
  },
  {
   "cell_type": "code",
   "execution_count": 21,
   "metadata": {},
   "outputs": [],
   "source": [
    "# Locations of workflow-related directories and files\n",
    "path_to_cromwell_secrets = f\"{Path.home()}/.cromwell/cromwell-secrets.json\" # CHANGE THIS\n",
    "workflow_dir = f\"{Path.home()}/scing/bin/cellranger-gex-6.1.2\" # CHANGE THIS\n",
    "path_to_exec = f\"{workflow_dir}/submit.sh\" # CHANGE THIS FOR SHARP\n",
    "config_dir = f\"{workflow_dir}/configs\"\n",
    "path_to_options = f\"{workflow_dir}/{prefix}.options.aws.json\"\n",
    "\n",
    "# Other file locations\n",
    "db_credentials_path = f\"{Path.home()}/.config.json\" # CHANGE THIS"
   ]
  },
  {
   "cell_type": "code",
   "execution_count": 22,
   "metadata": {},
   "outputs": [],
   "source": [
    "# Set credentials based on SCRIdb CLI config file\n",
    "with open(db_credentials_path) as f:\n",
    "    creds = json.load(f)"
   ]
  },
  {
   "cell_type": "code",
   "execution_count": null,
   "metadata": {},
   "outputs": [],
   "source": []
  },
  {
   "cell_type": "code",
   "execution_count": null,
   "metadata": {},
   "outputs": [],
   "source": []
  },
  {
   "cell_type": "markdown",
   "metadata": {},
   "source": [
    "## Get sample Information"
   ]
  },
  {
   "cell_type": "code",
   "execution_count": 25,
   "metadata": {},
   "outputs": [
    {
     "data": {
      "text/html": [
       "<div>\n",
       "<style scoped>\n",
       "    .dataframe tbody tr th:only-of-type {\n",
       "        vertical-align: middle;\n",
       "    }\n",
       "\n",
       "    .dataframe tbody tr th {\n",
       "        vertical-align: top;\n",
       "    }\n",
       "\n",
       "    .dataframe thead th {\n",
       "        text-align: right;\n",
       "    }\n",
       "</style>\n",
       "<table border=\"1\" class=\"dataframe\">\n",
       "  <thead>\n",
       "    <tr style=\"text-align: right;\">\n",
       "      <th></th>\n",
       "      <th>S3_Path</th>\n",
       "      <th>Sample_ID</th>\n",
       "    </tr>\n",
       "  </thead>\n",
       "  <tbody>\n",
       "    <tr>\n",
       "      <th>YM-1704_Krt4eGFP</th>\n",
       "      <td>s3://dp-lab-data/collaborators/white...</td>\n",
       "      <td>3845</td>\n",
       "    </tr>\n",
       "    <tr>\n",
       "      <th>YM-1704_Krt4TWIST</th>\n",
       "      <td>s3://dp-lab-data/collaborators/white...</td>\n",
       "      <td>3846</td>\n",
       "    </tr>\n",
       "  </tbody>\n",
       "</table>\n",
       "</div>"
      ],
      "text/plain": [
       "                                                   S3_Path Sample_ID\n",
       "YM-1704_Krt4eGFP   s3://dp-lab-data/collaborators/white...      3845\n",
       "YM-1704_Krt4TWIST  s3://dp-lab-data/collaborators/white...      3846"
      ]
     },
     "execution_count": 25,
     "metadata": {},
     "output_type": "execute_result"
    }
   ],
   "source": [
    "# Common query col: id, request_id, Sample\n",
    "request_ids = ['YM-1704', ]\n",
    "\n",
    "samples = format_sample_aws(request_ids, 'request_id', creds)\n",
    "samples"
   ]
  },
  {
   "cell_type": "code",
   "execution_count": 26,
   "metadata": {},
   "outputs": [
    {
     "data": {
      "text/html": [
       "<div>\n",
       "<style scoped>\n",
       "    .dataframe tbody tr th:only-of-type {\n",
       "        vertical-align: middle;\n",
       "    }\n",
       "\n",
       "    .dataframe tbody tr th {\n",
       "        vertical-align: top;\n",
       "    }\n",
       "\n",
       "    .dataframe thead th {\n",
       "        text-align: right;\n",
       "    }\n",
       "</style>\n",
       "<table border=\"1\" class=\"dataframe\">\n",
       "  <thead>\n",
       "    <tr style=\"text-align: right;\">\n",
       "      <th></th>\n",
       "      <th>S3_Path</th>\n",
       "      <th>Sample_ID</th>\n",
       "      <th>Reference</th>\n",
       "      <th>assay</th>\n",
       "    </tr>\n",
       "  </thead>\n",
       "  <tbody>\n",
       "    <tr>\n",
       "      <th>YM-1704_Krt4eGFP</th>\n",
       "      <td>s3://dp-lab-data/collaborators/white...</td>\n",
       "      <td>3845</td>\n",
       "      <td>s3://dp-lab-data/collaborators/white...</td>\n",
       "      <td>CR</td>\n",
       "    </tr>\n",
       "    <tr>\n",
       "      <th>YM-1704_Krt4TWIST</th>\n",
       "      <td>s3://dp-lab-data/collaborators/white...</td>\n",
       "      <td>3846</td>\n",
       "      <td>s3://dp-lab-data/collaborators/white...</td>\n",
       "      <td>CR</td>\n",
       "    </tr>\n",
       "  </tbody>\n",
       "</table>\n",
       "</div>"
      ],
      "text/plain": [
       "                                                   S3_Path Sample_ID  \\\n",
       "YM-1704_Krt4eGFP   s3://dp-lab-data/collaborators/white...      3845   \n",
       "YM-1704_Krt4TWIST  s3://dp-lab-data/collaborators/white...      3846   \n",
       "\n",
       "                                                 Reference assay  \n",
       "YM-1704_Krt4eGFP   s3://dp-lab-data/collaborators/white...    CR  \n",
       "YM-1704_Krt4TWIST  s3://dp-lab-data/collaborators/white...    CR  "
      ]
     },
     "execution_count": 26,
     "metadata": {},
     "output_type": "execute_result"
    }
   ],
   "source": [
    "samples = format_assay_barcode(samples, creds)\n",
    "samples"
   ]
  },
  {
   "cell_type": "code",
   "execution_count": 27,
   "metadata": {},
   "outputs": [
    {
     "data": {
      "text/html": [
       "<div>\n",
       "<style scoped>\n",
       "    .dataframe tbody tr th:only-of-type {\n",
       "        vertical-align: middle;\n",
       "    }\n",
       "\n",
       "    .dataframe tbody tr th {\n",
       "        vertical-align: top;\n",
       "    }\n",
       "\n",
       "    .dataframe thead th {\n",
       "        text-align: right;\n",
       "    }\n",
       "</style>\n",
       "<table border=\"1\" class=\"dataframe\">\n",
       "  <thead>\n",
       "    <tr style=\"text-align: right;\">\n",
       "      <th></th>\n",
       "      <th>S3_Path</th>\n",
       "      <th>Sample_ID</th>\n",
       "      <th>Reference</th>\n",
       "      <th>assay</th>\n",
       "      <th>FASTQs</th>\n",
       "    </tr>\n",
       "  </thead>\n",
       "  <tbody>\n",
       "    <tr>\n",
       "      <th>YM-1704_Krt4eGFP</th>\n",
       "      <td>s3://dp-lab-data/collaborators/white...</td>\n",
       "      <td>3845</td>\n",
       "      <td>s3://dp-lab-data/collaborators/white...</td>\n",
       "      <td>CR</td>\n",
       "      <td>{'I1': ['s3://dp-lab-data/collaborat...</td>\n",
       "    </tr>\n",
       "    <tr>\n",
       "      <th>YM-1704_Krt4TWIST</th>\n",
       "      <td>s3://dp-lab-data/collaborators/white...</td>\n",
       "      <td>3846</td>\n",
       "      <td>s3://dp-lab-data/collaborators/white...</td>\n",
       "      <td>CR</td>\n",
       "      <td>{'I1': ['s3://dp-lab-data/collaborat...</td>\n",
       "    </tr>\n",
       "  </tbody>\n",
       "</table>\n",
       "</div>"
      ],
      "text/plain": [
       "                                                   S3_Path Sample_ID  \\\n",
       "YM-1704_Krt4eGFP   s3://dp-lab-data/collaborators/white...      3845   \n",
       "YM-1704_Krt4TWIST  s3://dp-lab-data/collaborators/white...      3846   \n",
       "\n",
       "                                                 Reference assay  \\\n",
       "YM-1704_Krt4eGFP   s3://dp-lab-data/collaborators/white...    CR   \n",
       "YM-1704_Krt4TWIST  s3://dp-lab-data/collaborators/white...    CR   \n",
       "\n",
       "                                                    FASTQs  \n",
       "YM-1704_Krt4eGFP   {'I1': ['s3://dp-lab-data/collaborat...  \n",
       "YM-1704_Krt4TWIST  {'I1': ['s3://dp-lab-data/collaborat...  "
      ]
     },
     "execution_count": 27,
     "metadata": {},
     "output_type": "execute_result"
    }
   ],
   "source": [
    "# Get FASTQ paths from S3\n",
    "# Note: Uses same FASTQ file ids for all samples\n",
    "fastq_file_ids = fastq_map[prefix]\n",
    "samples[\"FASTQs\"] = samples[\"S3_Path\"].apply(lambda x: get_fastqs(x, fastq_file_ids, \"FASTQ\"))\n",
    "samples"
   ]
  },
  {
   "cell_type": "code",
   "execution_count": 28,
   "metadata": {},
   "outputs": [
    {
     "data": {
      "text/plain": [
       "array(['s3://dp-lab-data/collaborators/whiter/YM-1704_transgene_reference/refdata-cellranger/',\n",
       "       's3://dp-lab-data/collaborators/whiter/YM-1704_transgene_reference/refdata-cellranger/'],\n",
       "      dtype=object)"
      ]
     },
     "execution_count": 28,
     "metadata": {},
     "output_type": "execute_result"
    }
   ],
   "source": [
    "samples['Reference'].values"
   ]
  },
  {
   "cell_type": "code",
   "execution_count": 29,
   "metadata": {},
   "outputs": [],
   "source": [
    "# Set path to transgene reference S3\n",
    "# Note: This is an exceptional case\n",
    "# path_to_reference = f\"{common_dir}/transgene_reference/refdata-cellranger/3PS19_SNSEQ-GRCm38-Ensembl-87-transgenes.tar.gz\"\n",
    "# path_to_reference = \"https://cf.10xgenomics.com/supp/cell-exp/refdata-gex-mm10-2020-A.tar.gz\""
   ]
  },
  {
   "cell_type": "code",
   "execution_count": null,
   "metadata": {},
   "outputs": [],
   "source": []
  },
  {
   "cell_type": "markdown",
   "metadata": {},
   "source": [
    "## Inputs"
   ]
  },
  {
   "cell_type": "code",
   "execution_count": 30,
   "metadata": {},
   "outputs": [
    {
     "data": {
      "text/html": [
       "<div>\n",
       "<style scoped>\n",
       "    .dataframe tbody tr th:only-of-type {\n",
       "        vertical-align: middle;\n",
       "    }\n",
       "\n",
       "    .dataframe tbody tr th {\n",
       "        vertical-align: top;\n",
       "    }\n",
       "\n",
       "    .dataframe thead th {\n",
       "        text-align: right;\n",
       "    }\n",
       "</style>\n",
       "<table border=\"1\" class=\"dataframe\">\n",
       "  <thead>\n",
       "    <tr style=\"text-align: right;\">\n",
       "      <th></th>\n",
       "      <th>CellRangerGex.sampleName</th>\n",
       "      <th>CellRangerGex.fastqName</th>\n",
       "      <th>CellRangerGex.inputFastq</th>\n",
       "      <th>CellRangerGex.referenceUrl</th>\n",
       "      <th>CellRangerGex.includeIntrons</th>\n",
       "      <th>CellRangerGex.expectCells</th>\n",
       "      <th>CellRangerGex.memory</th>\n",
       "      <th>CellRangerGex.dockerRegistry</th>\n",
       "    </tr>\n",
       "  </thead>\n",
       "  <tbody>\n",
       "    <tr>\n",
       "      <th>YM-1704_Krt4eGFP</th>\n",
       "      <td>NaN</td>\n",
       "      <td>NaN</td>\n",
       "      <td>NaN</td>\n",
       "      <td>NaN</td>\n",
       "      <td>NaN</td>\n",
       "      <td>NaN</td>\n",
       "      <td>NaN</td>\n",
       "      <td>NaN</td>\n",
       "    </tr>\n",
       "    <tr>\n",
       "      <th>YM-1704_Krt4TWIST</th>\n",
       "      <td>NaN</td>\n",
       "      <td>NaN</td>\n",
       "      <td>NaN</td>\n",
       "      <td>NaN</td>\n",
       "      <td>NaN</td>\n",
       "      <td>NaN</td>\n",
       "      <td>NaN</td>\n",
       "      <td>NaN</td>\n",
       "    </tr>\n",
       "  </tbody>\n",
       "</table>\n",
       "</div>"
      ],
      "text/plain": [
       "                  CellRangerGex.sampleName CellRangerGex.fastqName  \\\n",
       "YM-1704_Krt4eGFP                       NaN                     NaN   \n",
       "YM-1704_Krt4TWIST                      NaN                     NaN   \n",
       "\n",
       "                  CellRangerGex.inputFastq CellRangerGex.referenceUrl  \\\n",
       "YM-1704_Krt4eGFP                       NaN                        NaN   \n",
       "YM-1704_Krt4TWIST                      NaN                        NaN   \n",
       "\n",
       "                  CellRangerGex.includeIntrons CellRangerGex.expectCells  \\\n",
       "YM-1704_Krt4eGFP                           NaN                       NaN   \n",
       "YM-1704_Krt4TWIST                          NaN                       NaN   \n",
       "\n",
       "                  CellRangerGex.memory CellRangerGex.dockerRegistry  \n",
       "YM-1704_Krt4eGFP                   NaN                          NaN  \n",
       "YM-1704_Krt4TWIST                  NaN                          NaN  "
      ]
     },
     "execution_count": 30,
     "metadata": {},
     "output_type": "execute_result"
    }
   ],
   "source": [
    "# Load minimum inputs and labels fields from templates\n",
    "with open(f\"{config_dir}/template.inputs.json\") as f:\n",
    "    std_inputs_fields = list(json.load(f).keys())\n",
    "    \n",
    "# Annotate all samples with workflow inputs and labels\n",
    "inputs = pd.DataFrame(index=samples.index, columns=std_inputs_fields,)\n",
    "\n",
    "inputs"
   ]
  },
  {
   "cell_type": "code",
   "execution_count": 31,
   "metadata": {},
   "outputs": [
    {
     "data": {
      "text/html": [
       "<div>\n",
       "<style scoped>\n",
       "    .dataframe tbody tr th:only-of-type {\n",
       "        vertical-align: middle;\n",
       "    }\n",
       "\n",
       "    .dataframe tbody tr th {\n",
       "        vertical-align: top;\n",
       "    }\n",
       "\n",
       "    .dataframe thead th {\n",
       "        text-align: right;\n",
       "    }\n",
       "</style>\n",
       "<table border=\"1\" class=\"dataframe\">\n",
       "  <thead>\n",
       "    <tr style=\"text-align: right;\">\n",
       "      <th></th>\n",
       "      <th>CellRangerGex.sampleName</th>\n",
       "      <th>CellRangerGex.fastqName</th>\n",
       "      <th>CellRangerGex.inputFastq</th>\n",
       "      <th>CellRangerGex.referenceUrl</th>\n",
       "      <th>CellRangerGex.includeIntrons</th>\n",
       "      <th>CellRangerGex.expectCells</th>\n",
       "      <th>CellRangerGex.memory</th>\n",
       "      <th>CellRangerGex.dockerRegistry</th>\n",
       "    </tr>\n",
       "  </thead>\n",
       "  <tbody>\n",
       "    <tr>\n",
       "      <th>YM-1704_Krt4eGFP</th>\n",
       "      <td>YM-1704_Krt4eGFP</td>\n",
       "      <td>3845_YM-1704_Krt4eGFP_IGO_12437_AO_37</td>\n",
       "      <td>[s3://dp-lab-data/collaborators/whit...</td>\n",
       "      <td>s3://dp-lab-data/collaborators/white...</td>\n",
       "      <td>False</td>\n",
       "      <td>5000</td>\n",
       "      <td>256</td>\n",
       "      <td>quay.io/hisplan</td>\n",
       "    </tr>\n",
       "    <tr>\n",
       "      <th>YM-1704_Krt4TWIST</th>\n",
       "      <td>YM-1704_Krt4TWIST</td>\n",
       "      <td>3846_YM-1704_Krt4TWIST_IGO_12437_AO_38</td>\n",
       "      <td>[s3://dp-lab-data/collaborators/whit...</td>\n",
       "      <td>s3://dp-lab-data/collaborators/white...</td>\n",
       "      <td>False</td>\n",
       "      <td>5000</td>\n",
       "      <td>256</td>\n",
       "      <td>quay.io/hisplan</td>\n",
       "    </tr>\n",
       "  </tbody>\n",
       "</table>\n",
       "</div>"
      ],
      "text/plain": [
       "                  CellRangerGex.sampleName  \\\n",
       "YM-1704_Krt4eGFP          YM-1704_Krt4eGFP   \n",
       "YM-1704_Krt4TWIST        YM-1704_Krt4TWIST   \n",
       "\n",
       "                                  CellRangerGex.fastqName  \\\n",
       "YM-1704_Krt4eGFP    3845_YM-1704_Krt4eGFP_IGO_12437_AO_37   \n",
       "YM-1704_Krt4TWIST  3846_YM-1704_Krt4TWIST_IGO_12437_AO_38   \n",
       "\n",
       "                                  CellRangerGex.inputFastq  \\\n",
       "YM-1704_Krt4eGFP   [s3://dp-lab-data/collaborators/whit...   \n",
       "YM-1704_Krt4TWIST  [s3://dp-lab-data/collaborators/whit...   \n",
       "\n",
       "                                CellRangerGex.referenceUrl  \\\n",
       "YM-1704_Krt4eGFP   s3://dp-lab-data/collaborators/white...   \n",
       "YM-1704_Krt4TWIST  s3://dp-lab-data/collaborators/white...   \n",
       "\n",
       "                   CellRangerGex.includeIntrons  CellRangerGex.expectCells  \\\n",
       "YM-1704_Krt4eGFP                          False                       5000   \n",
       "YM-1704_Krt4TWIST                         False                       5000   \n",
       "\n",
       "                   CellRangerGex.memory CellRangerGex.dockerRegistry  \n",
       "YM-1704_Krt4eGFP                    256              quay.io/hisplan  \n",
       "YM-1704_Krt4TWIST                   256              quay.io/hisplan  "
      ]
     },
     "execution_count": 31,
     "metadata": {},
     "output_type": "execute_result"
    }
   ],
   "source": [
    "# Annotate inputs\n",
    "inputs[f\"{prefix}.sampleName\"] = inputs.index # may need to change\n",
    "inputs[f\"{prefix}.inputFastq\"] = samples[\"FASTQs\"].apply(lambda x: np.ravel(list(x.values())))\n",
    "inputs[f\"{prefix}.fastqName\"] = inputs[f\"{prefix}.inputFastq\"].apply(lambda x: get_fastqs_name(x))\n",
    "inputs[f\"{prefix}.referenceUrl\"] = samples[\"Reference\"]                        \n",
    "inputs[f\"{prefix}.includeIntrons\"] = False\n",
    "inputs[f\"{prefix}.expectCells\"] = 5000\n",
    "inputs[f\"{prefix}.memory\"] = 256\n",
    "inputs[f\"{prefix}.dockerRegistry\"] = common_docker_registry\n",
    "\n",
    "inputs"
   ]
  },
  {
   "cell_type": "code",
   "execution_count": null,
   "metadata": {},
   "outputs": [],
   "source": []
  },
  {
   "cell_type": "markdown",
   "metadata": {},
   "source": [
    "## Labels"
   ]
  },
  {
   "cell_type": "code",
   "execution_count": 32,
   "metadata": {},
   "outputs": [
    {
     "data": {
      "text/html": [
       "<div>\n",
       "<style scoped>\n",
       "    .dataframe tbody tr th:only-of-type {\n",
       "        vertical-align: middle;\n",
       "    }\n",
       "\n",
       "    .dataframe tbody tr th {\n",
       "        vertical-align: top;\n",
       "    }\n",
       "\n",
       "    .dataframe thead th {\n",
       "        text-align: right;\n",
       "    }\n",
       "</style>\n",
       "<table border=\"1\" class=\"dataframe\">\n",
       "  <thead>\n",
       "    <tr style=\"text-align: right;\">\n",
       "      <th></th>\n",
       "      <th>pipelineType</th>\n",
       "      <th>project</th>\n",
       "      <th>sample</th>\n",
       "      <th>owner</th>\n",
       "      <th>destination</th>\n",
       "      <th>transfer</th>\n",
       "      <th>comment</th>\n",
       "    </tr>\n",
       "  </thead>\n",
       "  <tbody>\n",
       "    <tr>\n",
       "      <th>YM-1704_Krt4eGFP</th>\n",
       "      <td>NaN</td>\n",
       "      <td>NaN</td>\n",
       "      <td>NaN</td>\n",
       "      <td>NaN</td>\n",
       "      <td>NaN</td>\n",
       "      <td>NaN</td>\n",
       "      <td>NaN</td>\n",
       "    </tr>\n",
       "    <tr>\n",
       "      <th>YM-1704_Krt4TWIST</th>\n",
       "      <td>NaN</td>\n",
       "      <td>NaN</td>\n",
       "      <td>NaN</td>\n",
       "      <td>NaN</td>\n",
       "      <td>NaN</td>\n",
       "      <td>NaN</td>\n",
       "      <td>NaN</td>\n",
       "    </tr>\n",
       "  </tbody>\n",
       "</table>\n",
       "</div>"
      ],
      "text/plain": [
       "                  pipelineType project sample owner destination transfer  \\\n",
       "YM-1704_Krt4eGFP           NaN     NaN    NaN   NaN         NaN      NaN   \n",
       "YM-1704_Krt4TWIST          NaN     NaN    NaN   NaN         NaN      NaN   \n",
       "\n",
       "                  comment  \n",
       "YM-1704_Krt4eGFP      NaN  \n",
       "YM-1704_Krt4TWIST     NaN  "
      ]
     },
     "execution_count": 32,
     "metadata": {},
     "output_type": "execute_result"
    }
   ],
   "source": [
    "with open(f\"{config_dir}/template.labels.json\") as f:\n",
    "    std_labels_fields = list(json.load(f).keys())\n",
    "    \n",
    "# Annotate all samples with workflow inputs and labels\n",
    "labels = pd.DataFrame(index=samples.index, columns=std_labels_fields,)\n",
    "labels"
   ]
  },
  {
   "cell_type": "code",
   "execution_count": 33,
   "metadata": {},
   "outputs": [
    {
     "data": {
      "text/html": [
       "<div>\n",
       "<style scoped>\n",
       "    .dataframe tbody tr th:only-of-type {\n",
       "        vertical-align: middle;\n",
       "    }\n",
       "\n",
       "    .dataframe tbody tr th {\n",
       "        vertical-align: top;\n",
       "    }\n",
       "\n",
       "    .dataframe thead th {\n",
       "        text-align: right;\n",
       "    }\n",
       "</style>\n",
       "<table border=\"1\" class=\"dataframe\">\n",
       "  <thead>\n",
       "    <tr style=\"text-align: right;\">\n",
       "      <th></th>\n",
       "      <th>pipelineType</th>\n",
       "      <th>project</th>\n",
       "      <th>sample</th>\n",
       "      <th>owner</th>\n",
       "      <th>destination</th>\n",
       "      <th>transfer</th>\n",
       "      <th>comment</th>\n",
       "    </tr>\n",
       "  </thead>\n",
       "  <tbody>\n",
       "    <tr>\n",
       "      <th>YM-1704_Krt4eGFP</th>\n",
       "      <td>CellRangerGex</td>\n",
       "      <td>Zebrafish KC-MC</td>\n",
       "      <td>YM-1704_Krt4eGFP</td>\n",
       "      <td>sohailn</td>\n",
       "      <td>s3://dp-lab-data/collaborators/white...</td>\n",
       "      <td>-</td>\n",
       "      <td>sohailn</td>\n",
       "    </tr>\n",
       "    <tr>\n",
       "      <th>YM-1704_Krt4TWIST</th>\n",
       "      <td>CellRangerGex</td>\n",
       "      <td>Zebrafish KC-MC</td>\n",
       "      <td>YM-1704_Krt4TWIST</td>\n",
       "      <td>sohailn</td>\n",
       "      <td>s3://dp-lab-data/collaborators/white...</td>\n",
       "      <td>-</td>\n",
       "      <td>sohailn</td>\n",
       "    </tr>\n",
       "  </tbody>\n",
       "</table>\n",
       "</div>"
      ],
      "text/plain": [
       "                    pipelineType          project             sample    owner  \\\n",
       "YM-1704_Krt4eGFP   CellRangerGex  Zebrafish KC-MC   YM-1704_Krt4eGFP  sohailn   \n",
       "YM-1704_Krt4TWIST  CellRangerGex  Zebrafish KC-MC  YM-1704_Krt4TWIST  sohailn   \n",
       "\n",
       "                                               destination transfer  comment  \n",
       "YM-1704_Krt4eGFP   s3://dp-lab-data/collaborators/white...        -  sohailn  \n",
       "YM-1704_Krt4TWIST  s3://dp-lab-data/collaborators/white...        -  sohailn  "
      ]
     },
     "execution_count": 33,
     "metadata": {},
     "output_type": "execute_result"
    }
   ],
   "source": [
    "labels[\"pipelineType\"] = pipeline_type\n",
    "labels[\"project\"] = samples[\"Sample_ID\"].apply(lambda x: get_project_id(x, creds))\n",
    "labels[\"sample\"] = labels.index\n",
    "labels[\"owner\"] = creds[\"user\"]\n",
    "labels[\"destination\"] = samples['S3_Path'] + \"/\" + output_dirname\n",
    "labels[\"transfer\"] = \"-\"\n",
    "labels[\"comment\"] = creds[\"user\"]\n",
    "\n",
    "labels"
   ]
  },
  {
   "cell_type": "code",
   "execution_count": null,
   "metadata": {},
   "outputs": [],
   "source": []
  },
  {
   "cell_type": "markdown",
   "metadata": {},
   "source": [
    "## Execution"
   ]
  },
  {
   "cell_type": "code",
   "execution_count": 34,
   "metadata": {},
   "outputs": [
    {
     "data": {
      "text/html": [
       "<div>\n",
       "<style scoped>\n",
       "    .dataframe tbody tr th:only-of-type {\n",
       "        vertical-align: middle;\n",
       "    }\n",
       "\n",
       "    .dataframe tbody tr th {\n",
       "        vertical-align: top;\n",
       "    }\n",
       "\n",
       "    .dataframe thead th {\n",
       "        text-align: right;\n",
       "    }\n",
       "</style>\n",
       "<table border=\"1\" class=\"dataframe\">\n",
       "  <thead>\n",
       "    <tr style=\"text-align: right;\">\n",
       "      <th></th>\n",
       "      <th>CellRangerGex.sampleName</th>\n",
       "      <th>CellRangerGex.fastqName</th>\n",
       "      <th>CellRangerGex.inputFastq</th>\n",
       "      <th>CellRangerGex.referenceUrl</th>\n",
       "      <th>CellRangerGex.includeIntrons</th>\n",
       "      <th>CellRangerGex.expectCells</th>\n",
       "      <th>CellRangerGex.memory</th>\n",
       "      <th>CellRangerGex.dockerRegistry</th>\n",
       "    </tr>\n",
       "  </thead>\n",
       "  <tbody>\n",
       "    <tr>\n",
       "      <th>YM-1704_Krt4eGFP</th>\n",
       "      <td>YM-1704_Krt4eGFP</td>\n",
       "      <td>3845_YM-1704_Krt4eGFP_IGO_12437_AO_37</td>\n",
       "      <td>[s3://dp-lab-data/collaborators/whit...</td>\n",
       "      <td>s3://dp-lab-data/collaborators/white...</td>\n",
       "      <td>False</td>\n",
       "      <td>5000</td>\n",
       "      <td>256</td>\n",
       "      <td>quay.io/hisplan</td>\n",
       "    </tr>\n",
       "    <tr>\n",
       "      <th>YM-1704_Krt4TWIST</th>\n",
       "      <td>YM-1704_Krt4TWIST</td>\n",
       "      <td>3846_YM-1704_Krt4TWIST_IGO_12437_AO_38</td>\n",
       "      <td>[s3://dp-lab-data/collaborators/whit...</td>\n",
       "      <td>s3://dp-lab-data/collaborators/white...</td>\n",
       "      <td>False</td>\n",
       "      <td>5000</td>\n",
       "      <td>256</td>\n",
       "      <td>quay.io/hisplan</td>\n",
       "    </tr>\n",
       "  </tbody>\n",
       "</table>\n",
       "</div>"
      ],
      "text/plain": [
       "                  CellRangerGex.sampleName  \\\n",
       "YM-1704_Krt4eGFP          YM-1704_Krt4eGFP   \n",
       "YM-1704_Krt4TWIST        YM-1704_Krt4TWIST   \n",
       "\n",
       "                                  CellRangerGex.fastqName  \\\n",
       "YM-1704_Krt4eGFP    3845_YM-1704_Krt4eGFP_IGO_12437_AO_37   \n",
       "YM-1704_Krt4TWIST  3846_YM-1704_Krt4TWIST_IGO_12437_AO_38   \n",
       "\n",
       "                                  CellRangerGex.inputFastq  \\\n",
       "YM-1704_Krt4eGFP   [s3://dp-lab-data/collaborators/whit...   \n",
       "YM-1704_Krt4TWIST  [s3://dp-lab-data/collaborators/whit...   \n",
       "\n",
       "                                CellRangerGex.referenceUrl  \\\n",
       "YM-1704_Krt4eGFP   s3://dp-lab-data/collaborators/white...   \n",
       "YM-1704_Krt4TWIST  s3://dp-lab-data/collaborators/white...   \n",
       "\n",
       "                   CellRangerGex.includeIntrons  CellRangerGex.expectCells  \\\n",
       "YM-1704_Krt4eGFP                          False                       5000   \n",
       "YM-1704_Krt4TWIST                         False                       5000   \n",
       "\n",
       "                   CellRangerGex.memory CellRangerGex.dockerRegistry  \n",
       "YM-1704_Krt4eGFP                    256              quay.io/hisplan  \n",
       "YM-1704_Krt4TWIST                   256              quay.io/hisplan  "
      ]
     },
     "execution_count": 34,
     "metadata": {},
     "output_type": "execute_result"
    }
   ],
   "source": [
    "inputs"
   ]
  },
  {
   "cell_type": "code",
   "execution_count": 35,
   "metadata": {},
   "outputs": [
    {
     "data": {
      "text/html": [
       "<div>\n",
       "<style scoped>\n",
       "    .dataframe tbody tr th:only-of-type {\n",
       "        vertical-align: middle;\n",
       "    }\n",
       "\n",
       "    .dataframe tbody tr th {\n",
       "        vertical-align: top;\n",
       "    }\n",
       "\n",
       "    .dataframe thead th {\n",
       "        text-align: right;\n",
       "    }\n",
       "</style>\n",
       "<table border=\"1\" class=\"dataframe\">\n",
       "  <thead>\n",
       "    <tr style=\"text-align: right;\">\n",
       "      <th></th>\n",
       "      <th>pipelineType</th>\n",
       "      <th>project</th>\n",
       "      <th>sample</th>\n",
       "      <th>owner</th>\n",
       "      <th>destination</th>\n",
       "      <th>transfer</th>\n",
       "      <th>comment</th>\n",
       "    </tr>\n",
       "  </thead>\n",
       "  <tbody>\n",
       "    <tr>\n",
       "      <th>YM-1704_Krt4eGFP</th>\n",
       "      <td>CellRangerGex</td>\n",
       "      <td>Zebrafish KC-MC</td>\n",
       "      <td>YM-1704_Krt4eGFP</td>\n",
       "      <td>sohailn</td>\n",
       "      <td>s3://dp-lab-data/collaborators/white...</td>\n",
       "      <td>-</td>\n",
       "      <td>sohailn</td>\n",
       "    </tr>\n",
       "    <tr>\n",
       "      <th>YM-1704_Krt4TWIST</th>\n",
       "      <td>CellRangerGex</td>\n",
       "      <td>Zebrafish KC-MC</td>\n",
       "      <td>YM-1704_Krt4TWIST</td>\n",
       "      <td>sohailn</td>\n",
       "      <td>s3://dp-lab-data/collaborators/white...</td>\n",
       "      <td>-</td>\n",
       "      <td>sohailn</td>\n",
       "    </tr>\n",
       "  </tbody>\n",
       "</table>\n",
       "</div>"
      ],
      "text/plain": [
       "                    pipelineType          project             sample    owner  \\\n",
       "YM-1704_Krt4eGFP   CellRangerGex  Zebrafish KC-MC   YM-1704_Krt4eGFP  sohailn   \n",
       "YM-1704_Krt4TWIST  CellRangerGex  Zebrafish KC-MC  YM-1704_Krt4TWIST  sohailn   \n",
       "\n",
       "                                               destination transfer  comment  \n",
       "YM-1704_Krt4eGFP   s3://dp-lab-data/collaborators/white...        -  sohailn  \n",
       "YM-1704_Krt4TWIST  s3://dp-lab-data/collaborators/white...        -  sohailn  "
      ]
     },
     "execution_count": 35,
     "metadata": {},
     "output_type": "execute_result"
    }
   ],
   "source": [
    "labels"
   ]
  },
  {
   "cell_type": "code",
   "execution_count": 36,
   "metadata": {},
   "outputs": [
    {
     "data": {
      "application/vnd.jupyter.widget-view+json": {
       "model_id": "f962aaaf40e844d7af60fae27922c2cc",
       "version_major": 2,
       "version_minor": 0
      },
      "text/plain": [
       "  0%|          | 0/2 [00:00<?, ?it/s]"
      ]
     },
     "metadata": {},
     "output_type": "display_data"
    }
   ],
   "source": [
    "assert (std_inputs_fields == list(inputs.columns)) & (inputs.notna().values.all())\n",
    "assert (std_labels_fields == list(labels.columns)) & (labels.notna().values.all())\n",
    "\n",
    "stdouts = [] # to store all outputs\n",
    "process = True\n",
    "\n",
    "with tqdm(samples.index) as t:\n",
    "\n",
    "    for sample_name in t:\n",
    "\n",
    "        # Write inputs and labels to file\n",
    "        path_to_inputs = f\"{config_dir}/{sample_name}.inputs.json\"\n",
    "        with open(path_to_inputs, \"w\") as f_inputs:\n",
    "            json.dump(inputs.loc[sample_name].to_dict(), f_inputs, indent=4, cls=NpEncoder)\n",
    "\n",
    "        path_to_labels = f\"{config_dir}/{sample_name}.labels.json\"\n",
    "        with open(path_to_labels, \"w\") as f_labels:\n",
    "            json.dump(labels.loc[sample_name].to_dict(), f_labels, indent=4, cls=NpEncoder)\n",
    "\n",
    "        if process:\n",
    "            stdouts.append(run(\n",
    "                workflow_path = workflow_dir,\n",
    "                execp = \"submit.sh\",\n",
    "                secrets = path_to_cromwell_secrets,\n",
    "                inputs = path_to_inputs,\n",
    "                labels = path_to_labels,\n",
    "                options = path_to_options,\n",
    "            ))"
   ]
  },
  {
   "cell_type": "code",
   "execution_count": 37,
   "metadata": {},
   "outputs": [
    {
     "name": "stdout",
     "output_type": "stream",
     "text": [
      "/Users/sohailn/scing/bin/cellranger-gex-6.1.2/configs/YM-1704_Krt4TWIST.inputs.json\n",
      "/Users/sohailn/scing/bin/cellranger-gex-6.1.2/configs/YM-1704_Krt4TWIST.labels.json\n"
     ]
    }
   ],
   "source": [
    "print(path_to_inputs)\n",
    "print(path_to_labels)"
   ]
  },
  {
   "cell_type": "code",
   "execution_count": 38,
   "metadata": {},
   "outputs": [
    {
     "data": {
      "text/plain": [
       "[{'args': ['/Users/sohailn/scing/bin/cellranger-gex-6.1.2/submit.sh',\n",
       "   '-k',\n",
       "   '/Users/sohailn/.cromwell/cromwell-secrets.json',\n",
       "   '-i',\n",
       "   '/Users/sohailn/scing/bin/cellranger-gex-6.1.2/configs/YM-1704_Krt4eGFP.inputs.json',\n",
       "   '-l',\n",
       "   '/Users/sohailn/scing/bin/cellranger-gex-6.1.2/configs/YM-1704_Krt4eGFP.labels.json',\n",
       "   '-o',\n",
       "   '/Users/sohailn/scing/bin/cellranger-gex-6.1.2/CellRangerGex.options.aws.json'],\n",
       "  'returncode': 0,\n",
       "  'stdout': '{\"id\":\"73ae5fde-6551-48f7-8a1e-c9278953d334\",\"status\":\"Submitted\"}\\n',\n",
       "  'stderr': ''},\n",
       " {'args': ['/Users/sohailn/scing/bin/cellranger-gex-6.1.2/submit.sh',\n",
       "   '-k',\n",
       "   '/Users/sohailn/.cromwell/cromwell-secrets.json',\n",
       "   '-i',\n",
       "   '/Users/sohailn/scing/bin/cellranger-gex-6.1.2/configs/YM-1704_Krt4TWIST.inputs.json',\n",
       "   '-l',\n",
       "   '/Users/sohailn/scing/bin/cellranger-gex-6.1.2/configs/YM-1704_Krt4TWIST.labels.json',\n",
       "   '-o',\n",
       "   '/Users/sohailn/scing/bin/cellranger-gex-6.1.2/CellRangerGex.options.aws.json'],\n",
       "  'returncode': 0,\n",
       "  'stdout': '{\"id\":\"a37d4799-8a74-4f51-b140-f45b427747e5\",\"status\":\"Submitted\"}\\n',\n",
       "  'stderr': ''}]"
      ]
     },
     "execution_count": 38,
     "metadata": {},
     "output_type": "execute_result"
    }
   ],
   "source": [
    "stdouts"
   ]
  }
 ],
 "metadata": {
  "kernelspec": {
   "display_name": "Python 3 (ipykernel)",
   "language": "python",
   "name": "python3"
  },
  "language_info": {
   "codemirror_mode": {
    "name": "ipython",
    "version": 3
   },
   "file_extension": ".py",
   "mimetype": "text/x-python",
   "name": "python",
   "nbconvert_exporter": "python",
   "pygments_lexer": "ipython3",
   "version": "3.8.12"
  }
 },
 "nbformat": 4,
 "nbformat_minor": 4
}
