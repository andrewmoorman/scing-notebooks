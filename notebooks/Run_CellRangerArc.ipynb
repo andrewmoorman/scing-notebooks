{
 "cells": [
  {
   "cell_type": "code",
   "execution_count": 137,
   "metadata": {},
   "outputs": [],
   "source": [
    "import re, subprocess, boto3, json, shlex, mysql, os, urllib\n",
    "import pandas as pd\n",
    "import numpy as np\n",
    "from s3path import S3Path\n",
    "from pathlib import Path\n",
    "from tqdm.notebook import tqdm\n",
    "from packaging import version\n",
    "pd.set_option(\"display.max_colwidth\", 40)"
   ]
  },
  {
   "cell_type": "code",
   "execution_count": 138,
   "metadata": {},
   "outputs": [],
   "source": [
    "from utils.utils import *"
   ]
  },
  {
   "cell_type": "markdown",
   "metadata": {
    "tags": []
   },
   "source": [
    "# Process Samples"
   ]
  },
  {
   "cell_type": "markdown",
   "metadata": {
    "tags": []
   },
   "source": [
    "## Setup"
   ]
  },
  {
   "cell_type": "code",
   "execution_count": 107,
   "metadata": {},
   "outputs": [],
   "source": [
    "# Location of docker files\n",
    "common_docker_registry = \"quay.io/hisplan\"\n",
    "\n",
    "prefix = \"CellRangerArc\" # Workflow to run; also .wdl filename prefix\n",
    "pipeline_type = prefix # field in *.labels.json\n",
    "output_dirname = \"cr-arc-results\"\n",
    "\n",
    "# If need to add comment, put here\n",
    "comment = \"\""
   ]
  },
  {
   "cell_type": "code",
   "execution_count": 108,
   "metadata": {},
   "outputs": [],
   "source": [
    "# Locations of workflow-related directories and files\n",
    "path_to_cromwell_secrets = f\"{Path.home()}/.cromwell/cromwell-secrets.json\" # CHANGE THIS\n",
    "workflow_dir = f\"{Path.home()}/scing/bin/cellranger-arc-2.0.0\" # CHANGE THIS\n",
    "path_to_exec = f\"{workflow_dir}/submit.sh\" # CHANGE THIS FOR SHARP\n",
    "config_dir = f\"{workflow_dir}/configs\"\n",
    "path_to_options = f\"{workflow_dir}/{prefix}.options.aws.json\"\n",
    "\n",
    "# Other file locations\n",
    "db_credentials_path = f\"{Path.home()}/.config.json\" # CHANGE THIS"
   ]
  },
  {
   "cell_type": "code",
   "execution_count": 109,
   "metadata": {},
   "outputs": [],
   "source": [
    "# Set credentials based on SCRIdb CLI config file\n",
    "with open(db_credentials_path) as f:\n",
    "    creds = json.load(f)"
   ]
  },
  {
   "cell_type": "code",
   "execution_count": 110,
   "metadata": {},
   "outputs": [],
   "source": [
    "# Samples on which to run CellRangerATAC\n",
    "# Note: Assumes data is transferred to AWS S3 (this should be an s3 location)\n",
    "# Note: Assumes directory name is name of sample\n",
    "common_dir = \"s3://dp-lab-data/collaborators/VanDenBrink/AgingHematopoiesis\"\n",
    "samples = [\n",
    "    \"HA-1536_Young_mice_multiome\",\n",
    "    \"HA-1536_Old_mice_multiome\"\n",
    "]\n",
    "sample_paths = [\n",
    "    f\"{common_dir}/{sample}\" for sample in samples\n",
    "]"
   ]
  },
  {
   "cell_type": "markdown",
   "metadata": {
    "tags": []
   },
   "source": [
    "## Execution"
   ]
  },
  {
   "cell_type": "code",
   "execution_count": 130,
   "metadata": {},
   "outputs": [
    {
     "name": "stdout",
     "output_type": "stream",
     "text": [
      "['HA-1536_Young_mice_multiome', 'HA-1536_Old_mice_multiome']\n"
     ]
    }
   ],
   "source": [
    "# Get information for all samples\n",
    "sample_paths = [s.strip('/') for s in sample_paths] # remove trailing slash if exists\n",
    "sample_names = [os.path.basename(s) for s in sample_paths]\n",
    "#sample_names = [s.replace(\"Redo_\", \"\") for s in sample_names]\n",
    "print(sample_names)\n",
    "samples = pd.DataFrame(\n",
    "    sample_paths,\n",
    "    index=sample_names,\n",
    "    columns=[\"S3_Path\"],\n",
    "    dtype=str,\n",
    ")\n",
    "samples[\"Sample_ID\"] = pd.Series(samples.index).apply(\n",
    "    lambda x: get_sample_id(x, creds['user'], creds['password'])\n",
    ").values\n",
    "\n",
    "# Get FASTQ paths from S3\n",
    "# Note: Uses same FASTQ file ids for all samples\n",
    "#fastq_file_ids = fastq_map[prefix]\n",
    "samples[\"FASTQs_GEX\"] = samples[\"S3_Path\"].apply(lambda x: get_fastqs(x, folder=\"FASTQ\"))\n",
    "samples[\"FASTQs_ATAC\"] = samples[\"S3_Path\"].apply(lambda x: get_fastqs(x + \"_ATAC\", folder=\"FASTQ\"))\n",
    "\n",
    "# Get reference genome location\n",
    "samples[\"Reference\"] = samples[\"Sample_ID\"].apply(lambda x: get_cr_reference(x, prefix, creds[\"user\"], creds[\"password\"]))"
   ]
  },
  {
   "cell_type": "code",
   "execution_count": 141,
   "metadata": {},
   "outputs": [],
   "source": [
    "# Load minimum inputs and labels fields from templates\n",
    "with open(f\"{config_dir}/template.inputs.json\") as f:\n",
    "    std_inputs_fields = list(json.load(f).keys())\n",
    "    \n",
    "with open(f\"{config_dir}/template.labels.json\") as f:\n",
    "    std_labels_fields = list(json.load(f).keys())\n",
    "    \n",
    "# Annotate all samples with workflow inputs and labels\n",
    "inputs = pd.DataFrame(index=samples.index, columns=std_inputs_fields,)\n",
    "labels = pd.DataFrame(index=samples.index, columns=std_labels_fields,)\n",
    "\n",
    "# Annotate inputs\n",
    "inputs[f\"{prefix}.runID\"] = inputs.index # may need to change\n",
    "inputs[f\"{prefix}.gexFastqFiles\"] = samples[\"FASTQs_GEX\"].apply(lambda x: np.ravel(list(x.values())))\n",
    "inputs[f\"{prefix}.gexFastqName\"] = inputs[f\"{prefix}.gexFastqFiles\"].apply(lambda x: get_fastqs_name(x))\n",
    "inputs[f\"{prefix}.atacFastqFiles\"] = samples[\"FASTQs_ATAC\"].apply(lambda x: np.ravel(list(x.values())))\n",
    "inputs[f\"{prefix}.atacFastqName\"] = inputs[f\"{prefix}.atacFastqFiles\"].apply(lambda x: get_fastqs_name(x))\n",
    "inputs[f\"{prefix}.reference\"] = samples[\"Reference\"]                                 \n",
    "inputs[f\"{prefix}.dockerRegistry\"] = common_docker_registry\n",
    "\n",
    "# Annotate labels\n",
    "labels[\"pipelineType\"] = \"CellRangerARC\"\n",
    "labels[\"project\"] = samples[\"Sample_ID\"].apply(lambda x: get_project_id(x, creds[\"user\"], creds[\"password\"]))\n",
    "labels[\"sample\"] = labels.index\n",
    "labels[\"owner\"] = creds[\"user\"]\n",
    "labels[\"destination\"] = samples['S3_Path'] + \"/\" + output_dirname\n",
    "labels[\"transfer\"] = \"-\"\n",
    "labels[\"comment\"] = creds[\"user\"]\n",
    "\n",
    "assert (std_inputs_fields == list(inputs.columns)) & (inputs.notna().values.all())\n",
    "assert (std_labels_fields == list(labels.columns)) & (labels.notna().values.all())"
   ]
  },
  {
   "cell_type": "code",
   "execution_count": 142,
   "metadata": {},
   "outputs": [
    {
     "data": {
      "text/html": [
       "<div>\n",
       "<style scoped>\n",
       "    .dataframe tbody tr th:only-of-type {\n",
       "        vertical-align: middle;\n",
       "    }\n",
       "\n",
       "    .dataframe tbody tr th {\n",
       "        vertical-align: top;\n",
       "    }\n",
       "\n",
       "    .dataframe thead th {\n",
       "        text-align: right;\n",
       "    }\n",
       "</style>\n",
       "<table border=\"1\" class=\"dataframe\">\n",
       "  <thead>\n",
       "    <tr style=\"text-align: right;\">\n",
       "      <th></th>\n",
       "      <th>CellRangerArc.runID</th>\n",
       "      <th>CellRangerArc.gexFastqName</th>\n",
       "      <th>CellRangerArc.gexFastqFiles</th>\n",
       "      <th>CellRangerArc.atacFastqName</th>\n",
       "      <th>CellRangerArc.atacFastqFiles</th>\n",
       "      <th>CellRangerArc.reference</th>\n",
       "      <th>CellRangerArc.dockerRegistry</th>\n",
       "    </tr>\n",
       "  </thead>\n",
       "  <tbody>\n",
       "    <tr>\n",
       "      <th>HA-1536_Young_mice_multiome</th>\n",
       "      <td>HA-1536_Young_mice_multiome</td>\n",
       "      <td>3573_HA-1536_Young_mice_multiome_IGO...</td>\n",
       "      <td>[s3://dp-lab-data/collaborators/VanD...</td>\n",
       "      <td>3575_HA-1536_Young_mice_multiome_ATA...</td>\n",
       "      <td>[s3://dp-lab-data/collaborators/VanD...</td>\n",
       "      <td>https://cf.10xgenomics.com/supp/cell...</td>\n",
       "      <td>quay.io/hisplan</td>\n",
       "    </tr>\n",
       "    <tr>\n",
       "      <th>HA-1536_Old_mice_multiome</th>\n",
       "      <td>HA-1536_Old_mice_multiome</td>\n",
       "      <td>3574_HA-1536_Old_mice_multiome_IGO_1...</td>\n",
       "      <td>[s3://dp-lab-data/collaborators/VanD...</td>\n",
       "      <td>3576_HA-1536_Old_mice_multiome_ATAC_...</td>\n",
       "      <td>[s3://dp-lab-data/collaborators/VanD...</td>\n",
       "      <td>https://cf.10xgenomics.com/supp/cell...</td>\n",
       "      <td>quay.io/hisplan</td>\n",
       "    </tr>\n",
       "  </tbody>\n",
       "</table>\n",
       "</div>"
      ],
      "text/plain": [
       "                                     CellRangerArc.runID  \\\n",
       "HA-1536_Young_mice_multiome  HA-1536_Young_mice_multiome   \n",
       "HA-1536_Old_mice_multiome      HA-1536_Old_mice_multiome   \n",
       "\n",
       "                                          CellRangerArc.gexFastqName  \\\n",
       "HA-1536_Young_mice_multiome  3573_HA-1536_Young_mice_multiome_IGO...   \n",
       "HA-1536_Old_mice_multiome    3574_HA-1536_Old_mice_multiome_IGO_1...   \n",
       "\n",
       "                                         CellRangerArc.gexFastqFiles  \\\n",
       "HA-1536_Young_mice_multiome  [s3://dp-lab-data/collaborators/VanD...   \n",
       "HA-1536_Old_mice_multiome    [s3://dp-lab-data/collaborators/VanD...   \n",
       "\n",
       "                                         CellRangerArc.atacFastqName  \\\n",
       "HA-1536_Young_mice_multiome  3575_HA-1536_Young_mice_multiome_ATA...   \n",
       "HA-1536_Old_mice_multiome    3576_HA-1536_Old_mice_multiome_ATAC_...   \n",
       "\n",
       "                                        CellRangerArc.atacFastqFiles  \\\n",
       "HA-1536_Young_mice_multiome  [s3://dp-lab-data/collaborators/VanD...   \n",
       "HA-1536_Old_mice_multiome    [s3://dp-lab-data/collaborators/VanD...   \n",
       "\n",
       "                                             CellRangerArc.reference  \\\n",
       "HA-1536_Young_mice_multiome  https://cf.10xgenomics.com/supp/cell...   \n",
       "HA-1536_Old_mice_multiome    https://cf.10xgenomics.com/supp/cell...   \n",
       "\n",
       "                            CellRangerArc.dockerRegistry  \n",
       "HA-1536_Young_mice_multiome              quay.io/hisplan  \n",
       "HA-1536_Old_mice_multiome                quay.io/hisplan  "
      ]
     },
     "execution_count": 142,
     "metadata": {},
     "output_type": "execute_result"
    }
   ],
   "source": [
    "inputs"
   ]
  },
  {
   "cell_type": "code",
   "execution_count": 143,
   "metadata": {},
   "outputs": [
    {
     "data": {
      "text/html": [
       "<div>\n",
       "<style scoped>\n",
       "    .dataframe tbody tr th:only-of-type {\n",
       "        vertical-align: middle;\n",
       "    }\n",
       "\n",
       "    .dataframe tbody tr th {\n",
       "        vertical-align: top;\n",
       "    }\n",
       "\n",
       "    .dataframe thead th {\n",
       "        text-align: right;\n",
       "    }\n",
       "</style>\n",
       "<table border=\"1\" class=\"dataframe\">\n",
       "  <thead>\n",
       "    <tr style=\"text-align: right;\">\n",
       "      <th></th>\n",
       "      <th>pipelineType</th>\n",
       "      <th>project</th>\n",
       "      <th>sample</th>\n",
       "      <th>owner</th>\n",
       "      <th>destination</th>\n",
       "      <th>transfer</th>\n",
       "      <th>comment</th>\n",
       "    </tr>\n",
       "  </thead>\n",
       "  <tbody>\n",
       "    <tr>\n",
       "      <th>HA-1536_Young_mice_multiome</th>\n",
       "      <td>CellRangerARC</td>\n",
       "      <td>Aging hematopoiesis</td>\n",
       "      <td>HA-1536_Young_mice_multiome</td>\n",
       "      <td>moormana</td>\n",
       "      <td>s3://dp-lab-data/collaborators/VanDe...</td>\n",
       "      <td>-</td>\n",
       "      <td>moormana</td>\n",
       "    </tr>\n",
       "    <tr>\n",
       "      <th>HA-1536_Old_mice_multiome</th>\n",
       "      <td>CellRangerARC</td>\n",
       "      <td>Aging hematopoiesis</td>\n",
       "      <td>HA-1536_Old_mice_multiome</td>\n",
       "      <td>moormana</td>\n",
       "      <td>s3://dp-lab-data/collaborators/VanDe...</td>\n",
       "      <td>-</td>\n",
       "      <td>moormana</td>\n",
       "    </tr>\n",
       "  </tbody>\n",
       "</table>\n",
       "</div>"
      ],
      "text/plain": [
       "                              pipelineType              project  \\\n",
       "HA-1536_Young_mice_multiome  CellRangerARC  Aging hematopoiesis   \n",
       "HA-1536_Old_mice_multiome    CellRangerARC  Aging hematopoiesis   \n",
       "\n",
       "                                                  sample     owner  \\\n",
       "HA-1536_Young_mice_multiome  HA-1536_Young_mice_multiome  moormana   \n",
       "HA-1536_Old_mice_multiome      HA-1536_Old_mice_multiome  moormana   \n",
       "\n",
       "                                                         destination transfer  \\\n",
       "HA-1536_Young_mice_multiome  s3://dp-lab-data/collaborators/VanDe...        -   \n",
       "HA-1536_Old_mice_multiome    s3://dp-lab-data/collaborators/VanDe...        -   \n",
       "\n",
       "                              comment  \n",
       "HA-1536_Young_mice_multiome  moormana  \n",
       "HA-1536_Old_mice_multiome    moormana  "
      ]
     },
     "execution_count": 143,
     "metadata": {},
     "output_type": "execute_result"
    }
   ],
   "source": [
    "labels"
   ]
  },
  {
   "cell_type": "code",
   "execution_count": 139,
   "metadata": {
    "tags": []
   },
   "outputs": [
    {
     "data": {
      "application/vnd.jupyter.widget-view+json": {
       "model_id": "b8a2a9c63f794d19a5ec5dfb07189768",
       "version_major": 2,
       "version_minor": 0
      },
      "text/plain": [
       "  0%|          | 0/2 [00:00<?, ?it/s]"
      ]
     },
     "metadata": {},
     "output_type": "display_data"
    }
   ],
   "source": [
    "stdouts = [] # to store all outputs\n",
    "process = True\n",
    "\n",
    "with tqdm(samples.index) as t:\n",
    "\n",
    "    for sample_name in t:\n",
    "\n",
    "        # Write inputs and labels to file\n",
    "        path_to_inputs = f\"{config_dir}/{sample_name}.inputs.json\"\n",
    "        with open(path_to_inputs, \"w\") as f_inputs:\n",
    "            json.dump(inputs.loc[sample_name].to_dict(), f_inputs, indent=4, cls=NpEncoder)\n",
    "\n",
    "        path_to_labels = f\"{config_dir}/{sample_name}.labels.json\"\n",
    "        with open(path_to_labels, \"w\") as f_labels:\n",
    "            json.dump(labels.loc[sample_name].to_dict(), f_labels, indent=4, cls=NpEncoder)\n",
    "\n",
    "        if process:\n",
    "            stdouts.append(run(\n",
    "                workflow_path = workflow_dir,\n",
    "                execp = \"submit.sh\",\n",
    "                secrets = path_to_cromwell_secrets,\n",
    "                inputs = path_to_inputs,\n",
    "                labels = path_to_labels,\n",
    "                options = path_to_options,\n",
    "            ))"
   ]
  },
  {
   "cell_type": "code",
   "execution_count": 140,
   "metadata": {},
   "outputs": [
    {
     "data": {
      "text/plain": [
       "[{'args': ['/Users/moormana/scing/bin/cellranger-arc-2.0.0/submit.sh',\n",
       "   '-k',\n",
       "   '/Users/moormana/.cromwell/cromwell-secrets.json',\n",
       "   '-i',\n",
       "   '/Users/moormana/scing/bin/cellranger-arc-2.0.0/configs/HA-1536_Young_mice_multiome.inputs.json',\n",
       "   '-l',\n",
       "   '/Users/moormana/scing/bin/cellranger-arc-2.0.0/configs/HA-1536_Young_mice_multiome.labels.json',\n",
       "   '-o',\n",
       "   '/Users/moormana/scing/bin/cellranger-arc-2.0.0/CellRangerArc.options.aws.json'],\n",
       "  'returncode': 0,\n",
       "  'stdout': '{\"id\":\"bcd07dca-0c91-48a3-99d8-962bf33608b3\",\"status\":\"Submitted\"}\\n',\n",
       "  'stderr': ''},\n",
       " {'args': ['/Users/moormana/scing/bin/cellranger-arc-2.0.0/submit.sh',\n",
       "   '-k',\n",
       "   '/Users/moormana/.cromwell/cromwell-secrets.json',\n",
       "   '-i',\n",
       "   '/Users/moormana/scing/bin/cellranger-arc-2.0.0/configs/HA-1536_Old_mice_multiome.inputs.json',\n",
       "   '-l',\n",
       "   '/Users/moormana/scing/bin/cellranger-arc-2.0.0/configs/HA-1536_Old_mice_multiome.labels.json',\n",
       "   '-o',\n",
       "   '/Users/moormana/scing/bin/cellranger-arc-2.0.0/CellRangerArc.options.aws.json'],\n",
       "  'returncode': 0,\n",
       "  'stdout': '{\"id\":\"f1fda9ee-a174-4e5e-b99c-d00f1b068310\",\"status\":\"Submitted\"}\\n',\n",
       "  'stderr': ''}]"
      ]
     },
     "execution_count": 140,
     "metadata": {},
     "output_type": "execute_result"
    }
   ],
   "source": [
    "stdouts"
   ]
  }
 ],
 "metadata": {
  "kernelspec": {
   "display_name": "Python 3 (ipykernel)",
   "language": "python",
   "name": "python3"
  },
  "language_info": {
   "codemirror_mode": {
    "name": "ipython",
    "version": 3
   },
   "file_extension": ".py",
   "mimetype": "text/x-python",
   "name": "python",
   "nbconvert_exporter": "python",
   "pygments_lexer": "ipython3",
   "version": "3.8.12"
  }
 },
 "nbformat": 4,
 "nbformat_minor": 4
}
