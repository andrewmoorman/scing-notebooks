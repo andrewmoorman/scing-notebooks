{
 "cells": [
  {
   "cell_type": "code",
   "execution_count": 68,
   "metadata": {},
   "outputs": [],
   "source": [
    "import re, subprocess, boto3, json, shlex, mysql, os, urllib, logging, yaml\n",
    "import pandas as pd\n",
    "import numpy as np\n",
    "from s3path import S3Path\n",
    "from pathlib import Path\n",
    "from tqdm.notebook import tqdm\n",
    "from packaging import version\n",
    "pd.set_option(\"display.max_colwidth\", 40)"
   ]
  },
  {
   "cell_type": "code",
   "execution_count": 2,
   "metadata": {},
   "outputs": [],
   "source": [
    "from utils.utils import *"
   ]
  },
  {
   "cell_type": "markdown",
   "metadata": {},
   "source": [
    "# Process Samples"
   ]
  },
  {
   "cell_type": "markdown",
   "metadata": {
    "tags": []
   },
   "source": [
    "## Setup"
   ]
  },
  {
   "cell_type": "code",
   "execution_count": 101,
   "metadata": {},
   "outputs": [],
   "source": [
    "# Locations of workflow-related directories and files\n",
    "path_to_keypair = f\"{Path.home()}/.ssh/moormana.pem\" # CHANGE THIS\n",
    "workflow_dir = f\"{Path.home()}/scing/bin/seqc-0.2.10\" # CHANGE THIS\n",
    "path_to_exec = f\"{workflow_dir}/seqc_submit_mjobs.py\"\n",
    "config_dir = f\"{workflow_dir}/config\"\n",
    "path_to_options = f\"{workflow_dir}/config.sh\"\n",
    "\n",
    "# Other file locations\n",
    "db_credentials_path = f\"{Path.home()}/.config.json\" # CHANGE THIS"
   ]
  },
  {
   "cell_type": "code",
   "execution_count": 5,
   "metadata": {},
   "outputs": [],
   "source": [
    "# Set credentials based on SCRIdb CLI config file\n",
    "with open(db_credentials_path) as f:\n",
    "    creds = json.load(f)"
   ]
  },
  {
   "cell_type": "code",
   "execution_count": 79,
   "metadata": {},
   "outputs": [],
   "source": [
    "# Folder containing samples on which to run SEQC\n",
    "# Note: Assumes data is transferred to AWS S3 (this should be an s3 location)\n",
    "common_dir = \"s3://dp-lab-data/collaborators/VanDenBrink/Thymic_regeneration\"\n",
    "\n",
    "project = common_dir.split(\"/\")[-1]\n",
    "out = os.popen(f\"aws s3 ls {common_dir}/\").read()\n",
    "samples = list(filter(lambda x: x != \"PRE\", out.split()))\n",
    "samples = [s.strip('/') for s in samples]\n",
    "sample_paths = [\n",
    "    f\"{common_dir}/{sample}\" for sample in samples\n",
    "]"
   ]
  },
  {
   "cell_type": "code",
   "execution_count": 106,
   "metadata": {},
   "outputs": [
    {
     "data": {
      "text/plain": [
       "'231_no_XRT_rep'"
      ]
     },
     "execution_count": 106,
     "metadata": {},
     "output_type": "execute_result"
    }
   ],
   "source": [
    "\"\\n\".join(samples)"
   ]
  },
  {
   "cell_type": "code",
   "execution_count": 112,
   "metadata": {},
   "outputs": [],
   "source": [
    "# Get AMI ID for appropriate version of SEQC\n",
    "seqc_version = \"0.2.9\"\n",
    "\n",
    "out = os.popen(f\"bash {workflow_dir}/show-ami-list.sh\").read().split()\n",
    "versions = [re.match(r\"seqc-v(\\d+.\\d+.\\d+)\", v)[1] for v in out[1::2]]\n",
    "amis = out[:-1:2]\n",
    "ami_id = dict(zip(versions, amis))[seqc_version]"
   ]
  },
  {
   "cell_type": "code",
   "execution_count": 113,
   "metadata": {},
   "outputs": [
    {
     "data": {
      "text/plain": [
       "'ami-0c97def6c08694a9a'"
      ]
     },
     "execution_count": 113,
     "metadata": {},
     "output_type": "execute_result"
    }
   ],
   "source": [
    "ami_id"
   ]
  },
  {
   "cell_type": "markdown",
   "metadata": {},
   "source": [
    "## Execution"
   ]
  },
  {
   "cell_type": "code",
   "execution_count": 114,
   "metadata": {},
   "outputs": [
    {
     "data": {
      "application/vnd.jupyter.widget-view+json": {
       "model_id": "e6a9584f11ad4571b426bfe94e4e2e7d",
       "version_major": 2,
       "version_minor": 0
      },
      "text/plain": [
       "  0%|          | 0/1 [00:00<?, ?it/s]"
      ]
     },
     "metadata": {},
     "output_type": "display_data"
    }
   ],
   "source": [
    "# Create YAML file for all SEQC jobs\n",
    "jobs = {\"jobs\": []}\n",
    "\n",
    "for i, (sample, s3_path) in tqdm(\n",
    "    enumerate(zip(samples, sample_paths)), \n",
    "    total=len(samples)\n",
    "):    \n",
    "    # Job parameters for each sample\n",
    "    job_params = dict()\n",
    "    job_params['job'] = i+1\n",
    "    job_params['ami-id'] = ami_id\n",
    "    job_params['platform'] = 'ten_x_v3'\n",
    "    job_params['user-tags'] = {'Job': i+1, 'Sample': sample, 'Project': project}\n",
    "    job_params['index'] = 's3://seqc-public/genomes/mm38_long_polya/'\n",
    "    job_params['barcode-files'] = 's3://seqc-public/barcodes/ten_x_v3/flat/'\n",
    "    job_params['genomic-fastq'] = s3_path + \"/genomic/\" \n",
    "    job_params['barcode-fastq'] = s3_path + \"/barcode/\" \n",
    "    job_params['upload-prefix'] = s3_path + f\"/seqc-{seqc_version}-results/\"\n",
    "    job_params['output-prefix'] = sample\n",
    "    job_params['min-poly-t'] = \"0\"\n",
    "    job_params['email'] = \"andrewmoormanmskcc@gmail.com\"\n",
    "    job_params['star-args'] = 'runRNGseed=0'\n",
    "    job_params['instance-type'] = 'r5.4xlarge'\n",
    "    \n",
    "    # Add job to YAML\n",
    "    jobs[\"jobs\"].append(job_params)\n",
    "\n",
    "# Save to file\n",
    "job_file = f'{workflow_dir}/config/{project}.yaml'\n",
    "f = open(job_file, 'w+')\n",
    "yaml.dump(jobs, f)"
   ]
  },
  {
   "cell_type": "code",
   "execution_count": 115,
   "metadata": {},
   "outputs": [
    {
     "data": {
      "text/plain": [
       "'python /Users/moormana/scing/bin/seqc-0.2.10/seqc_submit_mjobs.py --pem /Users/moormana/.ssh/moormana.pem --config /Users/moormana/scing/bin/seqc-0.2.10/config/Thymic_regeneration.yaml'"
      ]
     },
     "execution_count": 115,
     "metadata": {},
     "output_type": "execute_result"
    }
   ],
   "source": [
    "# execute the pipeline command in Terminal\n",
    "cmd = f\"python {path_to_exec} --pem {path_to_keypair} --config {job_file}\"\n",
    "cmd"
   ]
  }
 ],
 "metadata": {
  "kernelspec": {
   "display_name": "Python 3 (ipykernel)",
   "language": "python",
   "name": "python3"
  },
  "language_info": {
   "codemirror_mode": {
    "name": "ipython",
    "version": 3
   },
   "file_extension": ".py",
   "mimetype": "text/x-python",
   "name": "python",
   "nbconvert_exporter": "python",
   "pygments_lexer": "ipython3",
   "version": "3.8.12"
  }
 },
 "nbformat": 4,
 "nbformat_minor": 4
}
