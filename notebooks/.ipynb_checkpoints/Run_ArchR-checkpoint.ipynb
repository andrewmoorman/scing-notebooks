{
 "cells": [
  {
   "cell_type": "code",
   "execution_count": 1,
   "metadata": {
    "tags": []
   },
   "outputs": [],
   "source": [
    "import re, subprocess, boto3, json, shlex, mysql, os, urllib\n",
    "import pandas as pd\n",
    "import numpy as np\n",
    "from s3path import S3Path\n",
    "from pathlib import Path\n",
    "from tqdm.notebook import tqdm\n",
    "from packaging import version\n",
    "pd.set_option(\"display.max_colwidth\", 40)"
   ]
  },
  {
   "cell_type": "code",
   "execution_count": 16,
   "metadata": {},
   "outputs": [],
   "source": [
    "from utils.utils import *"
   ]
  },
  {
   "cell_type": "markdown",
   "metadata": {
    "tags": []
   },
   "source": [
    "# Process Samples"
   ]
  },
  {
   "cell_type": "markdown",
   "metadata": {
    "tags": []
   },
   "source": [
    "## Setup"
   ]
  },
  {
   "cell_type": "code",
   "execution_count": 3,
   "metadata": {},
   "outputs": [],
   "source": [
    "# Location of docker files\n",
    "common_docker_registry = \"quay.io/hisplan\"\n",
    "\n",
    "prefix = \"ArchRCR\" # Workflow to run; also .wdl filename prefix\n",
    "pipeline_type = prefix # field in *.labels.json\n",
    "output_dirname = \"archr-cr-results\"\n",
    "\n",
    "# If need to add comment, put here\n",
    "comment = \"\""
   ]
  },
  {
   "cell_type": "code",
   "execution_count": 29,
   "metadata": {},
   "outputs": [],
   "source": [
    "# Locations of workflow-related directories and files\n",
    "path_to_cromwell_secrets = f\"{Path.home()}/.cromwell/cromwell-secrets.json\" # CHANGE THIS\n",
    "workflow_dir = f\"{Path.home()}/scing/bin/wdl-ArchR\" # CHANGE THIS\n",
    "execp = \"submit-fastq.sh\" # CHANGE THIS FOR SHARP\n",
    "config_dir = f\"{workflow_dir}/configs\"\n",
    "path_to_options = f\"{workflow_dir}/ArchR.options.aws.json\"\n",
    "\n",
    "# Other file locations\n",
    "db_credentials_path = f\"{Path.home()}/.config.json\" # CHANGE THIS"
   ]
  },
  {
   "cell_type": "code",
   "execution_count": 5,
   "metadata": {},
   "outputs": [],
   "source": [
    "# Set credentials based on SCRIdb CLI config file\n",
    "with open(db_credentials_path) as f:\n",
    "    creds = json.load(f)"
   ]
  },
  {
   "cell_type": "code",
   "execution_count": 6,
   "metadata": {},
   "outputs": [],
   "source": [
    "# Samples on which to run CellRangerATAC\n",
    "# Note: Assumes data is transferred to AWS S3 (this should be an s3 location)\n",
    "# Note: Assumes directory name is name of sample\n",
    "common_dir = \"s3://dp-lab-data/collaborators/lowe/p53_loss_enrichment\"\n",
    "samples = [\n",
    "    \"JR-1497_p489c_shRen_caer_48h_multiome_1\",\n",
    "    \"JR-1497_p489c_shRen_caer_48h_multiome_2\",\n",
    "    \"JR-1497_p489c_shRen_caer_48h_multiome_3\",\n",
    "    \"JR-1497_p489c_shRen_caer_48h_multiome_4\",\n",
    "]\n",
    "sample_paths = [\n",
    "    f\"{common_dir}/{sample}\" for sample in samples\n",
    "]"
   ]
  },
  {
   "cell_type": "markdown",
   "metadata": {
    "tags": []
   },
   "source": [
    "## Execution"
   ]
  },
  {
   "cell_type": "code",
   "execution_count": 19,
   "metadata": {},
   "outputs": [
    {
     "name": "stdout",
     "output_type": "stream",
     "text": [
      "['JR-1497_p489c_shRen_caer_48h_multiome_1', 'JR-1497_p489c_shRen_caer_48h_multiome_2', 'JR-1497_p489c_shRen_caer_48h_multiome_3', 'JR-1497_p489c_shRen_caer_48h_multiome_4']\n"
     ]
    }
   ],
   "source": [
    "# Get information for all samples\n",
    "sample_paths = [s.strip('/') for s in sample_paths] # remove trailing slash if exists\n",
    "sample_names = [os.path.basename(s) for s in sample_paths]\n",
    "#sample_names = [s.replace(\"Redo_\", \"\") for s in sample_names]\n",
    "print(sample_names)\n",
    "samples = pd.DataFrame(\n",
    "    sample_paths,\n",
    "    index=sample_names,\n",
    "    columns=[\"S3_Path\"],\n",
    "    dtype=str,\n",
    ")\n",
    "samples[\"Sample_ID\"] = pd.Series(samples.index).apply(\n",
    "    lambda x: get_sample_id(x, creds['user'], creds['password'])\n",
    ").values\n",
    "\n",
    "# Get FASTQ paths from S3\n",
    "# Note: Uses same FASTQ file ids for all samples\n",
    "#fastq_file_ids = fastq_map[prefix]\n",
    "samples[\"FASTQs\"] = samples[\"S3_Path\"].apply(\n",
    "    lambda x: get_fastqs(x + \"_ATAC\", folder=\"FASTQ\")\n",
    ")\n",
    "\n",
    "# Get reference genome location\n",
    "samples[\"CR_Reference\"] = samples[\"Sample_ID\"].apply(\n",
    "    lambda x: get_reference(x, \"CellRanger\", prefix, creds[\"user\"], creds[\"password\"])\n",
    ")\n",
    "samples[\"ArchR_Reference\"] = samples[\"Sample_ID\"].apply(\n",
    "    lambda x: get_reference(x, \"ArchR\", prefix, creds[\"user\"], creds[\"password\"])\n",
    ")"
   ]
  },
  {
   "cell_type": "code",
   "execution_count": 20,
   "metadata": {},
   "outputs": [
    {
     "data": {
      "text/html": [
       "<div>\n",
       "<style scoped>\n",
       "    .dataframe tbody tr th:only-of-type {\n",
       "        vertical-align: middle;\n",
       "    }\n",
       "\n",
       "    .dataframe tbody tr th {\n",
       "        vertical-align: top;\n",
       "    }\n",
       "\n",
       "    .dataframe thead th {\n",
       "        text-align: right;\n",
       "    }\n",
       "</style>\n",
       "<table border=\"1\" class=\"dataframe\">\n",
       "  <thead>\n",
       "    <tr style=\"text-align: right;\">\n",
       "      <th></th>\n",
       "      <th>S3_Path</th>\n",
       "      <th>Sample_ID</th>\n",
       "      <th>FASTQs</th>\n",
       "      <th>CR_Reference</th>\n",
       "      <th>ArchR_Reference</th>\n",
       "    </tr>\n",
       "  </thead>\n",
       "  <tbody>\n",
       "    <tr>\n",
       "      <th>JR-1497_p489c_shRen_caer_48h_multiome_1</th>\n",
       "      <td>s3://dp-lab-data/collaborators/lowe/...</td>\n",
       "      <td>3515</td>\n",
       "      <td>{'All': ['s3://dp-lab-data/collabora...</td>\n",
       "      <td>https://cf.10xgenomics.com/supp/cell...</td>\n",
       "      <td>mm10</td>\n",
       "    </tr>\n",
       "    <tr>\n",
       "      <th>JR-1497_p489c_shRen_caer_48h_multiome_2</th>\n",
       "      <td>s3://dp-lab-data/collaborators/lowe/...</td>\n",
       "      <td>3516</td>\n",
       "      <td>{'All': ['s3://dp-lab-data/collabora...</td>\n",
       "      <td>https://cf.10xgenomics.com/supp/cell...</td>\n",
       "      <td>mm10</td>\n",
       "    </tr>\n",
       "    <tr>\n",
       "      <th>JR-1497_p489c_shRen_caer_48h_multiome_3</th>\n",
       "      <td>s3://dp-lab-data/collaborators/lowe/...</td>\n",
       "      <td>3517</td>\n",
       "      <td>{'All': ['s3://dp-lab-data/collabora...</td>\n",
       "      <td>https://cf.10xgenomics.com/supp/cell...</td>\n",
       "      <td>mm10</td>\n",
       "    </tr>\n",
       "    <tr>\n",
       "      <th>JR-1497_p489c_shRen_caer_48h_multiome_4</th>\n",
       "      <td>s3://dp-lab-data/collaborators/lowe/...</td>\n",
       "      <td>3518</td>\n",
       "      <td>{'All': ['s3://dp-lab-data/collabora...</td>\n",
       "      <td>https://cf.10xgenomics.com/supp/cell...</td>\n",
       "      <td>mm10</td>\n",
       "    </tr>\n",
       "  </tbody>\n",
       "</table>\n",
       "</div>"
      ],
      "text/plain": [
       "                                                                         S3_Path  \\\n",
       "JR-1497_p489c_shRen_caer_48h_multiome_1  s3://dp-lab-data/collaborators/lowe/...   \n",
       "JR-1497_p489c_shRen_caer_48h_multiome_2  s3://dp-lab-data/collaborators/lowe/...   \n",
       "JR-1497_p489c_shRen_caer_48h_multiome_3  s3://dp-lab-data/collaborators/lowe/...   \n",
       "JR-1497_p489c_shRen_caer_48h_multiome_4  s3://dp-lab-data/collaborators/lowe/...   \n",
       "\n",
       "                                         Sample_ID  \\\n",
       "JR-1497_p489c_shRen_caer_48h_multiome_1       3515   \n",
       "JR-1497_p489c_shRen_caer_48h_multiome_2       3516   \n",
       "JR-1497_p489c_shRen_caer_48h_multiome_3       3517   \n",
       "JR-1497_p489c_shRen_caer_48h_multiome_4       3518   \n",
       "\n",
       "                                                                          FASTQs  \\\n",
       "JR-1497_p489c_shRen_caer_48h_multiome_1  {'All': ['s3://dp-lab-data/collabora...   \n",
       "JR-1497_p489c_shRen_caer_48h_multiome_2  {'All': ['s3://dp-lab-data/collabora...   \n",
       "JR-1497_p489c_shRen_caer_48h_multiome_3  {'All': ['s3://dp-lab-data/collabora...   \n",
       "JR-1497_p489c_shRen_caer_48h_multiome_4  {'All': ['s3://dp-lab-data/collabora...   \n",
       "\n",
       "                                                                    CR_Reference  \\\n",
       "JR-1497_p489c_shRen_caer_48h_multiome_1  https://cf.10xgenomics.com/supp/cell...   \n",
       "JR-1497_p489c_shRen_caer_48h_multiome_2  https://cf.10xgenomics.com/supp/cell...   \n",
       "JR-1497_p489c_shRen_caer_48h_multiome_3  https://cf.10xgenomics.com/supp/cell...   \n",
       "JR-1497_p489c_shRen_caer_48h_multiome_4  https://cf.10xgenomics.com/supp/cell...   \n",
       "\n",
       "                                        ArchR_Reference  \n",
       "JR-1497_p489c_shRen_caer_48h_multiome_1            mm10  \n",
       "JR-1497_p489c_shRen_caer_48h_multiome_2            mm10  \n",
       "JR-1497_p489c_shRen_caer_48h_multiome_3            mm10  \n",
       "JR-1497_p489c_shRen_caer_48h_multiome_4            mm10  "
      ]
     },
     "execution_count": 20,
     "metadata": {},
     "output_type": "execute_result"
    }
   ],
   "source": [
    "samples"
   ]
  },
  {
   "cell_type": "code",
   "execution_count": 21,
   "metadata": {},
   "outputs": [],
   "source": [
    "# Load minimum inputs and labels fields from templates\n",
    "with open(f\"{config_dir}/template.fastq.inputs.json\") as f:\n",
    "    std_inputs_fields = list(json.load(f).keys())\n",
    "    \n",
    "with open(f\"{config_dir}/template.fastq.labels.json\") as f:\n",
    "    std_labels_fields = list(json.load(f).keys())\n",
    "    \n",
    "# Annotate all samples with workflow inputs and labels\n",
    "inputs = pd.DataFrame(index=samples.index, columns=std_inputs_fields,)\n",
    "labels = pd.DataFrame(index=samples.index, columns=std_labels_fields,)\n",
    "\n",
    "# Annotate inputs\n",
    "inputs[f\"{prefix}.sampleName\"] = inputs.index # may need to change\n",
    "inputs[f\"{prefix}.fastqFiles\"] = samples[\"FASTQs\"].apply(lambda x: np.ravel(list(x.values())))\n",
    "inputs[f\"{prefix}.fastqNames\"] = inputs[f\"{prefix}.fastqFiles\"].apply(lambda x: get_fastqs_name(x))\n",
    "inputs[f\"{prefix}.genomeCellRanger\"] = samples[\"CR_Reference\"].apply(\n",
    "    lambda x: {\n",
    "        \"name\": re.match(r'.*/refdata-cellranger-[a-z]+-(.*).tar.gz$', x)[1],\n",
    "        \"location\": x,\n",
    "    }\n",
    ")\n",
    "inputs[f\"{prefix}.genomeArchR\"] = samples[\"ArchR_Reference\"]\n",
    "inputs[f\"{prefix}.numCores\"] = 1\n",
    "inputs[f\"{prefix}.dockerRegistry\"] = common_docker_registry\n",
    "\n",
    "# Annotate labels\n",
    "labels[\"pipelineType\"] = \"CellRangerARC\"\n",
    "labels[\"project\"] = samples[\"Sample_ID\"].apply(lambda x: get_project_id(x, creds[\"user\"], creds[\"password\"]))\n",
    "labels[\"sample\"] = labels.index\n",
    "labels[\"owner\"] = creds[\"user\"]\n",
    "labels[\"destination\"] = samples['S3_Path'] + \"/\" + output_dirname\n",
    "labels[\"transfer\"] = \"-\"\n",
    "labels[\"comment\"] = creds[\"user\"]\n",
    "\n",
    "assert (std_inputs_fields == list(inputs.columns)) & (inputs.notna().values.all())\n",
    "assert (std_labels_fields == list(labels.columns)) & (labels.notna().values.all())"
   ]
  },
  {
   "cell_type": "code",
   "execution_count": 22,
   "metadata": {},
   "outputs": [
    {
     "data": {
      "text/html": [
       "<div>\n",
       "<style scoped>\n",
       "    .dataframe tbody tr th:only-of-type {\n",
       "        vertical-align: middle;\n",
       "    }\n",
       "\n",
       "    .dataframe tbody tr th {\n",
       "        vertical-align: top;\n",
       "    }\n",
       "\n",
       "    .dataframe thead th {\n",
       "        text-align: right;\n",
       "    }\n",
       "</style>\n",
       "<table border=\"1\" class=\"dataframe\">\n",
       "  <thead>\n",
       "    <tr style=\"text-align: right;\">\n",
       "      <th></th>\n",
       "      <th>ArchRCR.sampleName</th>\n",
       "      <th>ArchRCR.fastqNames</th>\n",
       "      <th>ArchRCR.fastqFiles</th>\n",
       "      <th>ArchRCR.genomeCellRanger</th>\n",
       "      <th>ArchRCR.genomeArchR</th>\n",
       "      <th>ArchRCR.numCores</th>\n",
       "      <th>ArchRCR.dockerRegistry</th>\n",
       "    </tr>\n",
       "  </thead>\n",
       "  <tbody>\n",
       "    <tr>\n",
       "      <th>JR-1497_p489c_shRen_caer_48h_multiome_1</th>\n",
       "      <td>JR-1497_p489c_shRen_caer_48h_multiome_1</td>\n",
       "      <td>3519_JR-1497_p489c_shRen_caer_48h_mu...</td>\n",
       "      <td>[s3://dp-lab-data/collaborators/lowe...</td>\n",
       "      <td>{'name': 'mm10-2020-A-2.0.0', 'locat...</td>\n",
       "      <td>mm10</td>\n",
       "      <td>1</td>\n",
       "      <td>quay.io/hisplan</td>\n",
       "    </tr>\n",
       "    <tr>\n",
       "      <th>JR-1497_p489c_shRen_caer_48h_multiome_2</th>\n",
       "      <td>JR-1497_p489c_shRen_caer_48h_multiome_2</td>\n",
       "      <td>3520_JR-1497_p489c_shRen_caer_48h_mu...</td>\n",
       "      <td>[s3://dp-lab-data/collaborators/lowe...</td>\n",
       "      <td>{'name': 'mm10-2020-A-2.0.0', 'locat...</td>\n",
       "      <td>mm10</td>\n",
       "      <td>1</td>\n",
       "      <td>quay.io/hisplan</td>\n",
       "    </tr>\n",
       "    <tr>\n",
       "      <th>JR-1497_p489c_shRen_caer_48h_multiome_3</th>\n",
       "      <td>JR-1497_p489c_shRen_caer_48h_multiome_3</td>\n",
       "      <td>3521_JR-1497_p489c_shRen_caer_48h_mu...</td>\n",
       "      <td>[s3://dp-lab-data/collaborators/lowe...</td>\n",
       "      <td>{'name': 'mm10-2020-A-2.0.0', 'locat...</td>\n",
       "      <td>mm10</td>\n",
       "      <td>1</td>\n",
       "      <td>quay.io/hisplan</td>\n",
       "    </tr>\n",
       "    <tr>\n",
       "      <th>JR-1497_p489c_shRen_caer_48h_multiome_4</th>\n",
       "      <td>JR-1497_p489c_shRen_caer_48h_multiome_4</td>\n",
       "      <td>3522_JR-1497_p489c_shRen_caer_48h_mu...</td>\n",
       "      <td>[s3://dp-lab-data/collaborators/lowe...</td>\n",
       "      <td>{'name': 'mm10-2020-A-2.0.0', 'locat...</td>\n",
       "      <td>mm10</td>\n",
       "      <td>1</td>\n",
       "      <td>quay.io/hisplan</td>\n",
       "    </tr>\n",
       "  </tbody>\n",
       "</table>\n",
       "</div>"
      ],
      "text/plain": [
       "                                                              ArchRCR.sampleName  \\\n",
       "JR-1497_p489c_shRen_caer_48h_multiome_1  JR-1497_p489c_shRen_caer_48h_multiome_1   \n",
       "JR-1497_p489c_shRen_caer_48h_multiome_2  JR-1497_p489c_shRen_caer_48h_multiome_2   \n",
       "JR-1497_p489c_shRen_caer_48h_multiome_3  JR-1497_p489c_shRen_caer_48h_multiome_3   \n",
       "JR-1497_p489c_shRen_caer_48h_multiome_4  JR-1497_p489c_shRen_caer_48h_multiome_4   \n",
       "\n",
       "                                                              ArchRCR.fastqNames  \\\n",
       "JR-1497_p489c_shRen_caer_48h_multiome_1  3519_JR-1497_p489c_shRen_caer_48h_mu...   \n",
       "JR-1497_p489c_shRen_caer_48h_multiome_2  3520_JR-1497_p489c_shRen_caer_48h_mu...   \n",
       "JR-1497_p489c_shRen_caer_48h_multiome_3  3521_JR-1497_p489c_shRen_caer_48h_mu...   \n",
       "JR-1497_p489c_shRen_caer_48h_multiome_4  3522_JR-1497_p489c_shRen_caer_48h_mu...   \n",
       "\n",
       "                                                              ArchRCR.fastqFiles  \\\n",
       "JR-1497_p489c_shRen_caer_48h_multiome_1  [s3://dp-lab-data/collaborators/lowe...   \n",
       "JR-1497_p489c_shRen_caer_48h_multiome_2  [s3://dp-lab-data/collaborators/lowe...   \n",
       "JR-1497_p489c_shRen_caer_48h_multiome_3  [s3://dp-lab-data/collaborators/lowe...   \n",
       "JR-1497_p489c_shRen_caer_48h_multiome_4  [s3://dp-lab-data/collaborators/lowe...   \n",
       "\n",
       "                                                        ArchRCR.genomeCellRanger  \\\n",
       "JR-1497_p489c_shRen_caer_48h_multiome_1  {'name': 'mm10-2020-A-2.0.0', 'locat...   \n",
       "JR-1497_p489c_shRen_caer_48h_multiome_2  {'name': 'mm10-2020-A-2.0.0', 'locat...   \n",
       "JR-1497_p489c_shRen_caer_48h_multiome_3  {'name': 'mm10-2020-A-2.0.0', 'locat...   \n",
       "JR-1497_p489c_shRen_caer_48h_multiome_4  {'name': 'mm10-2020-A-2.0.0', 'locat...   \n",
       "\n",
       "                                        ArchRCR.genomeArchR  ArchRCR.numCores  \\\n",
       "JR-1497_p489c_shRen_caer_48h_multiome_1                mm10                 1   \n",
       "JR-1497_p489c_shRen_caer_48h_multiome_2                mm10                 1   \n",
       "JR-1497_p489c_shRen_caer_48h_multiome_3                mm10                 1   \n",
       "JR-1497_p489c_shRen_caer_48h_multiome_4                mm10                 1   \n",
       "\n",
       "                                        ArchRCR.dockerRegistry  \n",
       "JR-1497_p489c_shRen_caer_48h_multiome_1        quay.io/hisplan  \n",
       "JR-1497_p489c_shRen_caer_48h_multiome_2        quay.io/hisplan  \n",
       "JR-1497_p489c_shRen_caer_48h_multiome_3        quay.io/hisplan  \n",
       "JR-1497_p489c_shRen_caer_48h_multiome_4        quay.io/hisplan  "
      ]
     },
     "execution_count": 22,
     "metadata": {},
     "output_type": "execute_result"
    }
   ],
   "source": [
    "inputs"
   ]
  },
  {
   "cell_type": "code",
   "execution_count": 23,
   "metadata": {},
   "outputs": [
    {
     "data": {
      "text/html": [
       "<div>\n",
       "<style scoped>\n",
       "    .dataframe tbody tr th:only-of-type {\n",
       "        vertical-align: middle;\n",
       "    }\n",
       "\n",
       "    .dataframe tbody tr th {\n",
       "        vertical-align: top;\n",
       "    }\n",
       "\n",
       "    .dataframe thead th {\n",
       "        text-align: right;\n",
       "    }\n",
       "</style>\n",
       "<table border=\"1\" class=\"dataframe\">\n",
       "  <thead>\n",
       "    <tr style=\"text-align: right;\">\n",
       "      <th></th>\n",
       "      <th>pipelineType</th>\n",
       "      <th>project</th>\n",
       "      <th>sample</th>\n",
       "      <th>owner</th>\n",
       "      <th>destination</th>\n",
       "      <th>transfer</th>\n",
       "      <th>comment</th>\n",
       "    </tr>\n",
       "  </thead>\n",
       "  <tbody>\n",
       "    <tr>\n",
       "      <th>JR-1497_p489c_shRen_caer_48h_multiome_1</th>\n",
       "      <td>CellRangerARC</td>\n",
       "      <td>p53_loss_enrichment</td>\n",
       "      <td>JR-1497_p489c_shRen_caer_48h_multiome_1</td>\n",
       "      <td>moormana</td>\n",
       "      <td>s3://dp-lab-data/collaborators/lowe/...</td>\n",
       "      <td>-</td>\n",
       "      <td>moormana</td>\n",
       "    </tr>\n",
       "    <tr>\n",
       "      <th>JR-1497_p489c_shRen_caer_48h_multiome_2</th>\n",
       "      <td>CellRangerARC</td>\n",
       "      <td>p53_loss_enrichment</td>\n",
       "      <td>JR-1497_p489c_shRen_caer_48h_multiome_2</td>\n",
       "      <td>moormana</td>\n",
       "      <td>s3://dp-lab-data/collaborators/lowe/...</td>\n",
       "      <td>-</td>\n",
       "      <td>moormana</td>\n",
       "    </tr>\n",
       "    <tr>\n",
       "      <th>JR-1497_p489c_shRen_caer_48h_multiome_3</th>\n",
       "      <td>CellRangerARC</td>\n",
       "      <td>p53_loss_enrichment</td>\n",
       "      <td>JR-1497_p489c_shRen_caer_48h_multiome_3</td>\n",
       "      <td>moormana</td>\n",
       "      <td>s3://dp-lab-data/collaborators/lowe/...</td>\n",
       "      <td>-</td>\n",
       "      <td>moormana</td>\n",
       "    </tr>\n",
       "    <tr>\n",
       "      <th>JR-1497_p489c_shRen_caer_48h_multiome_4</th>\n",
       "      <td>CellRangerARC</td>\n",
       "      <td>p53_loss_enrichment</td>\n",
       "      <td>JR-1497_p489c_shRen_caer_48h_multiome_4</td>\n",
       "      <td>moormana</td>\n",
       "      <td>s3://dp-lab-data/collaborators/lowe/...</td>\n",
       "      <td>-</td>\n",
       "      <td>moormana</td>\n",
       "    </tr>\n",
       "  </tbody>\n",
       "</table>\n",
       "</div>"
      ],
      "text/plain": [
       "                                          pipelineType              project  \\\n",
       "JR-1497_p489c_shRen_caer_48h_multiome_1  CellRangerARC  p53_loss_enrichment   \n",
       "JR-1497_p489c_shRen_caer_48h_multiome_2  CellRangerARC  p53_loss_enrichment   \n",
       "JR-1497_p489c_shRen_caer_48h_multiome_3  CellRangerARC  p53_loss_enrichment   \n",
       "JR-1497_p489c_shRen_caer_48h_multiome_4  CellRangerARC  p53_loss_enrichment   \n",
       "\n",
       "                                                                          sample  \\\n",
       "JR-1497_p489c_shRen_caer_48h_multiome_1  JR-1497_p489c_shRen_caer_48h_multiome_1   \n",
       "JR-1497_p489c_shRen_caer_48h_multiome_2  JR-1497_p489c_shRen_caer_48h_multiome_2   \n",
       "JR-1497_p489c_shRen_caer_48h_multiome_3  JR-1497_p489c_shRen_caer_48h_multiome_3   \n",
       "JR-1497_p489c_shRen_caer_48h_multiome_4  JR-1497_p489c_shRen_caer_48h_multiome_4   \n",
       "\n",
       "                                            owner  \\\n",
       "JR-1497_p489c_shRen_caer_48h_multiome_1  moormana   \n",
       "JR-1497_p489c_shRen_caer_48h_multiome_2  moormana   \n",
       "JR-1497_p489c_shRen_caer_48h_multiome_3  moormana   \n",
       "JR-1497_p489c_shRen_caer_48h_multiome_4  moormana   \n",
       "\n",
       "                                                                     destination  \\\n",
       "JR-1497_p489c_shRen_caer_48h_multiome_1  s3://dp-lab-data/collaborators/lowe/...   \n",
       "JR-1497_p489c_shRen_caer_48h_multiome_2  s3://dp-lab-data/collaborators/lowe/...   \n",
       "JR-1497_p489c_shRen_caer_48h_multiome_3  s3://dp-lab-data/collaborators/lowe/...   \n",
       "JR-1497_p489c_shRen_caer_48h_multiome_4  s3://dp-lab-data/collaborators/lowe/...   \n",
       "\n",
       "                                        transfer   comment  \n",
       "JR-1497_p489c_shRen_caer_48h_multiome_1        -  moormana  \n",
       "JR-1497_p489c_shRen_caer_48h_multiome_2        -  moormana  \n",
       "JR-1497_p489c_shRen_caer_48h_multiome_3        -  moormana  \n",
       "JR-1497_p489c_shRen_caer_48h_multiome_4        -  moormana  "
      ]
     },
     "execution_count": 23,
     "metadata": {},
     "output_type": "execute_result"
    }
   ],
   "source": [
    "labels"
   ]
  },
  {
   "cell_type": "code",
   "execution_count": 30,
   "metadata": {
    "tags": []
   },
   "outputs": [
    {
     "data": {
      "application/vnd.jupyter.widget-view+json": {
       "model_id": "e6801e0a636c450bb3d31cb25a596a5c",
       "version_major": 2,
       "version_minor": 0
      },
      "text/plain": [
       "  0%|          | 0/4 [00:00<?, ?it/s]"
      ]
     },
     "metadata": {},
     "output_type": "display_data"
    }
   ],
   "source": [
    "stdouts = [] # to store all outputs\n",
    "process = True\n",
    "\n",
    "with tqdm(samples.index) as t:\n",
    "\n",
    "    for sample_name in t:\n",
    "\n",
    "        # Write inputs and labels to file\n",
    "        path_to_inputs = f\"{config_dir}/{sample_name}.inputs.json\"\n",
    "        with open(path_to_inputs, \"w\") as f_inputs:\n",
    "            json.dump(inputs.loc[sample_name].to_dict(), f_inputs, indent=4, cls=NpEncoder)\n",
    "\n",
    "        path_to_labels = f\"{config_dir}/{sample_name}.labels.json\"\n",
    "        with open(path_to_labels, \"w\") as f_labels:\n",
    "            json.dump(labels.loc[sample_name].to_dict(), f_labels, indent=4, cls=NpEncoder)\n",
    "\n",
    "        if process:\n",
    "            stdouts.append(run(\n",
    "                workflow_path = workflow_dir,\n",
    "                execp = execp,\n",
    "                secrets = path_to_cromwell_secrets,\n",
    "                inputs = path_to_inputs,\n",
    "                labels = path_to_labels,\n",
    "                options = path_to_options,\n",
    "            ))"
   ]
  },
  {
   "cell_type": "code",
   "execution_count": 31,
   "metadata": {},
   "outputs": [
    {
     "data": {
      "text/plain": [
       "[{'args': ['/Users/moormana/scing/bin/wdl-ArchR/submit-fastq.sh',\n",
       "   '-k',\n",
       "   '/Users/moormana/.cromwell/cromwell-secrets.json',\n",
       "   '-i',\n",
       "   '/Users/moormana/scing/bin/wdl-ArchR/configs/JR-1497_p489c_shRen_caer_48h_multiome_1.inputs.json',\n",
       "   '-l',\n",
       "   '/Users/moormana/scing/bin/wdl-ArchR/configs/JR-1497_p489c_shRen_caer_48h_multiome_1.labels.json',\n",
       "   '-o',\n",
       "   '/Users/moormana/scing/bin/wdl-ArchR/ArchR.options.aws.json'],\n",
       "  'returncode': 0,\n",
       "  'stdout': '{\"id\":\"ee2b98b7-dc08-4818-b634-e77135c23672\",\"status\":\"Submitted\"}\\n',\n",
       "  'stderr': ''},\n",
       " {'args': ['/Users/moormana/scing/bin/wdl-ArchR/submit-fastq.sh',\n",
       "   '-k',\n",
       "   '/Users/moormana/.cromwell/cromwell-secrets.json',\n",
       "   '-i',\n",
       "   '/Users/moormana/scing/bin/wdl-ArchR/configs/JR-1497_p489c_shRen_caer_48h_multiome_2.inputs.json',\n",
       "   '-l',\n",
       "   '/Users/moormana/scing/bin/wdl-ArchR/configs/JR-1497_p489c_shRen_caer_48h_multiome_2.labels.json',\n",
       "   '-o',\n",
       "   '/Users/moormana/scing/bin/wdl-ArchR/ArchR.options.aws.json'],\n",
       "  'returncode': 0,\n",
       "  'stdout': '{\"id\":\"1d060272-c8a6-41c1-9d31-2e7ba0df1b5b\",\"status\":\"Submitted\"}\\n',\n",
       "  'stderr': ''},\n",
       " {'args': ['/Users/moormana/scing/bin/wdl-ArchR/submit-fastq.sh',\n",
       "   '-k',\n",
       "   '/Users/moormana/.cromwell/cromwell-secrets.json',\n",
       "   '-i',\n",
       "   '/Users/moormana/scing/bin/wdl-ArchR/configs/JR-1497_p489c_shRen_caer_48h_multiome_3.inputs.json',\n",
       "   '-l',\n",
       "   '/Users/moormana/scing/bin/wdl-ArchR/configs/JR-1497_p489c_shRen_caer_48h_multiome_3.labels.json',\n",
       "   '-o',\n",
       "   '/Users/moormana/scing/bin/wdl-ArchR/ArchR.options.aws.json'],\n",
       "  'returncode': 0,\n",
       "  'stdout': '{\"id\":\"bf3e4160-24bb-477d-9589-4c17419cf576\",\"status\":\"Submitted\"}\\n',\n",
       "  'stderr': ''},\n",
       " {'args': ['/Users/moormana/scing/bin/wdl-ArchR/submit-fastq.sh',\n",
       "   '-k',\n",
       "   '/Users/moormana/.cromwell/cromwell-secrets.json',\n",
       "   '-i',\n",
       "   '/Users/moormana/scing/bin/wdl-ArchR/configs/JR-1497_p489c_shRen_caer_48h_multiome_4.inputs.json',\n",
       "   '-l',\n",
       "   '/Users/moormana/scing/bin/wdl-ArchR/configs/JR-1497_p489c_shRen_caer_48h_multiome_4.labels.json',\n",
       "   '-o',\n",
       "   '/Users/moormana/scing/bin/wdl-ArchR/ArchR.options.aws.json'],\n",
       "  'returncode': 0,\n",
       "  'stdout': '{\"id\":\"0ff3a769-adb2-44df-a17f-241c9068766e\",\"status\":\"Submitted\"}\\n',\n",
       "  'stderr': ''}]"
      ]
     },
     "execution_count": 31,
     "metadata": {},
     "output_type": "execute_result"
    }
   ],
   "source": [
    "stdouts"
   ]
  },
  {
   "cell_type": "code",
   "execution_count": null,
   "metadata": {},
   "outputs": [],
   "source": []
  }
 ],
 "metadata": {
  "kernelspec": {
   "display_name": "Python 3 (ipykernel)",
   "language": "python",
   "name": "python3"
  },
  "language_info": {
   "codemirror_mode": {
    "name": "ipython",
    "version": 3
   },
   "file_extension": ".py",
   "mimetype": "text/x-python",
   "name": "python",
   "nbconvert_exporter": "python",
   "pygments_lexer": "ipython3",
   "version": "3.8.12"
  }
 },
 "nbformat": 4,
 "nbformat_minor": 4
}
