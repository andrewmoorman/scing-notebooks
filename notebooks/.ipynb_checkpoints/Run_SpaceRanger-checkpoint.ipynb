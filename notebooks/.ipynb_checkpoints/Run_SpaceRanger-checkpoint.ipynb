{
 "cells": [
  {
   "cell_type": "code",
   "execution_count": 98,
   "metadata": {},
   "outputs": [],
   "source": [
    "import re, subprocess, boto3, json, shlex, mysql, os, urllib, logging\n",
    "import pandas as pd\n",
    "import numpy as np\n",
    "from s3path import S3Path\n",
    "from pathlib import Path\n",
    "from tqdm.notebook import tqdm\n",
    "from packaging import version\n",
    "pd.set_option(\"display.max_colwidth\", 40)"
   ]
  },
  {
   "cell_type": "code",
   "execution_count": 53,
   "metadata": {},
   "outputs": [],
   "source": [
    "from utils.utils import *"
   ]
  },
  {
   "cell_type": "markdown",
   "metadata": {
    "tags": [],
    "toc-hr-collapsed": true
   },
   "source": [
    "# Define Helper Functions"
   ]
  },
  {
   "cell_type": "code",
   "execution_count": 32,
   "metadata": {},
   "outputs": [],
   "source": [
    "# FASTQ reads/indices required for each workflow\n",
    "fastq_map = {\n",
    "    'Hashtag': ['R1','R2'],\n",
    "    'CiteSeq': ['R1','R2'],\n",
    "    'AsapSeq': ['R1','R2','R3'],\n",
    "    'CellRangerATAC': ['I1','R1','R2','R3'],\n",
    "    'CellRangerGex': ['I1','R1','R2'],\n",
    "    'SpaceRanger': ['I1', 'I2', 'R1', 'R2'],\n",
    "}"
   ]
  },
  {
   "cell_type": "markdown",
   "metadata": {},
   "source": [
    "# Process Samples"
   ]
  },
  {
   "cell_type": "markdown",
   "metadata": {
    "tags": []
   },
   "source": [
    "## Setup"
   ]
  },
  {
   "cell_type": "code",
   "execution_count": 54,
   "metadata": {},
   "outputs": [],
   "source": [
    "# Location of docker files\n",
    "common_docker_registry = \"quay.io/hisplan\"\n",
    "\n",
    "prefix = \"SpaceRanger\" # Workflow to run; also .wdl filename prefix\n",
    "pipeline_type = prefix # field in *.labels.json\n",
    "output_dirname = \"sr-results\"\n",
    "\n",
    "# If need to add comment, put here\n",
    "comment = \"\""
   ]
  },
  {
   "cell_type": "code",
   "execution_count": 48,
   "metadata": {},
   "outputs": [],
   "source": [
    "# Locations of workflow-related directories and files\n",
    "path_to_cromwell_secrets = f\"{Path.home()}/.cromwell/cromwell-secrets.json\" # CHANGE THIS\n",
    "workflow_dir = f\"{Path.home()}/scing/bin/spaceranger-1.3.1\" # CHANGE THIS\n",
    "path_to_exec = f\"{workflow_dir}/submit.sh\" # CHANGE THIS FOR SHARP\n",
    "config_dir = f\"{workflow_dir}/configs\"\n",
    "path_to_options = f\"{workflow_dir}/{prefix}.options.aws.json\"\n",
    "\n",
    "# Other file locations\n",
    "db_credentials_path = f\"{Path.home()}/.config.json\" # CHANGE THIS"
   ]
  },
  {
   "cell_type": "code",
   "execution_count": 49,
   "metadata": {},
   "outputs": [],
   "source": [
    "# Set credentials based on SCRIdb CLI config file\n",
    "with open(db_credentials_path) as f:\n",
    "    creds = json.load(f)"
   ]
  },
  {
   "cell_type": "code",
   "execution_count": 50,
   "metadata": {},
   "outputs": [],
   "source": [
    "# Samples on which to run CellRangerATAC\n",
    "# Note: Assumes data is transferred to AWS S3 (this should be an s3 location)\n",
    "# Note: Assumes directory name is name of sample\n",
    "common_dir = \"s3://dp-lab-data/collaborators/whiter/VisiumPattonlab\"\n",
    "samples = [\n",
    "    'MH-1505_AR1_V19B23-118_A1',\n",
    "    'MH-1505_AR2_V19B23-118_B1',\n",
    "    'MH-1505_AR3_V19B23-118_C1',\n",
    "    'MH-1505_AR4_V19B23-118_D1',\n",
    "]\n",
    "sample_paths = [\n",
    "    f\"{common_dir}/{sample}\" for sample in samples\n",
    "]"
   ]
  },
  {
   "cell_type": "code",
   "execution_count": 57,
   "metadata": {},
   "outputs": [],
   "source": [
    "# Set path to transgene reference S3\n",
    "# Note: This is an exceptional case\n",
    "reference_uri = \"https://dp-lab-data.s3.amazonaws.com/collaborators/whiter/VisiumPattonlab/refdata/refdata-danio-rerio-20211005.tar.gz\""
   ]
  },
  {
   "cell_type": "code",
   "execution_count": 69,
   "metadata": {},
   "outputs": [],
   "source": [
    "# Set path to Visium images and slide data csv\n",
    "path_to_slides = f\"{Path.home()}/scing/data/visium_images/V19B23-118\""
   ]
  },
  {
   "cell_type": "markdown",
   "metadata": {},
   "source": [
    "## Execution"
   ]
  },
  {
   "cell_type": "code",
   "execution_count": 101,
   "metadata": {},
   "outputs": [
    {
     "name": "stdout",
     "output_type": "stream",
     "text": [
      "['MH-1505_AR1_V19B23-118_A1', 'MH-1505_AR2_V19B23-118_B1', 'MH-1505_AR3_V19B23-118_C1', 'MH-1505_AR4_V19B23-118_D1']\n"
     ]
    }
   ],
   "source": [
    "# Get information for all samples\n",
    "sample_paths = [s.strip('/') for s in sample_paths] # remove trailing slash if exists\n",
    "sample_names = [os.path.basename(s) for s in sample_paths]\n",
    "\n",
    "print(sample_names)\n",
    "samples = pd.DataFrame(\n",
    "    sample_paths,\n",
    "    index=sample_names,\n",
    "    columns=[\"S3_Path\"],\n",
    "    dtype=str,\n",
    ")\n",
    "samples[\"Sample_ID\"] = pd.Series(samples.index).apply(\n",
    "    lambda x: get_sample_id(x, creds['user'], creds['password'])\n",
    ").values\n",
    "\n",
    "# Get FASTQ paths from S3\n",
    "# Note: Uses same FASTQ file ids for all samples\n",
    "fastq_file_ids = fastq_map[prefix]\n",
    "samples[\"FASTQs\"] = samples[\"S3_Path\"].apply(lambda x: get_fastqs(x, fastq_file_ids))\n",
    "\n",
    "# Set reference explicitly\n",
    "samples[\"Reference\"] = reference_uri"
   ]
  },
  {
   "cell_type": "code",
   "execution_count": 102,
   "metadata": {},
   "outputs": [
    {
     "data": {
      "application/vnd.jupyter.widget-view+json": {
       "model_id": "a56d8021ce7340d88c200c93f03fbfed",
       "version_major": 2,
       "version_minor": 0
      },
      "text/plain": [
       "0it [00:00, ?it/s]"
      ]
     },
     "metadata": {},
     "output_type": "display_data"
    }
   ],
   "source": [
    "# Get slide information for all samples\n",
    "slide_data = pd.read_csv(f\"{path_to_slides}/slide_data.csv\", index_col=0)\n",
    "assert all([image in os.listdir(path_to_slides) for image in slide_data['image']])\n",
    "\n",
    "samples[\"Serial_Number\"] = samples[\"Sample_ID\"].map(slide_data[\"serial_number\"])\n",
    "samples[\"Area_ID\"] = samples[\"Sample_ID\"].map(slide_data[\"area_id\"])\n",
    "samples[\"Image_Path\"] = samples[\"S3_Path\"] + \"/\" + output_dirname + \"/\" + samples[\"Sample_ID\"].map(slide_data[\"image\"])\n",
    "\n",
    "# Upload images to S3\n",
    "for image, s3_path in tqdm(zip(slide_data[\"image\"], samples[\"Image_Path\"])):\n",
    "    assert image in os.listdir(path_to_slides)\n",
    "    subprocess.run(f\"aws s3 sync {path_to_slides}/{image} {s3_path} --quiet\".split())"
   ]
  },
  {
   "cell_type": "code",
   "execution_count": 103,
   "metadata": {},
   "outputs": [
    {
     "data": {
      "text/html": [
       "<div>\n",
       "<style scoped>\n",
       "    .dataframe tbody tr th:only-of-type {\n",
       "        vertical-align: middle;\n",
       "    }\n",
       "\n",
       "    .dataframe tbody tr th {\n",
       "        vertical-align: top;\n",
       "    }\n",
       "\n",
       "    .dataframe thead th {\n",
       "        text-align: right;\n",
       "    }\n",
       "</style>\n",
       "<table border=\"1\" class=\"dataframe\">\n",
       "  <thead>\n",
       "    <tr style=\"text-align: right;\">\n",
       "      <th></th>\n",
       "      <th>S3_Path</th>\n",
       "      <th>Sample_ID</th>\n",
       "      <th>FASTQs</th>\n",
       "      <th>Reference</th>\n",
       "      <th>Serial_Number</th>\n",
       "      <th>Area_ID</th>\n",
       "      <th>Image_Path</th>\n",
       "    </tr>\n",
       "  </thead>\n",
       "  <tbody>\n",
       "    <tr>\n",
       "      <th>MH-1505_AR1_V19B23-118_A1</th>\n",
       "      <td>s3://dp-lab-data/collaborators/white...</td>\n",
       "      <td>3507</td>\n",
       "      <td>{'I1': ['s3://dp-lab-data/collaborat...</td>\n",
       "      <td>https://dp-lab-data.s3.amazonaws.com...</td>\n",
       "      <td>V19B23</td>\n",
       "      <td>A1</td>\n",
       "      <td>s3://dp-lab-data/collaborators/white...</td>\n",
       "    </tr>\n",
       "    <tr>\n",
       "      <th>MH-1505_AR2_V19B23-118_B1</th>\n",
       "      <td>s3://dp-lab-data/collaborators/white...</td>\n",
       "      <td>3508</td>\n",
       "      <td>{'I1': ['s3://dp-lab-data/collaborat...</td>\n",
       "      <td>https://dp-lab-data.s3.amazonaws.com...</td>\n",
       "      <td>V19B23</td>\n",
       "      <td>B1</td>\n",
       "      <td>s3://dp-lab-data/collaborators/white...</td>\n",
       "    </tr>\n",
       "    <tr>\n",
       "      <th>MH-1505_AR3_V19B23-118_C1</th>\n",
       "      <td>s3://dp-lab-data/collaborators/white...</td>\n",
       "      <td>3509</td>\n",
       "      <td>{'I1': ['s3://dp-lab-data/collaborat...</td>\n",
       "      <td>https://dp-lab-data.s3.amazonaws.com...</td>\n",
       "      <td>V19B23</td>\n",
       "      <td>C1</td>\n",
       "      <td>s3://dp-lab-data/collaborators/white...</td>\n",
       "    </tr>\n",
       "    <tr>\n",
       "      <th>MH-1505_AR4_V19B23-118_D1</th>\n",
       "      <td>s3://dp-lab-data/collaborators/white...</td>\n",
       "      <td>3510</td>\n",
       "      <td>{'I1': ['s3://dp-lab-data/collaborat...</td>\n",
       "      <td>https://dp-lab-data.s3.amazonaws.com...</td>\n",
       "      <td>V19B23</td>\n",
       "      <td>D1</td>\n",
       "      <td>s3://dp-lab-data/collaborators/white...</td>\n",
       "    </tr>\n",
       "  </tbody>\n",
       "</table>\n",
       "</div>"
      ],
      "text/plain": [
       "                                                           S3_Path  Sample_ID  \\\n",
       "MH-1505_AR1_V19B23-118_A1  s3://dp-lab-data/collaborators/white...       3507   \n",
       "MH-1505_AR2_V19B23-118_B1  s3://dp-lab-data/collaborators/white...       3508   \n",
       "MH-1505_AR3_V19B23-118_C1  s3://dp-lab-data/collaborators/white...       3509   \n",
       "MH-1505_AR4_V19B23-118_D1  s3://dp-lab-data/collaborators/white...       3510   \n",
       "\n",
       "                                                            FASTQs  \\\n",
       "MH-1505_AR1_V19B23-118_A1  {'I1': ['s3://dp-lab-data/collaborat...   \n",
       "MH-1505_AR2_V19B23-118_B1  {'I1': ['s3://dp-lab-data/collaborat...   \n",
       "MH-1505_AR3_V19B23-118_C1  {'I1': ['s3://dp-lab-data/collaborat...   \n",
       "MH-1505_AR4_V19B23-118_D1  {'I1': ['s3://dp-lab-data/collaborat...   \n",
       "\n",
       "                                                         Reference  \\\n",
       "MH-1505_AR1_V19B23-118_A1  https://dp-lab-data.s3.amazonaws.com...   \n",
       "MH-1505_AR2_V19B23-118_B1  https://dp-lab-data.s3.amazonaws.com...   \n",
       "MH-1505_AR3_V19B23-118_C1  https://dp-lab-data.s3.amazonaws.com...   \n",
       "MH-1505_AR4_V19B23-118_D1  https://dp-lab-data.s3.amazonaws.com...   \n",
       "\n",
       "                          Serial_Number Area_ID  \\\n",
       "MH-1505_AR1_V19B23-118_A1        V19B23      A1   \n",
       "MH-1505_AR2_V19B23-118_B1        V19B23      B1   \n",
       "MH-1505_AR3_V19B23-118_C1        V19B23      C1   \n",
       "MH-1505_AR4_V19B23-118_D1        V19B23      D1   \n",
       "\n",
       "                                                        Image_Path  \n",
       "MH-1505_AR1_V19B23-118_A1  s3://dp-lab-data/collaborators/white...  \n",
       "MH-1505_AR2_V19B23-118_B1  s3://dp-lab-data/collaborators/white...  \n",
       "MH-1505_AR3_V19B23-118_C1  s3://dp-lab-data/collaborators/white...  \n",
       "MH-1505_AR4_V19B23-118_D1  s3://dp-lab-data/collaborators/white...  "
      ]
     },
     "execution_count": 103,
     "metadata": {},
     "output_type": "execute_result"
    }
   ],
   "source": [
    "samples"
   ]
  },
  {
   "cell_type": "code",
   "execution_count": 105,
   "metadata": {},
   "outputs": [],
   "source": [
    "# Load minimum inputs and labels fields from templates\n",
    "with open(f\"{config_dir}/template.inputs.json\") as f:\n",
    "    std_inputs_fields = list(json.load(f).keys())\n",
    "    \n",
    "with open(f\"{config_dir}/template.labels.json\") as f:\n",
    "    std_labels_fields = list(json.load(f).keys())\n",
    "    \n",
    "# Annotate all samples with workflow inputs and labels\n",
    "inputs = pd.DataFrame(index=samples.index, columns=std_inputs_fields,)\n",
    "labels = pd.DataFrame(index=samples.index, columns=std_labels_fields,)\n",
    "\n",
    "# Annotate inputs\n",
    "inputs[f\"{prefix}.sampleName\"] = inputs.index # may need to change\n",
    "inputs[f\"{prefix}.inputFastq\"] = samples[\"FASTQs\"].apply(lambda x: np.ravel(list(x.values())))\n",
    "inputs[f\"{prefix}.fastqName\"] = inputs[f\"{prefix}.inputFastq\"].apply(lambda x: get_fastqs_name(x))\n",
    "inputs[f\"{prefix}.referenceUrl\"] = samples[\"Reference\"]  \n",
    "inputs[f\"{prefix}.heImage\"] = samples[\"Image_Path\"]\n",
    "inputs[f\"{prefix}.slideSerialNumber\"] = samples[\"Serial_Number\"]\n",
    "inputs[f\"{prefix}.areaId\"] = samples[\"Area_ID\"]\n",
    "inputs[f\"{prefix}.reorientImages\"] = True\n",
    "inputs[f\"{prefix}.dockerRegistry\"] = common_docker_registry\n",
    "\n",
    "# Annotate labels\n",
    "labels[\"pipelineType\"] = pipeline_type\n",
    "labels[\"project\"] = samples[\"Sample_ID\"].apply(lambda x: get_project_id(x, creds[\"user\"], creds[\"password\"]))\n",
    "labels[\"sample\"] = labels.index\n",
    "labels[\"owner\"] = creds[\"user\"]\n",
    "labels[\"destination\"] = samples[\"S3_Path\"] + \"/\" + output_dirname\n",
    "labels[\"transfer\"] = \"-\"\n",
    "labels[\"comment\"] = creds[\"user\"]\n",
    "\n",
    "assert (std_inputs_fields == list(inputs.columns)) & (inputs.notna().values.all())\n",
    "assert (std_labels_fields == list(labels.columns)) & (labels.notna().values.all())"
   ]
  },
  {
   "cell_type": "code",
   "execution_count": 106,
   "metadata": {},
   "outputs": [
    {
     "data": {
      "text/html": [
       "<div>\n",
       "<style scoped>\n",
       "    .dataframe tbody tr th:only-of-type {\n",
       "        vertical-align: middle;\n",
       "    }\n",
       "\n",
       "    .dataframe tbody tr th {\n",
       "        vertical-align: top;\n",
       "    }\n",
       "\n",
       "    .dataframe thead th {\n",
       "        text-align: right;\n",
       "    }\n",
       "</style>\n",
       "<table border=\"1\" class=\"dataframe\">\n",
       "  <thead>\n",
       "    <tr style=\"text-align: right;\">\n",
       "      <th></th>\n",
       "      <th>SpaceRanger.sampleName</th>\n",
       "      <th>SpaceRanger.fastqName</th>\n",
       "      <th>SpaceRanger.inputFastq</th>\n",
       "      <th>SpaceRanger.referenceUrl</th>\n",
       "      <th>SpaceRanger.heImage</th>\n",
       "      <th>SpaceRanger.slideSerialNumber</th>\n",
       "      <th>SpaceRanger.areaId</th>\n",
       "      <th>SpaceRanger.reorientImages</th>\n",
       "      <th>SpaceRanger.dockerRegistry</th>\n",
       "    </tr>\n",
       "  </thead>\n",
       "  <tbody>\n",
       "    <tr>\n",
       "      <th>MH-1505_AR1_V19B23-118_A1</th>\n",
       "      <td>MH-1505_AR1_V19B23-118_A1</td>\n",
       "      <td>3507_MH-1505_AR1_V19B23-118_A1_IGO_1...</td>\n",
       "      <td>[s3://dp-lab-data/collaborators/whit...</td>\n",
       "      <td>https://dp-lab-data.s3.amazonaws.com...</td>\n",
       "      <td>s3://dp-lab-data/collaborators/white...</td>\n",
       "      <td>V19B23</td>\n",
       "      <td>A1</td>\n",
       "      <td>True</td>\n",
       "      <td>quay.io/hisplan</td>\n",
       "    </tr>\n",
       "    <tr>\n",
       "      <th>MH-1505_AR2_V19B23-118_B1</th>\n",
       "      <td>MH-1505_AR2_V19B23-118_B1</td>\n",
       "      <td>3508_MH-1505_AR2_V19B23-118_B1_IGO_1...</td>\n",
       "      <td>[s3://dp-lab-data/collaborators/whit...</td>\n",
       "      <td>https://dp-lab-data.s3.amazonaws.com...</td>\n",
       "      <td>s3://dp-lab-data/collaborators/white...</td>\n",
       "      <td>V19B23</td>\n",
       "      <td>B1</td>\n",
       "      <td>True</td>\n",
       "      <td>quay.io/hisplan</td>\n",
       "    </tr>\n",
       "    <tr>\n",
       "      <th>MH-1505_AR3_V19B23-118_C1</th>\n",
       "      <td>MH-1505_AR3_V19B23-118_C1</td>\n",
       "      <td>3509_MH-1505_AR3_V19B23-118_C1_IGO_1...</td>\n",
       "      <td>[s3://dp-lab-data/collaborators/whit...</td>\n",
       "      <td>https://dp-lab-data.s3.amazonaws.com...</td>\n",
       "      <td>s3://dp-lab-data/collaborators/white...</td>\n",
       "      <td>V19B23</td>\n",
       "      <td>C1</td>\n",
       "      <td>True</td>\n",
       "      <td>quay.io/hisplan</td>\n",
       "    </tr>\n",
       "    <tr>\n",
       "      <th>MH-1505_AR4_V19B23-118_D1</th>\n",
       "      <td>MH-1505_AR4_V19B23-118_D1</td>\n",
       "      <td>3510_MH-1505_AR4_V19B23-118_D1_IGO_1...</td>\n",
       "      <td>[s3://dp-lab-data/collaborators/whit...</td>\n",
       "      <td>https://dp-lab-data.s3.amazonaws.com...</td>\n",
       "      <td>s3://dp-lab-data/collaborators/white...</td>\n",
       "      <td>V19B23</td>\n",
       "      <td>D1</td>\n",
       "      <td>True</td>\n",
       "      <td>quay.io/hisplan</td>\n",
       "    </tr>\n",
       "  </tbody>\n",
       "</table>\n",
       "</div>"
      ],
      "text/plain": [
       "                              SpaceRanger.sampleName  \\\n",
       "MH-1505_AR1_V19B23-118_A1  MH-1505_AR1_V19B23-118_A1   \n",
       "MH-1505_AR2_V19B23-118_B1  MH-1505_AR2_V19B23-118_B1   \n",
       "MH-1505_AR3_V19B23-118_C1  MH-1505_AR3_V19B23-118_C1   \n",
       "MH-1505_AR4_V19B23-118_D1  MH-1505_AR4_V19B23-118_D1   \n",
       "\n",
       "                                             SpaceRanger.fastqName  \\\n",
       "MH-1505_AR1_V19B23-118_A1  3507_MH-1505_AR1_V19B23-118_A1_IGO_1...   \n",
       "MH-1505_AR2_V19B23-118_B1  3508_MH-1505_AR2_V19B23-118_B1_IGO_1...   \n",
       "MH-1505_AR3_V19B23-118_C1  3509_MH-1505_AR3_V19B23-118_C1_IGO_1...   \n",
       "MH-1505_AR4_V19B23-118_D1  3510_MH-1505_AR4_V19B23-118_D1_IGO_1...   \n",
       "\n",
       "                                            SpaceRanger.inputFastq  \\\n",
       "MH-1505_AR1_V19B23-118_A1  [s3://dp-lab-data/collaborators/whit...   \n",
       "MH-1505_AR2_V19B23-118_B1  [s3://dp-lab-data/collaborators/whit...   \n",
       "MH-1505_AR3_V19B23-118_C1  [s3://dp-lab-data/collaborators/whit...   \n",
       "MH-1505_AR4_V19B23-118_D1  [s3://dp-lab-data/collaborators/whit...   \n",
       "\n",
       "                                          SpaceRanger.referenceUrl  \\\n",
       "MH-1505_AR1_V19B23-118_A1  https://dp-lab-data.s3.amazonaws.com...   \n",
       "MH-1505_AR2_V19B23-118_B1  https://dp-lab-data.s3.amazonaws.com...   \n",
       "MH-1505_AR3_V19B23-118_C1  https://dp-lab-data.s3.amazonaws.com...   \n",
       "MH-1505_AR4_V19B23-118_D1  https://dp-lab-data.s3.amazonaws.com...   \n",
       "\n",
       "                                               SpaceRanger.heImage  \\\n",
       "MH-1505_AR1_V19B23-118_A1  s3://dp-lab-data/collaborators/white...   \n",
       "MH-1505_AR2_V19B23-118_B1  s3://dp-lab-data/collaborators/white...   \n",
       "MH-1505_AR3_V19B23-118_C1  s3://dp-lab-data/collaborators/white...   \n",
       "MH-1505_AR4_V19B23-118_D1  s3://dp-lab-data/collaborators/white...   \n",
       "\n",
       "                          SpaceRanger.slideSerialNumber SpaceRanger.areaId  \\\n",
       "MH-1505_AR1_V19B23-118_A1                        V19B23                 A1   \n",
       "MH-1505_AR2_V19B23-118_B1                        V19B23                 B1   \n",
       "MH-1505_AR3_V19B23-118_C1                        V19B23                 C1   \n",
       "MH-1505_AR4_V19B23-118_D1                        V19B23                 D1   \n",
       "\n",
       "                           SpaceRanger.reorientImages  \\\n",
       "MH-1505_AR1_V19B23-118_A1                        True   \n",
       "MH-1505_AR2_V19B23-118_B1                        True   \n",
       "MH-1505_AR3_V19B23-118_C1                        True   \n",
       "MH-1505_AR4_V19B23-118_D1                        True   \n",
       "\n",
       "                          SpaceRanger.dockerRegistry  \n",
       "MH-1505_AR1_V19B23-118_A1            quay.io/hisplan  \n",
       "MH-1505_AR2_V19B23-118_B1            quay.io/hisplan  \n",
       "MH-1505_AR3_V19B23-118_C1            quay.io/hisplan  \n",
       "MH-1505_AR4_V19B23-118_D1            quay.io/hisplan  "
      ]
     },
     "execution_count": 106,
     "metadata": {},
     "output_type": "execute_result"
    }
   ],
   "source": [
    "inputs"
   ]
  },
  {
   "cell_type": "code",
   "execution_count": 107,
   "metadata": {},
   "outputs": [
    {
     "data": {
      "text/html": [
       "<div>\n",
       "<style scoped>\n",
       "    .dataframe tbody tr th:only-of-type {\n",
       "        vertical-align: middle;\n",
       "    }\n",
       "\n",
       "    .dataframe tbody tr th {\n",
       "        vertical-align: top;\n",
       "    }\n",
       "\n",
       "    .dataframe thead th {\n",
       "        text-align: right;\n",
       "    }\n",
       "</style>\n",
       "<table border=\"1\" class=\"dataframe\">\n",
       "  <thead>\n",
       "    <tr style=\"text-align: right;\">\n",
       "      <th></th>\n",
       "      <th>pipelineType</th>\n",
       "      <th>project</th>\n",
       "      <th>sample</th>\n",
       "      <th>owner</th>\n",
       "      <th>destination</th>\n",
       "      <th>transfer</th>\n",
       "      <th>comment</th>\n",
       "    </tr>\n",
       "  </thead>\n",
       "  <tbody>\n",
       "    <tr>\n",
       "      <th>MH-1505_AR1_V19B23-118_A1</th>\n",
       "      <td>SpaceRanger</td>\n",
       "      <td>Visium_Pattonlab</td>\n",
       "      <td>MH-1505_AR1_V19B23-118_A1</td>\n",
       "      <td>moormana</td>\n",
       "      <td>s3://dp-lab-data/collaborators/white...</td>\n",
       "      <td>-</td>\n",
       "      <td>moormana</td>\n",
       "    </tr>\n",
       "    <tr>\n",
       "      <th>MH-1505_AR2_V19B23-118_B1</th>\n",
       "      <td>SpaceRanger</td>\n",
       "      <td>Visium_Pattonlab</td>\n",
       "      <td>MH-1505_AR2_V19B23-118_B1</td>\n",
       "      <td>moormana</td>\n",
       "      <td>s3://dp-lab-data/collaborators/white...</td>\n",
       "      <td>-</td>\n",
       "      <td>moormana</td>\n",
       "    </tr>\n",
       "    <tr>\n",
       "      <th>MH-1505_AR3_V19B23-118_C1</th>\n",
       "      <td>SpaceRanger</td>\n",
       "      <td>Visium_Pattonlab</td>\n",
       "      <td>MH-1505_AR3_V19B23-118_C1</td>\n",
       "      <td>moormana</td>\n",
       "      <td>s3://dp-lab-data/collaborators/white...</td>\n",
       "      <td>-</td>\n",
       "      <td>moormana</td>\n",
       "    </tr>\n",
       "    <tr>\n",
       "      <th>MH-1505_AR4_V19B23-118_D1</th>\n",
       "      <td>SpaceRanger</td>\n",
       "      <td>Visium_Pattonlab</td>\n",
       "      <td>MH-1505_AR4_V19B23-118_D1</td>\n",
       "      <td>moormana</td>\n",
       "      <td>s3://dp-lab-data/collaborators/white...</td>\n",
       "      <td>-</td>\n",
       "      <td>moormana</td>\n",
       "    </tr>\n",
       "  </tbody>\n",
       "</table>\n",
       "</div>"
      ],
      "text/plain": [
       "                          pipelineType           project  \\\n",
       "MH-1505_AR1_V19B23-118_A1  SpaceRanger  Visium_Pattonlab   \n",
       "MH-1505_AR2_V19B23-118_B1  SpaceRanger  Visium_Pattonlab   \n",
       "MH-1505_AR3_V19B23-118_C1  SpaceRanger  Visium_Pattonlab   \n",
       "MH-1505_AR4_V19B23-118_D1  SpaceRanger  Visium_Pattonlab   \n",
       "\n",
       "                                              sample     owner  \\\n",
       "MH-1505_AR1_V19B23-118_A1  MH-1505_AR1_V19B23-118_A1  moormana   \n",
       "MH-1505_AR2_V19B23-118_B1  MH-1505_AR2_V19B23-118_B1  moormana   \n",
       "MH-1505_AR3_V19B23-118_C1  MH-1505_AR3_V19B23-118_C1  moormana   \n",
       "MH-1505_AR4_V19B23-118_D1  MH-1505_AR4_V19B23-118_D1  moormana   \n",
       "\n",
       "                                                       destination transfer  \\\n",
       "MH-1505_AR1_V19B23-118_A1  s3://dp-lab-data/collaborators/white...        -   \n",
       "MH-1505_AR2_V19B23-118_B1  s3://dp-lab-data/collaborators/white...        -   \n",
       "MH-1505_AR3_V19B23-118_C1  s3://dp-lab-data/collaborators/white...        -   \n",
       "MH-1505_AR4_V19B23-118_D1  s3://dp-lab-data/collaborators/white...        -   \n",
       "\n",
       "                            comment  \n",
       "MH-1505_AR1_V19B23-118_A1  moormana  \n",
       "MH-1505_AR2_V19B23-118_B1  moormana  \n",
       "MH-1505_AR3_V19B23-118_C1  moormana  \n",
       "MH-1505_AR4_V19B23-118_D1  moormana  "
      ]
     },
     "execution_count": 107,
     "metadata": {},
     "output_type": "execute_result"
    }
   ],
   "source": [
    "labels"
   ]
  },
  {
   "cell_type": "code",
   "execution_count": 108,
   "metadata": {
    "tags": []
   },
   "outputs": [
    {
     "data": {
      "application/vnd.jupyter.widget-view+json": {
       "model_id": "2f14cecbe9ad431a8d85e4b338be199f",
       "version_major": 2,
       "version_minor": 0
      },
      "text/plain": [
       "  0%|          | 0/4 [00:00<?, ?it/s]"
      ]
     },
     "metadata": {},
     "output_type": "display_data"
    }
   ],
   "source": [
    "stdouts = [] # to store all outputs\n",
    "process = True\n",
    "\n",
    "with tqdm(samples.index) as t:\n",
    "\n",
    "    for sample_name in t:\n",
    "\n",
    "        # Write inputs and labels to file\n",
    "        path_to_inputs = f\"{config_dir}/{sample_name}.inputs.json\"\n",
    "        with open(path_to_inputs, \"w\") as f_inputs:\n",
    "            json.dump(inputs.loc[sample_name].to_dict(), f_inputs, indent=4, cls=NpEncoder)\n",
    "\n",
    "        path_to_labels = f\"{config_dir}/{sample_name}.labels.json\"\n",
    "        with open(path_to_labels, \"w\") as f_labels:\n",
    "            json.dump(labels.loc[sample_name].to_dict(), f_labels, indent=4, cls=NpEncoder)\n",
    "\n",
    "        if process:\n",
    "            stdouts.append(run(\n",
    "                workflow_path = workflow_dir,\n",
    "                execp = \"submit.sh\",\n",
    "                secrets = path_to_cromwell_secrets,\n",
    "                inputs = path_to_inputs,\n",
    "                labels = path_to_labels,\n",
    "                options = path_to_options,\n",
    "            ))"
   ]
  },
  {
   "cell_type": "code",
   "execution_count": 109,
   "metadata": {},
   "outputs": [
    {
     "data": {
      "text/plain": [
       "[{'args': ['/Users/moormana/scing/bin/spaceranger-1.3.1/submit.sh',\n",
       "   '-k',\n",
       "   '/Users/moormana/.cromwell/cromwell-secrets.json',\n",
       "   '-i',\n",
       "   '/Users/moormana/scing/bin/spaceranger-1.3.1/configs/MH-1505_AR1_V19B23-118_A1.inputs.json',\n",
       "   '-l',\n",
       "   '/Users/moormana/scing/bin/spaceranger-1.3.1/configs/MH-1505_AR1_V19B23-118_A1.labels.json',\n",
       "   '-o',\n",
       "   '/Users/moormana/scing/bin/spaceranger-1.3.1/SpaceRanger.options.aws.json'],\n",
       "  'returncode': 0,\n",
       "  'stdout': '{\"id\":\"c219c328-3ce0-443f-b086-39adbb2c3724\",\"status\":\"Submitted\"}\\n',\n",
       "  'stderr': ''},\n",
       " {'args': ['/Users/moormana/scing/bin/spaceranger-1.3.1/submit.sh',\n",
       "   '-k',\n",
       "   '/Users/moormana/.cromwell/cromwell-secrets.json',\n",
       "   '-i',\n",
       "   '/Users/moormana/scing/bin/spaceranger-1.3.1/configs/MH-1505_AR2_V19B23-118_B1.inputs.json',\n",
       "   '-l',\n",
       "   '/Users/moormana/scing/bin/spaceranger-1.3.1/configs/MH-1505_AR2_V19B23-118_B1.labels.json',\n",
       "   '-o',\n",
       "   '/Users/moormana/scing/bin/spaceranger-1.3.1/SpaceRanger.options.aws.json'],\n",
       "  'returncode': 0,\n",
       "  'stdout': '{\"id\":\"0679e9e2-d626-4fcf-b5f5-d29d9ebb200d\",\"status\":\"Submitted\"}\\n',\n",
       "  'stderr': ''},\n",
       " {'args': ['/Users/moormana/scing/bin/spaceranger-1.3.1/submit.sh',\n",
       "   '-k',\n",
       "   '/Users/moormana/.cromwell/cromwell-secrets.json',\n",
       "   '-i',\n",
       "   '/Users/moormana/scing/bin/spaceranger-1.3.1/configs/MH-1505_AR3_V19B23-118_C1.inputs.json',\n",
       "   '-l',\n",
       "   '/Users/moormana/scing/bin/spaceranger-1.3.1/configs/MH-1505_AR3_V19B23-118_C1.labels.json',\n",
       "   '-o',\n",
       "   '/Users/moormana/scing/bin/spaceranger-1.3.1/SpaceRanger.options.aws.json'],\n",
       "  'returncode': 0,\n",
       "  'stdout': '{\"id\":\"34621fa1-3e80-4701-b51c-bfd14a2a1f79\",\"status\":\"Submitted\"}\\n',\n",
       "  'stderr': ''},\n",
       " {'args': ['/Users/moormana/scing/bin/spaceranger-1.3.1/submit.sh',\n",
       "   '-k',\n",
       "   '/Users/moormana/.cromwell/cromwell-secrets.json',\n",
       "   '-i',\n",
       "   '/Users/moormana/scing/bin/spaceranger-1.3.1/configs/MH-1505_AR4_V19B23-118_D1.inputs.json',\n",
       "   '-l',\n",
       "   '/Users/moormana/scing/bin/spaceranger-1.3.1/configs/MH-1505_AR4_V19B23-118_D1.labels.json',\n",
       "   '-o',\n",
       "   '/Users/moormana/scing/bin/spaceranger-1.3.1/SpaceRanger.options.aws.json'],\n",
       "  'returncode': 0,\n",
       "  'stdout': '{\"id\":\"51bee031-1ece-4405-a18d-2abe2697f30c\",\"status\":\"Submitted\"}\\n',\n",
       "  'stderr': ''}]"
      ]
     },
     "execution_count": 109,
     "metadata": {},
     "output_type": "execute_result"
    }
   ],
   "source": [
    "stdouts"
   ]
  },
  {
   "cell_type": "code",
   "execution_count": null,
   "metadata": {},
   "outputs": [],
   "source": []
  }
 ],
 "metadata": {
  "kernelspec": {
   "display_name": "Python 3 (ipykernel)",
   "language": "python",
   "name": "python3"
  },
  "language_info": {
   "codemirror_mode": {
    "name": "ipython",
    "version": 3
   },
   "file_extension": ".py",
   "mimetype": "text/x-python",
   "name": "python",
   "nbconvert_exporter": "python",
   "pygments_lexer": "ipython3",
   "version": "3.8.12"
  }
 },
 "nbformat": 4,
 "nbformat_minor": 4
}
