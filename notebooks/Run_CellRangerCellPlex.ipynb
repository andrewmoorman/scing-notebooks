{
 "cells": [
  {
   "cell_type": "code",
   "execution_count": 228,
   "metadata": {},
   "outputs": [],
   "source": [
    "import re, subprocess, boto3, json, shlex, mysql, os, urllib\n",
    "import pandas as pd\n",
    "import numpy as np\n",
    "from s3path import S3Path\n",
    "from pathlib import Path\n",
    "from tqdm.notebook import tqdm\n",
    "from packaging import version\n",
    "pd.set_option(\"display.max_colwidth\", 40)"
   ]
  },
  {
   "cell_type": "code",
   "execution_count": 218,
   "metadata": {},
   "outputs": [],
   "source": [
    "from utils.utils import *"
   ]
  },
  {
   "cell_type": "markdown",
   "metadata": {},
   "source": [
    "# Process Samples"
   ]
  },
  {
   "cell_type": "markdown",
   "metadata": {
    "tags": []
   },
   "source": [
    "## Setup"
   ]
  },
  {
   "cell_type": "code",
   "execution_count": 29,
   "metadata": {},
   "outputs": [],
   "source": [
    "# Location of docker files\n",
    "common_docker_registry = \"quay.io/hisplan\"\n",
    "\n",
    "prefix = \"CellRangerCellPlex\" # Workflow to run; also .wdl filename prefix\n",
    "pipeline_type = prefix # field in *.labels.json\n",
    "output_dirname = \"cr-multi-results\"\n",
    "\n",
    "# If need to add comment, put here\n",
    "comment = \"\""
   ]
  },
  {
   "cell_type": "code",
   "execution_count": 232,
   "metadata": {},
   "outputs": [],
   "source": [
    "# Locations of workflow-related directories and files\n",
    "path_to_cromwell_secrets = f\"{Path.home()}/.cromwell/cromwell-secrets.json\" # CHANGE THIS\n",
    "workflow_dir = f\"{Path.home()}/scing/bin/cellranger-cellplex-6.1.2\" # CHANGE THIS\n",
    "path_to_exec = f\"{workflow_dir}/submit.sh\" # CHANGE THIS FOR SHARP\n",
    "config_dir = f\"{workflow_dir}/configs\"\n",
    "path_to_options = f\"{workflow_dir}/{prefix}.options.aws.json\"\n",
    "\n",
    "# Other file locations\n",
    "db_credentials_path = f\"{Path.home()}/.config.json\" # CHANGE THIS\n",
    "barcodes_path = f\"{Path.home()}/scing/data/barcodes\" # CHANGE THIS"
   ]
  },
  {
   "cell_type": "code",
   "execution_count": 31,
   "metadata": {},
   "outputs": [],
   "source": [
    "# Set credentials based on SCRIdb CLI config file\n",
    "with open(db_credentials_path) as f:\n",
    "    creds = json.load(f)"
   ]
  },
  {
   "cell_type": "code",
   "execution_count": 255,
   "metadata": {
    "tags": []
   },
   "outputs": [],
   "source": [
    "# Samples on which to run CellRangerATAC\n",
    "# Note: Assumes data is transferred to AWS S3 (this should be an s3 location)\n",
    "# Note: Assumes directory name is name of sample\n",
    "common_dir = \"s3://dp-lab-data/collaborators/joynera/EctopicActivationHhSignaling\"\n",
    "samples = [\n",
    "    \"YL-1487_YL-1485-1223\",\n",
    "]\n",
    "sample_paths = [\n",
    "    f\"{common_dir}/{sample}\" for sample in samples\n",
    "]"
   ]
  },
  {
   "cell_type": "code",
   "execution_count": 257,
   "metadata": {},
   "outputs": [],
   "source": [
    "# Add path to custom reference genome if relevant\n",
    "path_to_custom_ref = \"https://dp-lab-data.s3.amazonaws.com/collaborators/joynera/EctopicActivationHhSignaling/refdata-cellranger/VE-ectopic-activation-of-HH-signaling-GRCm38-Ensembl-100-transgenes.tar.gz\""
   ]
  },
  {
   "cell_type": "markdown",
   "metadata": {},
   "source": [
    "## Execution"
   ]
  },
  {
   "cell_type": "code",
   "execution_count": 258,
   "metadata": {},
   "outputs": [],
   "source": [
    "# Get information for all samples\n",
    "sample_paths = [s.strip('/') for s in sample_paths] # remove trailing slash if exists\n",
    "sample_names = [os.path.basename(s) for s in sample_paths]\n",
    "#sample_names = [s.replace(\"Redo_\", \"\") for s in sample_names]\n",
    "samples = pd.DataFrame(\n",
    "    sample_paths,\n",
    "    index=sample_names,\n",
    "    columns=[\"S3_Path\"],\n",
    "    dtype=str,\n",
    ")\n",
    "samples[\"Sample_ID\"] = pd.Series(samples.index).apply(\n",
    "    lambda x: get_sample_id(x, creds['user'], creds['password'])\n",
    ").values\n",
    "\n",
    "# Get FASTQ paths from S3\n",
    "# Note: Uses same FASTQ file ids for all samples\n",
    "fastq_file_ids = fastq_map[prefix]\n",
    "samples[\"FASTQs_GEX\"] = samples[\"S3_Path\"].apply(lambda x: get_fastqs(x, folder=\"FASTQ\"))\n",
    "samples[\"FASTQs_CPL\"] = samples[\"S3_Path\"].apply(lambda x: get_fastqs(x + \"_CPL\", folder=\"FASTQ\"))\n",
    "\n",
    "# Get reference genome location\n",
    "# samples[\"Reference\"] = samples[\"Sample_ID\"].apply(lambda x: get_cr_reference(x, prefix, creds[\"user\"], creds[\"password\"]))\n",
    "samples[\"Reference\"] = path_to_custom_ref"
   ]
  },
  {
   "cell_type": "code",
   "execution_count": 259,
   "metadata": {},
   "outputs": [
    {
     "data": {
      "text/html": [
       "<div>\n",
       "<style scoped>\n",
       "    .dataframe tbody tr th:only-of-type {\n",
       "        vertical-align: middle;\n",
       "    }\n",
       "\n",
       "    .dataframe tbody tr th {\n",
       "        vertical-align: top;\n",
       "    }\n",
       "\n",
       "    .dataframe thead th {\n",
       "        text-align: right;\n",
       "    }\n",
       "</style>\n",
       "<table border=\"1\" class=\"dataframe\">\n",
       "  <thead>\n",
       "    <tr style=\"text-align: right;\">\n",
       "      <th></th>\n",
       "      <th>S3_Path</th>\n",
       "      <th>Sample_ID</th>\n",
       "      <th>FASTQs_GEX</th>\n",
       "      <th>FASTQs_CPL</th>\n",
       "      <th>Reference</th>\n",
       "    </tr>\n",
       "  </thead>\n",
       "  <tbody>\n",
       "    <tr>\n",
       "      <th>YL-1487_YL-1485-1223</th>\n",
       "      <td>s3://dp-lab-data/collaborators/joyne...</td>\n",
       "      <td>3572</td>\n",
       "      <td>{'All': ['s3://dp-lab-data/collabora...</td>\n",
       "      <td>{'All': ['s3://dp-lab-data/collabora...</td>\n",
       "      <td>https://dp-lab-data.s3.amazonaws.com...</td>\n",
       "    </tr>\n",
       "  </tbody>\n",
       "</table>\n",
       "</div>"
      ],
      "text/plain": [
       "                                                      S3_Path  Sample_ID  \\\n",
       "YL-1487_YL-1485-1223  s3://dp-lab-data/collaborators/joyne...       3572   \n",
       "\n",
       "                                                   FASTQs_GEX  \\\n",
       "YL-1487_YL-1485-1223  {'All': ['s3://dp-lab-data/collabora...   \n",
       "\n",
       "                                                   FASTQs_CPL  \\\n",
       "YL-1487_YL-1485-1223  {'All': ['s3://dp-lab-data/collabora...   \n",
       "\n",
       "                                                    Reference  \n",
       "YL-1487_YL-1485-1223  https://dp-lab-data.s3.amazonaws.com...  "
      ]
     },
     "execution_count": 259,
     "metadata": {},
     "output_type": "execute_result"
    }
   ],
   "source": [
    "samples"
   ]
  },
  {
   "cell_type": "code",
   "execution_count": 260,
   "metadata": {},
   "outputs": [],
   "source": [
    "cmo_files = get_cmo_files(samples, creds['user'], creds['password'])"
   ]
  },
  {
   "cell_type": "code",
   "execution_count": 261,
   "metadata": {},
   "outputs": [
    {
     "data": {
      "application/vnd.jupyter.widget-view+json": {
       "model_id": "d9f16f3791974a5b810688adefe0db96",
       "version_major": 2,
       "version_minor": 0
      },
      "text/plain": [
       "  0%|          | 0/1 [00:00<?, ?it/s]"
      ]
     },
     "metadata": {},
     "output_type": "display_data"
    }
   ],
   "source": [
    "for name, files in tqdm(cmo_files.items()):\n",
    "    \n",
    "    for file, ftype in zip(files, ['map', 'ref']):\n",
    "        \n",
    "        # Set file locations\n",
    "        filename = f\"{name}.cmo-{ftype}.csv\"\n",
    "        local_path = f\"{barcodes_path}/{filename}\"\n",
    "        s3_path = f\"{samples.loc[name, 'S3_Path']}/{output_dirname}/{filename}\"\n",
    "        \n",
    "        # Write to file and upload\n",
    "        file.to_csv(local_path, index=False) # Save to file\n",
    "        subprocess.run(f\"aws s3 cp {local_path} {s3_path} --quiet\".split()) # Upload to S3\n",
    "        samples.loc[name, f\"CMO_{ftype}\"] = s3_path # Modify samples"
   ]
  },
  {
   "cell_type": "code",
   "execution_count": 262,
   "metadata": {},
   "outputs": [],
   "source": [
    "# Load minimum inputs and labels fields from templates\n",
    "with open(f\"{config_dir}/template.inputs.json\") as f:\n",
    "    std_inputs_fields = list(json.load(f).keys())\n",
    "    \n",
    "with open(f\"{config_dir}/template.labels.json\") as f:\n",
    "    std_labels_fields = list(json.load(f).keys())\n",
    "    \n",
    "# Annotate all samples with workflow inputs and labels\n",
    "inputs = pd.DataFrame(index=samples.index, columns=std_inputs_fields,)\n",
    "labels = pd.DataFrame(index=samples.index, columns=std_labels_fields,)\n",
    "\n",
    "# Annotate inputs\n",
    "inputs[f\"{prefix}.runName\"] = inputs.index # may need to change\n",
    "inputs[f\"{prefix}.gexFastqFiles\"] = samples[\"FASTQs_GEX\"].apply(lambda x: np.ravel(list(x.values())))\n",
    "inputs[f\"{prefix}.gexFastqName\"] = inputs[f\"{prefix}.gexFastqFiles\"].apply(lambda x: get_fastqs_name(x))\n",
    "inputs[f\"{prefix}.muxFastqFiles\"] = samples[\"FASTQs_CPL\"].apply(lambda x: np.ravel(list(x.values())))\n",
    "inputs[f\"{prefix}.muxFastqName\"] = inputs[f\"{prefix}.muxFastqFiles\"].apply(lambda x: get_fastqs_name(x))\n",
    "inputs[f\"{prefix}.sampleCmoMap\"] = samples[\"CMO_map\"]\n",
    "inputs[f\"{prefix}.cmoReference\"] = samples[\"CMO_ref\"]\n",
    "inputs[f\"{prefix}.minAssignmentConfidence\"] = 0.9\n",
    "inputs[f\"{prefix}.includeIntrons\"] = False\n",
    "inputs[f\"{prefix}.expectCells\"] = 3000\n",
    "inputs[f\"{prefix}.reference\"] = samples[\"Reference\"]                                 \n",
    "inputs[f\"{prefix}.dockerRegistry\"] = common_docker_registry\n",
    "\n",
    "# Annotate labels\n",
    "labels[\"pipelineType\"] = pipeline_type\n",
    "labels[\"project\"] = samples[\"Sample_ID\"].apply(lambda x: get_project_id(x, creds[\"user\"], creds[\"password\"]))\n",
    "labels[\"sample\"] = labels.index\n",
    "labels[\"owner\"] = creds[\"user\"]\n",
    "labels[\"destination\"] = samples['S3_Path'] + \"/\" + output_dirname\n",
    "labels[\"transfer\"] = \"-\"\n",
    "labels[\"comment\"] = creds[\"user\"]\n",
    "\n",
    "assert (std_inputs_fields == list(inputs.columns)) & (inputs.notna().values.all())\n",
    "assert (std_labels_fields == list(labels.columns)) & (labels.notna().values.all())"
   ]
  },
  {
   "cell_type": "code",
   "execution_count": 263,
   "metadata": {},
   "outputs": [
    {
     "data": {
      "text/html": [
       "<div>\n",
       "<style scoped>\n",
       "    .dataframe tbody tr th:only-of-type {\n",
       "        vertical-align: middle;\n",
       "    }\n",
       "\n",
       "    .dataframe tbody tr th {\n",
       "        vertical-align: top;\n",
       "    }\n",
       "\n",
       "    .dataframe thead th {\n",
       "        text-align: right;\n",
       "    }\n",
       "</style>\n",
       "<table border=\"1\" class=\"dataframe\">\n",
       "  <thead>\n",
       "    <tr style=\"text-align: right;\">\n",
       "      <th></th>\n",
       "      <th>CellRangerCellPlex.runName</th>\n",
       "      <th>CellRangerCellPlex.gexFastqName</th>\n",
       "      <th>CellRangerCellPlex.gexFastqFiles</th>\n",
       "      <th>CellRangerCellPlex.muxFastqName</th>\n",
       "      <th>CellRangerCellPlex.muxFastqFiles</th>\n",
       "      <th>CellRangerCellPlex.minAssignmentConfidence</th>\n",
       "      <th>CellRangerCellPlex.cmoReference</th>\n",
       "      <th>CellRangerCellPlex.sampleCmoMap</th>\n",
       "      <th>CellRangerCellPlex.reference</th>\n",
       "      <th>CellRangerCellPlex.includeIntrons</th>\n",
       "      <th>CellRangerCellPlex.expectCells</th>\n",
       "      <th>CellRangerCellPlex.dockerRegistry</th>\n",
       "    </tr>\n",
       "  </thead>\n",
       "  <tbody>\n",
       "    <tr>\n",
       "      <th>YL-1487_YL-1485-1223</th>\n",
       "      <td>YL-1487_YL-1485-1223</td>\n",
       "      <td>3572_YL-1487_YL-1485-1223_IGO_12437_...</td>\n",
       "      <td>[s3://dp-lab-data/collaborators/joyn...</td>\n",
       "      <td>3572_YL-1487_YL-1485-1223_CPL_IGO_12...</td>\n",
       "      <td>[s3://dp-lab-data/collaborators/joyn...</td>\n",
       "      <td>0.9</td>\n",
       "      <td>s3://dp-lab-data/collaborators/joyne...</td>\n",
       "      <td>s3://dp-lab-data/collaborators/joyne...</td>\n",
       "      <td>https://dp-lab-data.s3.amazonaws.com...</td>\n",
       "      <td>False</td>\n",
       "      <td>3000</td>\n",
       "      <td>quay.io/hisplan</td>\n",
       "    </tr>\n",
       "  </tbody>\n",
       "</table>\n",
       "</div>"
      ],
      "text/plain": [
       "                     CellRangerCellPlex.runName  \\\n",
       "YL-1487_YL-1485-1223       YL-1487_YL-1485-1223   \n",
       "\n",
       "                              CellRangerCellPlex.gexFastqName  \\\n",
       "YL-1487_YL-1485-1223  3572_YL-1487_YL-1485-1223_IGO_12437_...   \n",
       "\n",
       "                             CellRangerCellPlex.gexFastqFiles  \\\n",
       "YL-1487_YL-1485-1223  [s3://dp-lab-data/collaborators/joyn...   \n",
       "\n",
       "                              CellRangerCellPlex.muxFastqName  \\\n",
       "YL-1487_YL-1485-1223  3572_YL-1487_YL-1485-1223_CPL_IGO_12...   \n",
       "\n",
       "                             CellRangerCellPlex.muxFastqFiles  \\\n",
       "YL-1487_YL-1485-1223  [s3://dp-lab-data/collaborators/joyn...   \n",
       "\n",
       "                      CellRangerCellPlex.minAssignmentConfidence  \\\n",
       "YL-1487_YL-1485-1223                                      0.9      \n",
       "\n",
       "                              CellRangerCellPlex.cmoReference  \\\n",
       "YL-1487_YL-1485-1223  s3://dp-lab-data/collaborators/joyne...   \n",
       "\n",
       "                              CellRangerCellPlex.sampleCmoMap  \\\n",
       "YL-1487_YL-1485-1223  s3://dp-lab-data/collaborators/joyne...   \n",
       "\n",
       "                                 CellRangerCellPlex.reference  \\\n",
       "YL-1487_YL-1485-1223  https://dp-lab-data.s3.amazonaws.com...   \n",
       "\n",
       "                      CellRangerCellPlex.includeIntrons  \\\n",
       "YL-1487_YL-1485-1223                              False   \n",
       "\n",
       "                      CellRangerCellPlex.expectCells  \\\n",
       "YL-1487_YL-1485-1223                            3000   \n",
       "\n",
       "                     CellRangerCellPlex.dockerRegistry  \n",
       "YL-1487_YL-1485-1223                   quay.io/hisplan  "
      ]
     },
     "execution_count": 263,
     "metadata": {},
     "output_type": "execute_result"
    }
   ],
   "source": [
    "inputs"
   ]
  },
  {
   "cell_type": "code",
   "execution_count": 264,
   "metadata": {},
   "outputs": [
    {
     "data": {
      "text/html": [
       "<div>\n",
       "<style scoped>\n",
       "    .dataframe tbody tr th:only-of-type {\n",
       "        vertical-align: middle;\n",
       "    }\n",
       "\n",
       "    .dataframe tbody tr th {\n",
       "        vertical-align: top;\n",
       "    }\n",
       "\n",
       "    .dataframe thead th {\n",
       "        text-align: right;\n",
       "    }\n",
       "</style>\n",
       "<table border=\"1\" class=\"dataframe\">\n",
       "  <thead>\n",
       "    <tr style=\"text-align: right;\">\n",
       "      <th></th>\n",
       "      <th>pipelineType</th>\n",
       "      <th>project</th>\n",
       "      <th>sample</th>\n",
       "      <th>owner</th>\n",
       "      <th>destination</th>\n",
       "      <th>transfer</th>\n",
       "      <th>comment</th>\n",
       "    </tr>\n",
       "  </thead>\n",
       "  <tbody>\n",
       "    <tr>\n",
       "      <th>YL-1487_YL-1485-1223</th>\n",
       "      <td>CellRangerCellPlex</td>\n",
       "      <td>VE ectopic activation of HH signaling</td>\n",
       "      <td>YL-1487_YL-1485-1223</td>\n",
       "      <td>moormana</td>\n",
       "      <td>s3://dp-lab-data/collaborators/joyne...</td>\n",
       "      <td>-</td>\n",
       "      <td>moormana</td>\n",
       "    </tr>\n",
       "  </tbody>\n",
       "</table>\n",
       "</div>"
      ],
      "text/plain": [
       "                            pipelineType  \\\n",
       "YL-1487_YL-1485-1223  CellRangerCellPlex   \n",
       "\n",
       "                                                    project  \\\n",
       "YL-1487_YL-1485-1223  VE ectopic activation of HH signaling   \n",
       "\n",
       "                                    sample     owner  \\\n",
       "YL-1487_YL-1485-1223  YL-1487_YL-1485-1223  moormana   \n",
       "\n",
       "                                                  destination transfer  \\\n",
       "YL-1487_YL-1485-1223  s3://dp-lab-data/collaborators/joyne...        -   \n",
       "\n",
       "                       comment  \n",
       "YL-1487_YL-1485-1223  moormana  "
      ]
     },
     "execution_count": 264,
     "metadata": {},
     "output_type": "execute_result"
    }
   ],
   "source": [
    "labels"
   ]
  },
  {
   "cell_type": "code",
   "execution_count": 265,
   "metadata": {
    "tags": []
   },
   "outputs": [
    {
     "data": {
      "application/vnd.jupyter.widget-view+json": {
       "model_id": "e86825c63bcb47448f0663961399a562",
       "version_major": 2,
       "version_minor": 0
      },
      "text/plain": [
       "  0%|          | 0/1 [00:00<?, ?it/s]"
      ]
     },
     "metadata": {},
     "output_type": "display_data"
    }
   ],
   "source": [
    "stdouts = [] # to store all outputs\n",
    "process = True\n",
    "\n",
    "with tqdm(samples.index) as t:\n",
    "\n",
    "    for sample_name in t:\n",
    "\n",
    "        # Write inputs and labels to file\n",
    "        path_to_inputs = f\"{config_dir}/{sample_name}.inputs.json\"\n",
    "        with open(path_to_inputs, \"w\") as f_inputs:\n",
    "            json.dump(inputs.loc[sample_name].to_dict(), f_inputs, indent=4, cls=NpEncoder)\n",
    "\n",
    "        path_to_labels = f\"{config_dir}/{sample_name}.labels.json\"\n",
    "        with open(path_to_labels, \"w\") as f_labels:\n",
    "            json.dump(labels.loc[sample_name].to_dict(), f_labels, indent=4, cls=NpEncoder)\n",
    "\n",
    "        if process:\n",
    "            stdouts.append(run(\n",
    "                workflow_path = workflow_dir,\n",
    "                execp = \"submit.sh\",\n",
    "                secrets = path_to_cromwell_secrets,\n",
    "                inputs = path_to_inputs,\n",
    "                labels = path_to_labels,\n",
    "                options = path_to_options,\n",
    "            ))"
   ]
  },
  {
   "cell_type": "code",
   "execution_count": 266,
   "metadata": {},
   "outputs": [
    {
     "data": {
      "text/plain": [
       "[{'args': ['/Users/moormana/scing/bin/cellranger-cellplex-6.1.2/submit.sh',\n",
       "   '-k',\n",
       "   '/Users/moormana/.cromwell/cromwell-secrets.json',\n",
       "   '-i',\n",
       "   '/Users/moormana/scing/bin/cellranger-cellplex-6.1.2/configs/YL-1487_YL-1485-1223.inputs.json',\n",
       "   '-l',\n",
       "   '/Users/moormana/scing/bin/cellranger-cellplex-6.1.2/configs/YL-1487_YL-1485-1223.labels.json',\n",
       "   '-o',\n",
       "   '/Users/moormana/scing/bin/cellranger-cellplex-6.1.2/CellRangerCellPlex.options.aws.json'],\n",
       "  'returncode': 0,\n",
       "  'stdout': '{\"id\":\"0e250b2b-c87a-4cea-b927-3b6b2c4c234f\",\"status\":\"Submitted\"}\\n',\n",
       "  'stderr': ''}]"
      ]
     },
     "execution_count": 266,
     "metadata": {},
     "output_type": "execute_result"
    }
   ],
   "source": [
    "stdouts"
   ]
  },
  {
   "cell_type": "code",
   "execution_count": null,
   "metadata": {},
   "outputs": [],
   "source": []
  }
 ],
 "metadata": {
  "kernelspec": {
   "display_name": "Python 3 (ipykernel)",
   "language": "python",
   "name": "python3"
  },
  "language_info": {
   "codemirror_mode": {
    "name": "ipython",
    "version": 3
   },
   "file_extension": ".py",
   "mimetype": "text/x-python",
   "name": "python",
   "nbconvert_exporter": "python",
   "pygments_lexer": "ipython3",
   "version": "3.8.12"
  }
 },
 "nbformat": 4,
 "nbformat_minor": 4
}
